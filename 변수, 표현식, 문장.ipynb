{
 "cells": [
  {
   "cell_type": "markdown",
   "metadata": {},
   "source": [
    "**상수(Constants)**\n",
    "\n",
    " 상수는 값이 변하지 않습니다. "
   ]
  },
  {
   "cell_type": "code",
   "execution_count": 3,
   "metadata": {},
   "outputs": [
    {
     "name": "stdout",
     "output_type": "stream",
     "text": [
      "123\n",
      "98.6\n",
      "Hello World\n"
     ]
    }
   ],
   "source": [
    "print(123)\n",
    "print(98.6)\n",
    "print('Hello World')"
   ]
  },
  {
   "cell_type": "markdown",
   "metadata": {},
   "source": [
    "**예약어(Reserved Words)**\n",
    "\n",
    "파이썬이 정한 의미로만 쓰이는 특별한 단어입니다. 예를 들어, 파이썬이 if라는 예약어를 만나게 되면 조건문을 실행하게 됩니다.\n",
    "\n",
    "예약어의 종류는 첨부된 링크에서 확인하세요.\n",
    "\n",
    " \n",
    "\n",
    "**변수(Variables)**\n",
    "\n",
    "우리는 메모리에 사람이 이해 할 수 있는 변수명으로 원하는 데이터를 넣을 수 있는 공간을 확보 할 수 있습니다."
   ]
  },
  {
   "cell_type": "code",
   "execution_count": 4,
   "metadata": {},
   "outputs": [
    {
     "name": "stdout",
     "output_type": "stream",
     "text": [
      "12.2\n",
      "100\n"
     ]
    }
   ],
   "source": [
    "x = 12.2\n",
    "print(x)\n",
    "y= 14\n",
    "x= 100\n",
    "print(x)"
   ]
  },
  {
   "cell_type": "markdown",
   "metadata": {},
   "source": [
    "- x, y : 메모리에 할당된 변수의 이름\n",
    "- = : 할당자이며 해당 변수에 특정 값을 넣어주는 역할을 합니다. (화살표로 생각하세요.)\n",
    "-  12.2, 14 : 값이며 해당 변수에 우리가 넣은 값입니다.<br>\n",
    "변수로 선언 한뒤 해당 변수에 넣을 수 있는 값은 바꿀 수 있습니다."
   ]
  },
  {
   "cell_type": "markdown",
   "metadata": {},
   "source": [
    "**변수의 이름을 정하는 규칙**\n",
    "\n",
    "1. 반드시 문자 또는 underscore( _ )로 시작합니다. (숫자로 시작할 수 없습니다.)\n",
    "2. 문자와 숫자 underscore( _ )를 포함할 수 있습니다.\n",
    "3. 읽는 사람이 읽기 편하도록 변수명을 정하는 것이 중요합니다."
   ]
  },
  {
   "cell_type": "code",
   "execution_count": 10,
   "metadata": {},
   "outputs": [
    {
     "name": "stdout",
     "output_type": "stream",
     "text": [
      "437.5\n",
      "437.5\n",
      "437.5\n"
     ]
    }
   ],
   "source": [
    "#Case1 - Worst\n",
    "xiojqwerlkj  = 35.0\n",
    "dpemdnlem = 12.50\n",
    "rlaxotjs = xiojqwerlkj * dpemdnlem\n",
    "print(rlaxotjs)\n",
    "\n",
    "# Case2 = bad\n",
    "a=35.0\n",
    "b=12.50\n",
    "c= a*b\n",
    "print(c)\n",
    "\n",
    "#Case3 - Good\n",
    "hours = 35.0\n",
    "rate = 12.50\n",
    "pay = hours * rate\n",
    "print(pay)"
   ]
  },
  {
   "cell_type": "markdown",
   "metadata": {},
   "source": [
    "**할당문 (Assignment Statements)**\n",
    "\n",
    "대입문은 오른쪽 표현의 결과를 왼쪽의 변수에 저장하는 것으로 구성되어 있습니다. "
   ]
  },
  {
   "cell_type": "code",
   "execution_count": 12,
   "metadata": {},
   "outputs": [
    {
     "name": "stdout",
     "output_type": "stream",
     "text": [
      "0.9359999999999999\n",
      "0.2336256000000002\n"
     ]
    }
   ],
   "source": [
    "x= 0.6\n",
    "x= 3.9*x*(1-x)\n",
    "print(x)\n",
    "\n",
    "x=3.9*x*(1-x)\n",
    "print(x)"
   ]
  },
  {
   "cell_type": "code",
   "execution_count": null,
   "metadata": {},
   "outputs": [],
   "source": []
  }
 ],
 "metadata": {
  "kernelspec": {
   "display_name": "Python 3",
   "language": "python",
   "name": "python3"
  },
  "language_info": {
   "codemirror_mode": {
    "name": "ipython",
    "version": 3
   },
   "file_extension": ".py",
   "mimetype": "text/x-python",
   "name": "python",
   "nbconvert_exporter": "python",
   "pygments_lexer": "ipython3",
   "version": "3.7.6"
  },
  "toc": {
   "base_numbering": 1,
   "nav_menu": {},
   "number_sections": true,
   "sideBar": true,
   "skip_h1_title": false,
   "title_cell": "Table of Contents",
   "title_sidebar": "Contents",
   "toc_cell": false,
   "toc_position": {},
   "toc_section_display": true,
   "toc_window_display": false
  }
 },
 "nbformat": 4,
 "nbformat_minor": 4
}
