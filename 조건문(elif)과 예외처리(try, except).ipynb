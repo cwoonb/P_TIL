{
 "cells": [
  {
   "cell_type": "code",
   "execution_count": 3,
   "metadata": {},
   "outputs": [
    {
     "name": "stdout",
     "output_type": "stream",
     "text": [
      "smaller\n"
     ]
    }
   ],
   "source": [
    "x= 5\n",
    "if x <10:\n",
    "    print('smaller')"
   ]
  },
  {
   "cell_type": "code",
   "execution_count": 4,
   "metadata": {},
   "outputs": [
    {
     "name": "stdout",
     "output_type": "stream",
     "text": [
      "smaller\n"
     ]
    }
   ],
   "source": [
    "x= 5\n",
    "if x<10:\n",
    "    print('smaller')"
   ]
  },
  {
   "cell_type": "code",
   "execution_count": 17,
   "metadata": {},
   "outputs": [
    {
     "ename": "SyntaxError",
     "evalue": "invalid syntax (<ipython-input-17-2d41aeff4764>, line 1)",
     "output_type": "error",
     "traceback": [
      "\u001b[1;36m  File \u001b[1;32m\"<ipython-input-17-2d41aeff4764>\"\u001b[1;36m, line \u001b[1;32m1\u001b[0m\n\u001b[1;33m    File \"part2.py\", line 4\u001b[0m\n\u001b[1;37m                  ^\u001b[0m\n\u001b[1;31mSyntaxError\u001b[0m\u001b[1;31m:\u001b[0m invalid syntax\n"
     ]
    }
   ],
   "source": [
    "  File \"part2.py\", line 4\n",
    "    print('Smaller')"
   ]
  },
  {
   "cell_type": "code",
   "execution_count": 9,
   "metadata": {
    "scrolled": true
   },
   "outputs": [
    {
     "name": "stdout",
     "output_type": "stream",
     "text": [
      "smaller\n"
     ]
    }
   ],
   "source": [
    "x= 5\n",
    "\n",
    "if x<10:\n",
    "    print('smaller')"
   ]
  },
  {
   "cell_type": "code",
   "execution_count": 14,
   "metadata": {},
   "outputs": [
    {
     "name": "stdout",
     "output_type": "stream",
     "text": [
      "smaller\n"
     ]
    }
   ],
   "source": [
    "x= 5\n",
    "\n",
    "if x <10:\n",
    "    print('smaller')\n",
    "else:\n",
    "        print('bigger')"
   ]
  },
  {
   "cell_type": "code",
   "execution_count": 20,
   "metadata": {},
   "outputs": [
    {
     "name": "stdout",
     "output_type": "stream",
     "text": [
      "Huge\n"
     ]
    }
   ],
   "source": [
    "x= 66 \n",
    "\n",
    "if x <2 :\n",
    "    print('small')\n",
    "elif x<10:\n",
    "    print('Medium')\n",
    "elif x<20:\n",
    "    print('big')\n",
    "elif x<40:\n",
    "    print('large')\n",
    "elif x<100:\n",
    "    print('Huge')\n",
    "else:\n",
    "    print('Ginormous')"
   ]
  },
  {
   "cell_type": "code",
   "execution_count": 21,
   "metadata": {},
   "outputs": [
    {
     "name": "stdout",
     "output_type": "stream",
     "text": [
      "hello\n",
      "world\n"
     ]
    }
   ],
   "source": [
    "astr = '123'\n",
    "\n",
    "try:\n",
    "    print('hello')\n",
    "    inst = int(astr)\n",
    "    print('world')\n",
    "except:\n",
    "    islnt='integer로 변환할 수 없습니다.'\n",
    "\n",
    "    print('Done', islnt)"
   ]
  },
  {
   "cell_type": "code",
   "execution_count": 24,
   "metadata": {},
   "outputs": [
    {
     "name": "stdout",
     "output_type": "stream",
     "text": [
      "enter hours:19\n",
      "enter Rate:4500\n",
      "pay 85500.0\n"
     ]
    }
   ],
   "source": [
    "sh = input('enter hours:')\n",
    "sr = input('enter Rate:')\n",
    "fh = float(sh)\n",
    "fr = float(sr)\n",
    "\n",
    "if fh >40:\n",
    "    reg = fr *fh\n",
    "    otp = (fh -40.0) * (fr*0.5)\n",
    "    xp = reg + otp\n",
    "else:\n",
    "    xp = fh*fr\n",
    "print('pay',xp)"
   ]
  },
  {
   "cell_type": "code",
   "execution_count": 28,
   "metadata": {},
   "outputs": [
    {
     "name": "stdout",
     "output_type": "stream",
     "text": [
      "enter hours:19\n",
      "enter rate:4500\n",
      "pay 85500.0\n"
     ]
    }
   ],
   "source": [
    "sh = input('enter hours:')\n",
    "sr = input('enter rate:')\n",
    "\n",
    "try:\n",
    "    fh= float(sh)\n",
    "    fr= float(sr)\n",
    "except:\n",
    "    print('error, please enter numeric input')\n",
    "    quit()\n",
    "    \n",
    "if fh>40:\n",
    "    reg = fr*fh\n",
    "    otp = (fh-40.0)*(fr*0.5)\n",
    "    xp= reg+otp\n",
    "else:\n",
    "    xp= fh*fr\n",
    "print('pay', xp)"
   ]
  },
  {
   "cell_type": "code",
   "execution_count": 29,
   "metadata": {},
   "outputs": [
    {
     "name": "stdout",
     "output_type": "stream",
     "text": [
      "super\n"
     ]
    }
   ],
   "source": [
    "x = 29\n",
    "\n",
    "if x <10:\n",
    "    print('small')\n",
    "elif x<20:\n",
    "    print('medium')\n",
    "elif x<40:\n",
    "    print('super')\n",
    "elif x<30:\n",
    "    print('large')\n",
    "else:\n",
    "    print('super large')"
   ]
  },
  {
   "cell_type": "code",
   "execution_count": null,
   "metadata": {},
   "outputs": [],
   "source": []
  }
 ],
 "metadata": {
  "kernelspec": {
   "display_name": "Python 3",
   "language": "python",
   "name": "python3"
  },
  "language_info": {
   "codemirror_mode": {
    "name": "ipython",
    "version": 3
   },
   "file_extension": ".py",
   "mimetype": "text/x-python",
   "name": "python",
   "nbconvert_exporter": "python",
   "pygments_lexer": "ipython3",
   "version": "3.7.6"
  },
  "toc": {
   "base_numbering": 1,
   "nav_menu": {},
   "number_sections": true,
   "sideBar": true,
   "skip_h1_title": false,
   "title_cell": "Table of Contents",
   "title_sidebar": "Contents",
   "toc_cell": false,
   "toc_position": {},
   "toc_section_display": true,
   "toc_window_display": false
  }
 },
 "nbformat": 4,
 "nbformat_minor": 4
}
