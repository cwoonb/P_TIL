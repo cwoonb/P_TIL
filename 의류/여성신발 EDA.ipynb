{
 "cells": [
  {
   "cell_type": "markdown",
   "metadata": {},
   "source": [
    "데이터(kaggle): https://www.kaggle.com/datafiniti/womens-shoes-prices"
   ]
  },
  {
   "cell_type": "markdown",
   "metadata": {},
   "source": [
    "<img src=https://pds.joins.com/news/component/moneytoday/201509/15/2015091511430393911_1.jpg width=\"500\">"
   ]
  },
  {
   "cell_type": "markdown",
   "metadata": {},
   "source": [
    "# 여성신발 가격 EDA"
   ]
  },
  {
   "cell_type": "code",
   "execution_count": 1,
   "metadata": {
    "_cell_guid": "b1076dfc-b9ad-4769-8c92-a6c4dae69d19",
    "_uuid": "8f2839f25d086af736a60e9eeb907d3b93b6e0e5"
   },
   "outputs": [
    {
     "name": "stdout",
     "output_type": "stream",
     "text": [
      "data/7210_1.csv\n",
      "data/Datafiniti_Womens_Shoes.csv\n",
      "data/Datafiniti_Womens_Shoes_Jun19.csv\n"
     ]
    }
   ],
   "source": [
    "import numpy as np \n",
    "import pandas as pd \n",
    "import os\n",
    "for dirname, _, filenames in os.walk('data/'):\n",
    "    for filename in filenames:\n",
    "        print(os.path.join(dirname, filename))"
   ]
  },
  {
   "cell_type": "code",
   "execution_count": 2,
   "metadata": {},
   "outputs": [],
   "source": [
    "import pandas as pd\n",
    "import numpy as np\n",
    "import matplotlib.pyplot as plt\n",
    "import seaborn as sns"
   ]
  },
  {
   "cell_type": "code",
   "execution_count": 4,
   "metadata": {
    "_cell_guid": "79c7e3d0-c299-4dcb-8224-4455121ee9b0",
    "_uuid": "d629ff2d2480ee46fbb7e2d37f6b5fab8052498a",
    "scrolled": true
   },
   "outputs": [
    {
     "name": "stderr",
     "output_type": "stream",
     "text": [
      "C:\\Anaconda3_64\\lib\\site-packages\\IPython\\core\\interactiveshell.py:3063: DtypeWarning: Columns (13,16,18,22,24,32,33,40,41,47,51) have mixed types.Specify dtype option on import or set low_memory=False.\n",
      "  interactivity=interactivity, compiler=compiler, result=result)\n"
     ]
    }
   ],
   "source": [
    "df_women_shoes = pd.read_csv(\"data/7210_1.csv\")"
   ]
  },
  {
   "cell_type": "code",
   "execution_count": 5,
   "metadata": {},
   "outputs": [
    {
     "data": {
      "text/html": [
       "<div>\n",
       "<style scoped>\n",
       "    .dataframe tbody tr th:only-of-type {\n",
       "        vertical-align: middle;\n",
       "    }\n",
       "\n",
       "    .dataframe tbody tr th {\n",
       "        vertical-align: top;\n",
       "    }\n",
       "\n",
       "    .dataframe thead th {\n",
       "        text-align: right;\n",
       "    }\n",
       "</style>\n",
       "<table border=\"1\" class=\"dataframe\">\n",
       "  <thead>\n",
       "    <tr style=\"text-align: right;\">\n",
       "      <th></th>\n",
       "      <th>id</th>\n",
       "      <th>asins</th>\n",
       "      <th>brand</th>\n",
       "      <th>categories</th>\n",
       "      <th>colors</th>\n",
       "      <th>count</th>\n",
       "      <th>dateAdded</th>\n",
       "      <th>dateUpdated</th>\n",
       "      <th>descriptions</th>\n",
       "      <th>dimension</th>\n",
       "      <th>...</th>\n",
       "      <th>skus</th>\n",
       "      <th>sourceURLs</th>\n",
       "      <th>upc</th>\n",
       "      <th>vin</th>\n",
       "      <th>websiteIDs</th>\n",
       "      <th>weight</th>\n",
       "      <th>Unnamed: 48</th>\n",
       "      <th>Unnamed: 49</th>\n",
       "      <th>Unnamed: 50</th>\n",
       "      <th>Unnamed: 51</th>\n",
       "    </tr>\n",
       "  </thead>\n",
       "  <tbody>\n",
       "    <tr>\n",
       "      <th>30698</th>\n",
       "      <td>AVsUugyJQMlgsOJE7G4I</td>\n",
       "      <td>NaN</td>\n",
       "      <td>Soft Style</td>\n",
       "      <td>Sandals,Shoes,Women's Shoes</td>\n",
       "      <td>NaN</td>\n",
       "      <td>NaN</td>\n",
       "      <td>2017-03-28T11:43:08Z</td>\n",
       "      <td>2017-03-28T11:43:08Z</td>\n",
       "      <td>[{\"dateSeen\":[\"2017-03-25T12:25:08.125Z\"],\"sou...</td>\n",
       "      <td>NaN</td>\n",
       "      <td>...</td>\n",
       "      <td>[{\"sourceURLs\":[\"https://www.overstock.com/Clo...</td>\n",
       "      <td>https://www.overstock.com/Clothing-Shoes/Women...</td>\n",
       "      <td>NaN</td>\n",
       "      <td>NaN</td>\n",
       "      <td>NaN</td>\n",
       "      <td>NaN</td>\n",
       "      <td>NaN</td>\n",
       "      <td>NaN</td>\n",
       "      <td>NaN</td>\n",
       "      <td>NaN</td>\n",
       "    </tr>\n",
       "    <tr>\n",
       "      <th>19703</th>\n",
       "      <td>AVph3jgRLJeJML43fukl</td>\n",
       "      <td>NaN</td>\n",
       "      <td>Lamo</td>\n",
       "      <td>Shoes,Women's Shoes,Women's Slippers,Lamo</td>\n",
       "      <td>Pink</td>\n",
       "      <td>NaN</td>\n",
       "      <td>2015-09-21T12:21:46Z</td>\n",
       "      <td>2017-03-06T15:44:59Z</td>\n",
       "      <td>[{\"dateSeen\":[\"2017-03-25T13:50:36.811Z\"],\"sou...</td>\n",
       "      <td>NaN</td>\n",
       "      <td>...</td>\n",
       "      <td>[{\"sourceURLs\":[\"https://www.overstock.com/Clo...</td>\n",
       "      <td>https://www.overstock.com/Clothing-Shoes/Women...</td>\n",
       "      <td>NaN</td>\n",
       "      <td>NaN</td>\n",
       "      <td>NaN</td>\n",
       "      <td>NaN</td>\n",
       "      <td>NaN</td>\n",
       "      <td>NaN</td>\n",
       "      <td>NaN</td>\n",
       "      <td>NaN</td>\n",
       "    </tr>\n",
       "    <tr>\n",
       "      <th>21452</th>\n",
       "      <td>AVphTS731cnluZ0-AzRe</td>\n",
       "      <td>NaN</td>\n",
       "      <td>OM</td>\n",
       "      <td>Shoes,Wedges,Women's Shoes,Sandals</td>\n",
       "      <td>Brown,Grey</td>\n",
       "      <td>NaN</td>\n",
       "      <td>2016-04-11T20:26:39Z</td>\n",
       "      <td>2017-03-06T15:41:19Z</td>\n",
       "      <td>[{\"dateSeen\":[\"2017-03-25T13:48:14.622Z\"],\"sou...</td>\n",
       "      <td>NaN</td>\n",
       "      <td>...</td>\n",
       "      <td>[{\"sourceURLs\":[\"https://www.overstock.com/Clo...</td>\n",
       "      <td>https://www.overstock.com/Clothing-Shoes/Olivi...</td>\n",
       "      <td>NaN</td>\n",
       "      <td>NaN</td>\n",
       "      <td>NaN</td>\n",
       "      <td>NaN</td>\n",
       "      <td>NaN</td>\n",
       "      <td>NaN</td>\n",
       "      <td>NaN</td>\n",
       "      <td>NaN</td>\n",
       "    </tr>\n",
       "    <tr>\n",
       "      <th>32900</th>\n",
       "      <td>AVsUuXCTnnc1JgDc4LoF</td>\n",
       "      <td>NaN</td>\n",
       "      <td>A2 by Aerosoles</td>\n",
       "      <td>Heels,Shoes,Women's Shoes</td>\n",
       "      <td>NaN</td>\n",
       "      <td>NaN</td>\n",
       "      <td>2017-03-28T11:42:29Z</td>\n",
       "      <td>2017-03-28T11:42:29Z</td>\n",
       "      <td>[{\"dateSeen\":[\"2017-03-25T11:58:28.935Z\"],\"sou...</td>\n",
       "      <td>NaN</td>\n",
       "      <td>...</td>\n",
       "      <td>[{\"sourceURLs\":[\"https://www.overstock.com/Clo...</td>\n",
       "      <td>https://www.overstock.com/Clothing-Shoes/Women...</td>\n",
       "      <td>NaN</td>\n",
       "      <td>NaN</td>\n",
       "      <td>NaN</td>\n",
       "      <td>NaN</td>\n",
       "      <td>NaN</td>\n",
       "      <td>NaN</td>\n",
       "      <td>NaN</td>\n",
       "      <td>NaN</td>\n",
       "    </tr>\n",
       "    <tr>\n",
       "      <th>29696</th>\n",
       "      <td>AVsUu2JPnnc1JgDc4L1c</td>\n",
       "      <td>NaN</td>\n",
       "      <td>Pin Up</td>\n",
       "      <td>Sandals,Shoes,Women's Shoes</td>\n",
       "      <td>NaN</td>\n",
       "      <td>NaN</td>\n",
       "      <td>2017-03-28T11:44:36Z</td>\n",
       "      <td>2017-03-28T11:44:36Z</td>\n",
       "      <td>[{\"dateSeen\":[\"2017-03-25T14:10:22.911Z\"],\"sou...</td>\n",
       "      <td>NaN</td>\n",
       "      <td>...</td>\n",
       "      <td>[{\"sourceURLs\":[\"https://www.overstock.com/Clo...</td>\n",
       "      <td>https://www.overstock.com/Clothing-Shoes/Women...</td>\n",
       "      <td>NaN</td>\n",
       "      <td>NaN</td>\n",
       "      <td>NaN</td>\n",
       "      <td>NaN</td>\n",
       "      <td>NaN</td>\n",
       "      <td>NaN</td>\n",
       "      <td>NaN</td>\n",
       "      <td>NaN</td>\n",
       "    </tr>\n",
       "    <tr>\n",
       "      <th>33143</th>\n",
       "      <td>AVsUuycennc1JgDc4L0K</td>\n",
       "      <td>NaN</td>\n",
       "      <td>Pink Paradox London</td>\n",
       "      <td>Shoes,Wedges,Women's Shoes</td>\n",
       "      <td>NaN</td>\n",
       "      <td>NaN</td>\n",
       "      <td>2017-03-28T11:44:21Z</td>\n",
       "      <td>2017-03-28T11:44:21Z</td>\n",
       "      <td>[{\"dateSeen\":[\"2017-03-25T14:00:56.646Z\"],\"sou...</td>\n",
       "      <td>NaN</td>\n",
       "      <td>...</td>\n",
       "      <td>[{\"sourceURLs\":[\"https://www.overstock.com/Clo...</td>\n",
       "      <td>https://www.overstock.com/Clothing-Shoes/Women...</td>\n",
       "      <td>NaN</td>\n",
       "      <td>NaN</td>\n",
       "      <td>NaN</td>\n",
       "      <td>NaN</td>\n",
       "      <td>NaN</td>\n",
       "      <td>NaN</td>\n",
       "      <td>NaN</td>\n",
       "      <td>NaN</td>\n",
       "    </tr>\n",
       "    <tr>\n",
       "      <th>33336</th>\n",
       "      <td>AVsUuylDnnc1JgDc4L0W</td>\n",
       "      <td>NaN</td>\n",
       "      <td>Gabor</td>\n",
       "      <td>Shoes,Slip-ons,Women's Shoes</td>\n",
       "      <td>NaN</td>\n",
       "      <td>NaN</td>\n",
       "      <td>2017-03-28T11:44:21Z</td>\n",
       "      <td>2017-03-28T11:44:21Z</td>\n",
       "      <td>[{\"dateSeen\":[\"2017-03-25T14:02:42.215Z\"],\"sou...</td>\n",
       "      <td>NaN</td>\n",
       "      <td>...</td>\n",
       "      <td>[{\"sourceURLs\":[\"https://www.overstock.com/Clo...</td>\n",
       "      <td>https://www.overstock.com/Clothing-Shoes/Women...</td>\n",
       "      <td>NaN</td>\n",
       "      <td>NaN</td>\n",
       "      <td>NaN</td>\n",
       "      <td>NaN</td>\n",
       "      <td>NaN</td>\n",
       "      <td>NaN</td>\n",
       "      <td>NaN</td>\n",
       "      <td>NaN</td>\n",
       "    </tr>\n",
       "    <tr>\n",
       "      <th>18477</th>\n",
       "      <td>AVpgTDVeilAPnD_xqeeA</td>\n",
       "      <td>NaN</td>\n",
       "      <td>Chaps</td>\n",
       "      <td>Shoes,Women's Shoes,Clothing,All Women's Shoes</td>\n",
       "      <td>Brown</td>\n",
       "      <td>NaN</td>\n",
       "      <td>2016-11-02T20:06:50Z</td>\n",
       "      <td>2016-11-02T20:06:50Z</td>\n",
       "      <td>[{\"dateSeen\":[\"2016-11-02T20:06:50Z\"],\"sourceU...</td>\n",
       "      <td>NaN</td>\n",
       "      <td>...</td>\n",
       "      <td>NaN</td>\n",
       "      <td>https://www.walmart.com/ip/Chaps-Gari-Women-US...</td>\n",
       "      <td>8.888760e+11</td>\n",
       "      <td>NaN</td>\n",
       "      <td>NaN</td>\n",
       "      <td>NaN</td>\n",
       "      <td>NaN</td>\n",
       "      <td>NaN</td>\n",
       "      <td>NaN</td>\n",
       "      <td>NaN</td>\n",
       "    </tr>\n",
       "    <tr>\n",
       "      <th>24165</th>\n",
       "      <td>AVpjBNxkLJeJML43rMek</td>\n",
       "      <td>B005DROMX6,B0059A265S</td>\n",
       "      <td>Bloch</td>\n",
       "      <td>Clothing,,Women,Shoes,Athletic</td>\n",
       "      <td>Silver,Black,Graphite,Purple Multi,Purple,Blue...</td>\n",
       "      <td>NaN</td>\n",
       "      <td>2016-05-17T04:11:27Z</td>\n",
       "      <td>2017-04-13T20:49:41Z</td>\n",
       "      <td>NaN</td>\n",
       "      <td>NaN</td>\n",
       "      <td>...</td>\n",
       "      <td>NaN</td>\n",
       "      <td>https://www.amazon.com/Bloch-Wave-Dance-Sneake...</td>\n",
       "      <td>NaN</td>\n",
       "      <td>NaN</td>\n",
       "      <td>NaN</td>\n",
       "      <td>NaN</td>\n",
       "      <td>NaN</td>\n",
       "      <td>NaN</td>\n",
       "      <td>NaN</td>\n",
       "      <td>NaN</td>\n",
       "    </tr>\n",
       "    <tr>\n",
       "      <th>125</th>\n",
       "      <td>AVpe_BdrilAPnD_xSYgF</td>\n",
       "      <td>NaN</td>\n",
       "      <td>Dyeables</td>\n",
       "      <td>Heels,Shoes,Women's Shoes,Dyeables</td>\n",
       "      <td>White</td>\n",
       "      <td>NaN</td>\n",
       "      <td>2015-09-21T12:31:58Z</td>\n",
       "      <td>2017-03-06T15:42:19Z</td>\n",
       "      <td>[{\"dateSeen\":[\"2017-03-25T13:43:02.946Z\"],\"sou...</td>\n",
       "      <td>NaN</td>\n",
       "      <td>...</td>\n",
       "      <td>[{\"sourceURLs\":[\"https://www.overstock.com/Clo...</td>\n",
       "      <td>https://www.overstock.com/Clothing-Shoes/Women...</td>\n",
       "      <td>NaN</td>\n",
       "      <td>NaN</td>\n",
       "      <td>NaN</td>\n",
       "      <td>NaN</td>\n",
       "      <td>NaN</td>\n",
       "      <td>NaN</td>\n",
       "      <td>NaN</td>\n",
       "      <td>NaN</td>\n",
       "    </tr>\n",
       "  </tbody>\n",
       "</table>\n",
       "<p>10 rows × 52 columns</p>\n",
       "</div>"
      ],
      "text/plain": [
       "                         id                  asins                brand  \\\n",
       "30698  AVsUugyJQMlgsOJE7G4I                    NaN           Soft Style   \n",
       "19703  AVph3jgRLJeJML43fukl                    NaN                 Lamo   \n",
       "21452  AVphTS731cnluZ0-AzRe                    NaN                   OM   \n",
       "32900  AVsUuXCTnnc1JgDc4LoF                    NaN      A2 by Aerosoles   \n",
       "29696  AVsUu2JPnnc1JgDc4L1c                    NaN               Pin Up   \n",
       "33143  AVsUuycennc1JgDc4L0K                    NaN  Pink Paradox London   \n",
       "33336  AVsUuylDnnc1JgDc4L0W                    NaN                Gabor   \n",
       "18477  AVpgTDVeilAPnD_xqeeA                    NaN                Chaps   \n",
       "24165  AVpjBNxkLJeJML43rMek  B005DROMX6,B0059A265S                Bloch   \n",
       "125    AVpe_BdrilAPnD_xSYgF                    NaN             Dyeables   \n",
       "\n",
       "                                           categories  \\\n",
       "30698                     Sandals,Shoes,Women's Shoes   \n",
       "19703       Shoes,Women's Shoes,Women's Slippers,Lamo   \n",
       "21452              Shoes,Wedges,Women's Shoes,Sandals   \n",
       "32900                       Heels,Shoes,Women's Shoes   \n",
       "29696                     Sandals,Shoes,Women's Shoes   \n",
       "33143                      Shoes,Wedges,Women's Shoes   \n",
       "33336                    Shoes,Slip-ons,Women's Shoes   \n",
       "18477  Shoes,Women's Shoes,Clothing,All Women's Shoes   \n",
       "24165                  Clothing,,Women,Shoes,Athletic   \n",
       "125                Heels,Shoes,Women's Shoes,Dyeables   \n",
       "\n",
       "                                                  colors  count  \\\n",
       "30698                                                NaN    NaN   \n",
       "19703                                               Pink    NaN   \n",
       "21452                                         Brown,Grey    NaN   \n",
       "32900                                                NaN    NaN   \n",
       "29696                                                NaN    NaN   \n",
       "33143                                                NaN    NaN   \n",
       "33336                                                NaN    NaN   \n",
       "18477                                              Brown    NaN   \n",
       "24165  Silver,Black,Graphite,Purple Multi,Purple,Blue...    NaN   \n",
       "125                                                White    NaN   \n",
       "\n",
       "                  dateAdded           dateUpdated  \\\n",
       "30698  2017-03-28T11:43:08Z  2017-03-28T11:43:08Z   \n",
       "19703  2015-09-21T12:21:46Z  2017-03-06T15:44:59Z   \n",
       "21452  2016-04-11T20:26:39Z  2017-03-06T15:41:19Z   \n",
       "32900  2017-03-28T11:42:29Z  2017-03-28T11:42:29Z   \n",
       "29696  2017-03-28T11:44:36Z  2017-03-28T11:44:36Z   \n",
       "33143  2017-03-28T11:44:21Z  2017-03-28T11:44:21Z   \n",
       "33336  2017-03-28T11:44:21Z  2017-03-28T11:44:21Z   \n",
       "18477  2016-11-02T20:06:50Z  2016-11-02T20:06:50Z   \n",
       "24165  2016-05-17T04:11:27Z  2017-04-13T20:49:41Z   \n",
       "125    2015-09-21T12:31:58Z  2017-03-06T15:42:19Z   \n",
       "\n",
       "                                            descriptions dimension  ...  \\\n",
       "30698  [{\"dateSeen\":[\"2017-03-25T12:25:08.125Z\"],\"sou...       NaN  ...   \n",
       "19703  [{\"dateSeen\":[\"2017-03-25T13:50:36.811Z\"],\"sou...       NaN  ...   \n",
       "21452  [{\"dateSeen\":[\"2017-03-25T13:48:14.622Z\"],\"sou...       NaN  ...   \n",
       "32900  [{\"dateSeen\":[\"2017-03-25T11:58:28.935Z\"],\"sou...       NaN  ...   \n",
       "29696  [{\"dateSeen\":[\"2017-03-25T14:10:22.911Z\"],\"sou...       NaN  ...   \n",
       "33143  [{\"dateSeen\":[\"2017-03-25T14:00:56.646Z\"],\"sou...       NaN  ...   \n",
       "33336  [{\"dateSeen\":[\"2017-03-25T14:02:42.215Z\"],\"sou...       NaN  ...   \n",
       "18477  [{\"dateSeen\":[\"2016-11-02T20:06:50Z\"],\"sourceU...       NaN  ...   \n",
       "24165                                                NaN       NaN  ...   \n",
       "125    [{\"dateSeen\":[\"2017-03-25T13:43:02.946Z\"],\"sou...       NaN  ...   \n",
       "\n",
       "                                                    skus  \\\n",
       "30698  [{\"sourceURLs\":[\"https://www.overstock.com/Clo...   \n",
       "19703  [{\"sourceURLs\":[\"https://www.overstock.com/Clo...   \n",
       "21452  [{\"sourceURLs\":[\"https://www.overstock.com/Clo...   \n",
       "32900  [{\"sourceURLs\":[\"https://www.overstock.com/Clo...   \n",
       "29696  [{\"sourceURLs\":[\"https://www.overstock.com/Clo...   \n",
       "33143  [{\"sourceURLs\":[\"https://www.overstock.com/Clo...   \n",
       "33336  [{\"sourceURLs\":[\"https://www.overstock.com/Clo...   \n",
       "18477                                                NaN   \n",
       "24165                                                NaN   \n",
       "125    [{\"sourceURLs\":[\"https://www.overstock.com/Clo...   \n",
       "\n",
       "                                              sourceURLs           upc vin  \\\n",
       "30698  https://www.overstock.com/Clothing-Shoes/Women...           NaN NaN   \n",
       "19703  https://www.overstock.com/Clothing-Shoes/Women...           NaN NaN   \n",
       "21452  https://www.overstock.com/Clothing-Shoes/Olivi...           NaN NaN   \n",
       "32900  https://www.overstock.com/Clothing-Shoes/Women...           NaN NaN   \n",
       "29696  https://www.overstock.com/Clothing-Shoes/Women...           NaN NaN   \n",
       "33143  https://www.overstock.com/Clothing-Shoes/Women...           NaN NaN   \n",
       "33336  https://www.overstock.com/Clothing-Shoes/Women...           NaN NaN   \n",
       "18477  https://www.walmart.com/ip/Chaps-Gari-Women-US...  8.888760e+11 NaN   \n",
       "24165  https://www.amazon.com/Bloch-Wave-Dance-Sneake...           NaN NaN   \n",
       "125    https://www.overstock.com/Clothing-Shoes/Women...           NaN NaN   \n",
       "\n",
       "       websiteIDs weight Unnamed: 48 Unnamed: 49 Unnamed: 50 Unnamed: 51  \n",
       "30698         NaN    NaN         NaN         NaN         NaN         NaN  \n",
       "19703         NaN    NaN         NaN         NaN         NaN         NaN  \n",
       "21452         NaN    NaN         NaN         NaN         NaN         NaN  \n",
       "32900         NaN    NaN         NaN         NaN         NaN         NaN  \n",
       "29696         NaN    NaN         NaN         NaN         NaN         NaN  \n",
       "33143         NaN    NaN         NaN         NaN         NaN         NaN  \n",
       "33336         NaN    NaN         NaN         NaN         NaN         NaN  \n",
       "18477         NaN    NaN         NaN         NaN         NaN         NaN  \n",
       "24165         NaN    NaN         NaN         NaN         NaN         NaN  \n",
       "125           NaN    NaN         NaN         NaN         NaN         NaN  \n",
       "\n",
       "[10 rows x 52 columns]"
      ]
     },
     "execution_count": 5,
     "metadata": {},
     "output_type": "execute_result"
    }
   ],
   "source": [
    "df_women_shoes.sample(10)"
   ]
  },
  {
   "cell_type": "code",
   "execution_count": 5,
   "metadata": {},
   "outputs": [
    {
     "name": "stdout",
     "output_type": "stream",
     "text": [
      "<class 'pandas.core.frame.DataFrame'>\n",
      "RangeIndex: 33801 entries, 0 to 33800\n",
      "Data columns (total 52 columns):\n",
      "id                     33801 non-null object\n",
      "asins                  2422 non-null object\n",
      "brand                  32817 non-null object\n",
      "categories             33801 non-null object\n",
      "colors                 19844 non-null object\n",
      "count                  0 non-null float64\n",
      "dateAdded              33801 non-null object\n",
      "dateUpdated            33801 non-null object\n",
      "descriptions           28425 non-null object\n",
      "dimension              1177 non-null object\n",
      "ean                    9778 non-null float64\n",
      "features               27181 non-null object\n",
      "flavors                0 non-null float64\n",
      "imageURLs              22309 non-null object\n",
      "isbn                   0 non-null float64\n",
      "keys                   33801 non-null object\n",
      "manufacturer           9279 non-null object\n",
      "manufacturerNumber     31434 non-null object\n",
      "merchants              15382 non-null object\n",
      "name                   33801 non-null object\n",
      "prices.amountMin       33801 non-null float64\n",
      "prices.amountMax       33801 non-null float64\n",
      "prices.availability    307 non-null object\n",
      "prices.color           17421 non-null object\n",
      "prices.condition       12015 non-null object\n",
      "prices.count           0 non-null float64\n",
      "prices.currency        33801 non-null object\n",
      "prices.dateAdded       33801 non-null object\n",
      "prices.dateSeen        33801 non-null object\n",
      "prices.flavor          0 non-null float64\n",
      "prices.isSale          33801 non-null bool\n",
      "prices.merchant        29926 non-null object\n",
      "prices.offer           6798 non-null object\n",
      "prices.returnPolicy    1374 non-null object\n",
      "prices.shipping        3948 non-null object\n",
      "prices.size            15391 non-null object\n",
      "prices.source          0 non-null float64\n",
      "prices.sourceURLs      33801 non-null object\n",
      "prices.warranty        0 non-null float64\n",
      "quantities             18490 non-null object\n",
      "reviews                4188 non-null object\n",
      "sizes                  8602 non-null object\n",
      "skus                   22135 non-null object\n",
      "sourceURLs             33801 non-null object\n",
      "upc                    10724 non-null float64\n",
      "vin                    0 non-null float64\n",
      "websiteIDs             0 non-null float64\n",
      "weight                 1263 non-null object\n",
      "Unnamed: 48            0 non-null float64\n",
      "Unnamed: 49            0 non-null float64\n",
      "Unnamed: 50            0 non-null float64\n",
      "Unnamed: 51            1 non-null object\n",
      "dtypes: bool(1), float64(16), object(35)\n",
      "memory usage: 13.2+ MB\n"
     ]
    }
   ],
   "source": [
    "df_women_shoes.info()"
   ]
  },
  {
   "cell_type": "code",
   "execution_count": 6,
   "metadata": {},
   "outputs": [],
   "source": [
    "columns = ['brand', 'prices.amountMin', 'prices.amountMax', 'prices.isSale', 'prices.currency']"
   ]
  },
  {
   "cell_type": "code",
   "execution_count": 7,
   "metadata": {},
   "outputs": [
    {
     "data": {
      "text/plain": [
       "(33801, 5)"
      ]
     },
     "execution_count": 7,
     "metadata": {},
     "output_type": "execute_result"
    }
   ],
   "source": [
    "df_women_shoes = df_women_shoes[columns]\n",
    "df_women_shoes.shape"
   ]
  },
  {
   "cell_type": "code",
   "execution_count": 8,
   "metadata": {},
   "outputs": [
    {
     "name": "stdout",
     "output_type": "stream",
     "text": [
      "<class 'pandas.core.frame.DataFrame'>\n",
      "RangeIndex: 33801 entries, 0 to 33800\n",
      "Data columns (total 5 columns):\n",
      " #   Column            Non-Null Count  Dtype  \n",
      "---  ------            --------------  -----  \n",
      " 0   brand             32817 non-null  object \n",
      " 1   prices.amountMin  33801 non-null  float64\n",
      " 2   prices.amountMax  33801 non-null  float64\n",
      " 3   prices.isSale     33801 non-null  bool   \n",
      " 4   prices.currency   33801 non-null  object \n",
      "dtypes: bool(1), float64(2), object(2)\n",
      "memory usage: 1.1+ MB\n"
     ]
    }
   ],
   "source": [
    "df_women_shoes.info()"
   ]
  },
  {
   "cell_type": "code",
   "execution_count": 9,
   "metadata": {},
   "outputs": [
    {
     "data": {
      "text/plain": [
       "(32817, 5)"
      ]
     },
     "execution_count": 9,
     "metadata": {},
     "output_type": "execute_result"
    }
   ],
   "source": [
    "df_women_shoes.dropna(inplace=True)\n",
    "df_women_shoes.shape"
   ]
  },
  {
   "cell_type": "code",
   "execution_count": 10,
   "metadata": {},
   "outputs": [
    {
     "name": "stdout",
     "output_type": "stream",
     "text": [
      "AUD 11\n",
      "CAD 46\n",
      "EUR 91\n",
      "GBP 1\n",
      "USD 32668\n"
     ]
    }
   ],
   "source": [
    "for currency, subset in df_women_shoes.groupby('prices.currency'):\n",
    "    print(currency,len(subset))"
   ]
  },
  {
   "cell_type": "code",
   "execution_count": 11,
   "metadata": {},
   "outputs": [
    {
     "data": {
      "text/html": [
       "<div>\n",
       "<style scoped>\n",
       "    .dataframe tbody tr th:only-of-type {\n",
       "        vertical-align: middle;\n",
       "    }\n",
       "\n",
       "    .dataframe tbody tr th {\n",
       "        vertical-align: top;\n",
       "    }\n",
       "\n",
       "    .dataframe thead th {\n",
       "        text-align: right;\n",
       "    }\n",
       "</style>\n",
       "<table border=\"1\" class=\"dataframe\">\n",
       "  <thead>\n",
       "    <tr style=\"text-align: right;\">\n",
       "      <th></th>\n",
       "      <th>brand</th>\n",
       "      <th>prices.amountMin</th>\n",
       "      <th>prices.amountMax</th>\n",
       "      <th>prices.isSale</th>\n",
       "      <th>prices.currency</th>\n",
       "    </tr>\n",
       "  </thead>\n",
       "  <tbody>\n",
       "    <tr>\n",
       "      <th>34</th>\n",
       "      <td>Collonil</td>\n",
       "      <td>8.99</td>\n",
       "      <td>8.99</td>\n",
       "      <td>False</td>\n",
       "      <td>CAD</td>\n",
       "    </tr>\n",
       "    <tr>\n",
       "      <th>1010</th>\n",
       "      <td>Puma</td>\n",
       "      <td>80.00</td>\n",
       "      <td>80.00</td>\n",
       "      <td>False</td>\n",
       "      <td>EUR</td>\n",
       "    </tr>\n",
       "    <tr>\n",
       "      <th>1011</th>\n",
       "      <td>Puma</td>\n",
       "      <td>48.00</td>\n",
       "      <td>48.00</td>\n",
       "      <td>True</td>\n",
       "      <td>EUR</td>\n",
       "    </tr>\n",
       "    <tr>\n",
       "      <th>1258</th>\n",
       "      <td>Puma</td>\n",
       "      <td>70.00</td>\n",
       "      <td>70.00</td>\n",
       "      <td>False</td>\n",
       "      <td>EUR</td>\n",
       "    </tr>\n",
       "    <tr>\n",
       "      <th>1398</th>\n",
       "      <td>Bandolino</td>\n",
       "      <td>79.00</td>\n",
       "      <td>79.00</td>\n",
       "      <td>False</td>\n",
       "      <td>CAD</td>\n",
       "    </tr>\n",
       "    <tr>\n",
       "      <th>...</th>\n",
       "      <td>...</td>\n",
       "      <td>...</td>\n",
       "      <td>...</td>\n",
       "      <td>...</td>\n",
       "      <td>...</td>\n",
       "    </tr>\n",
       "    <tr>\n",
       "      <th>22404</th>\n",
       "      <td>Puma</td>\n",
       "      <td>40.00</td>\n",
       "      <td>40.00</td>\n",
       "      <td>True</td>\n",
       "      <td>EUR</td>\n",
       "    </tr>\n",
       "    <tr>\n",
       "      <th>22456</th>\n",
       "      <td>Puma</td>\n",
       "      <td>120.00</td>\n",
       "      <td>120.00</td>\n",
       "      <td>False</td>\n",
       "      <td>EUR</td>\n",
       "    </tr>\n",
       "    <tr>\n",
       "      <th>22457</th>\n",
       "      <td>Puma</td>\n",
       "      <td>84.00</td>\n",
       "      <td>84.00</td>\n",
       "      <td>True</td>\n",
       "      <td>EUR</td>\n",
       "    </tr>\n",
       "    <tr>\n",
       "      <th>23995</th>\n",
       "      <td>Bloch</td>\n",
       "      <td>121.00</td>\n",
       "      <td>121.00</td>\n",
       "      <td>False</td>\n",
       "      <td>CAD</td>\n",
       "    </tr>\n",
       "    <tr>\n",
       "      <th>23996</th>\n",
       "      <td>Bloch</td>\n",
       "      <td>83.99</td>\n",
       "      <td>83.99</td>\n",
       "      <td>True</td>\n",
       "      <td>CAD</td>\n",
       "    </tr>\n",
       "  </tbody>\n",
       "</table>\n",
       "<p>149 rows × 5 columns</p>\n",
       "</div>"
      ],
      "text/plain": [
       "           brand  prices.amountMin  prices.amountMax  prices.isSale  \\\n",
       "34      Collonil              8.99              8.99          False   \n",
       "1010        Puma             80.00             80.00          False   \n",
       "1011        Puma             48.00             48.00           True   \n",
       "1258        Puma             70.00             70.00          False   \n",
       "1398   Bandolino             79.00             79.00          False   \n",
       "...          ...               ...               ...            ...   \n",
       "22404       Puma             40.00             40.00           True   \n",
       "22456       Puma            120.00            120.00          False   \n",
       "22457       Puma             84.00             84.00           True   \n",
       "23995      Bloch            121.00            121.00          False   \n",
       "23996      Bloch             83.99             83.99           True   \n",
       "\n",
       "      prices.currency  \n",
       "34                CAD  \n",
       "1010              EUR  \n",
       "1011              EUR  \n",
       "1258              EUR  \n",
       "1398              CAD  \n",
       "...               ...  \n",
       "22404             EUR  \n",
       "22456             EUR  \n",
       "22457             EUR  \n",
       "23995             CAD  \n",
       "23996             CAD  \n",
       "\n",
       "[149 rows x 5 columns]"
      ]
     },
     "execution_count": 11,
     "metadata": {},
     "output_type": "execute_result"
    }
   ],
   "source": [
    "df_women_shoes[df_women_shoes['prices.currency']!='USD']"
   ]
  },
  {
   "cell_type": "markdown",
   "metadata": {},
   "source": [
    "금액을 통일하기 위해 모든 통화를 USD로 변환"
   ]
  },
  {
   "cell_type": "markdown",
   "metadata": {},
   "source": [
    "## 통화 통일"
   ]
  },
  {
   "cell_type": "code",
   "execution_count": 22,
   "metadata": {},
   "outputs": [],
   "source": [
    "for row in df_women_shoes.head().itertuples():\n",
    "    #print(row._5)\n",
    "    if row._5 == 'USD':\n",
    "        pass\n",
    "    elif row._5 == 'GBP':\n",
    "        df_women_shoes['prices.amountMin'][row.index] *= 1.3\n",
    "        df_women_shoes['prices.amountMax'][row.index] *= 1.3\n",
    "        df_women_shoes['prices.isSale'][row.index] *= 1.3\n",
    "    elif row._5 == 'EUR':\n",
    "        df_women_shoes['prices.amountMin'][row.index] *= 1.1\n",
    "        df_women_shoes['prices.amountMax'][row.index] *= 1.1\n",
    "        df_women_shoes['prices.isSale'][row.index] *= 1.1\n",
    "    elif row._5 == 'CAD':\n",
    "        df_women_shoes['prices.amountMin'][row.index] *= 0.73\n",
    "        df_women_shoes['prices.amountMax'][row.index] *= 0.73\n",
    "        df_women_shoes['prices.isSale'][row.index] *= 0.73\n",
    "    elif row._5 == 'AUD':\n",
    "        df_women_shoes['prices.amountMin'][row.index] *= 0.75\n",
    "        df_women_shoes['prices.amountMax'][row.index] *= 0.75\n",
    "        df_women_shoes['prices.isSale'][row.index] *= 0.75"
   ]
  },
  {
   "cell_type": "code",
   "execution_count": 23,
   "metadata": {},
   "outputs": [],
   "source": [
    "df_women_shoes['prices.average']= (df_women_shoes['prices.amountMin'] + df_women_shoes['prices.amountMax'])/2"
   ]
  },
  {
   "cell_type": "code",
   "execution_count": 24,
   "metadata": {},
   "outputs": [
    {
     "data": {
      "text/html": [
       "<div>\n",
       "<style scoped>\n",
       "    .dataframe tbody tr th:only-of-type {\n",
       "        vertical-align: middle;\n",
       "    }\n",
       "\n",
       "    .dataframe tbody tr th {\n",
       "        vertical-align: top;\n",
       "    }\n",
       "\n",
       "    .dataframe thead th {\n",
       "        text-align: right;\n",
       "    }\n",
       "</style>\n",
       "<table border=\"1\" class=\"dataframe\">\n",
       "  <thead>\n",
       "    <tr style=\"text-align: right;\">\n",
       "      <th></th>\n",
       "      <th>brand</th>\n",
       "      <th>prices.amountMin</th>\n",
       "      <th>prices.amountMax</th>\n",
       "      <th>prices.isSale</th>\n",
       "      <th>prices.currency</th>\n",
       "      <th>prices.average</th>\n",
       "    </tr>\n",
       "  </thead>\n",
       "  <tbody>\n",
       "    <tr>\n",
       "      <th>0</th>\n",
       "      <td>Novica</td>\n",
       "      <td>62.99</td>\n",
       "      <td>62.99</td>\n",
       "      <td>False</td>\n",
       "      <td>USD</td>\n",
       "      <td>62.99</td>\n",
       "    </tr>\n",
       "    <tr>\n",
       "      <th>1</th>\n",
       "      <td>Novica</td>\n",
       "      <td>62.99</td>\n",
       "      <td>62.99</td>\n",
       "      <td>False</td>\n",
       "      <td>USD</td>\n",
       "      <td>62.99</td>\n",
       "    </tr>\n",
       "    <tr>\n",
       "      <th>2</th>\n",
       "      <td>Novica</td>\n",
       "      <td>62.99</td>\n",
       "      <td>62.99</td>\n",
       "      <td>False</td>\n",
       "      <td>USD</td>\n",
       "      <td>62.99</td>\n",
       "    </tr>\n",
       "    <tr>\n",
       "      <th>3</th>\n",
       "      <td>Novica</td>\n",
       "      <td>62.99</td>\n",
       "      <td>62.99</td>\n",
       "      <td>False</td>\n",
       "      <td>USD</td>\n",
       "      <td>62.99</td>\n",
       "    </tr>\n",
       "    <tr>\n",
       "      <th>4</th>\n",
       "      <td>Novica</td>\n",
       "      <td>62.99</td>\n",
       "      <td>62.99</td>\n",
       "      <td>True</td>\n",
       "      <td>USD</td>\n",
       "      <td>62.99</td>\n",
       "    </tr>\n",
       "  </tbody>\n",
       "</table>\n",
       "</div>"
      ],
      "text/plain": [
       "    brand  prices.amountMin  prices.amountMax  prices.isSale prices.currency  \\\n",
       "0  Novica             62.99             62.99          False             USD   \n",
       "1  Novica             62.99             62.99          False             USD   \n",
       "2  Novica             62.99             62.99          False             USD   \n",
       "3  Novica             62.99             62.99          False             USD   \n",
       "4  Novica             62.99             62.99           True             USD   \n",
       "\n",
       "   prices.average  \n",
       "0           62.99  \n",
       "1           62.99  \n",
       "2           62.99  \n",
       "3           62.99  \n",
       "4           62.99  "
      ]
     },
     "execution_count": 24,
     "metadata": {},
     "output_type": "execute_result"
    }
   ],
   "source": [
    "df_women_shoes.head()"
   ]
  },
  {
   "cell_type": "code",
   "execution_count": 14,
   "metadata": {},
   "outputs": [],
   "source": [
    "shoelist=[]\n",
    "for brand,subset in df_women_shoes.groupby('brand'):\n",
    "    shoelist.append([brand,subset['prices.amountMax'].mean(axis=0)])"
   ]
  },
  {
   "cell_type": "code",
   "execution_count": 18,
   "metadata": {},
   "outputs": [
    {
     "data": {
      "text/html": [
       "<div>\n",
       "<style scoped>\n",
       "    .dataframe tbody tr th:only-of-type {\n",
       "        vertical-align: middle;\n",
       "    }\n",
       "\n",
       "    .dataframe tbody tr th {\n",
       "        vertical-align: top;\n",
       "    }\n",
       "\n",
       "    .dataframe thead th {\n",
       "        text-align: right;\n",
       "    }\n",
       "</style>\n",
       "<table border=\"1\" class=\"dataframe\">\n",
       "  <thead>\n",
       "    <tr style=\"text-align: right;\">\n",
       "      <th></th>\n",
       "      <th>brand</th>\n",
       "      <th>avgprice</th>\n",
       "    </tr>\n",
       "  </thead>\n",
       "  <tbody>\n",
       "    <tr>\n",
       "      <th>0</th>\n",
       "      <td>1 World Sarongs</td>\n",
       "      <td>19.763913</td>\n",
       "    </tr>\n",
       "    <tr>\n",
       "      <th>1</th>\n",
       "      <td>143 GIRL</td>\n",
       "      <td>8.794000</td>\n",
       "    </tr>\n",
       "    <tr>\n",
       "      <th>2</th>\n",
       "      <td>143 Girl</td>\n",
       "      <td>25.993333</td>\n",
       "    </tr>\n",
       "    <tr>\n",
       "      <th>3</th>\n",
       "      <td>2 Lips Too</td>\n",
       "      <td>46.950000</td>\n",
       "    </tr>\n",
       "    <tr>\n",
       "      <th>4</th>\n",
       "      <td>361</td>\n",
       "      <td>80.000000</td>\n",
       "    </tr>\n",
       "  </tbody>\n",
       "</table>\n",
       "</div>"
      ],
      "text/plain": [
       "             brand   avgprice\n",
       "0  1 World Sarongs  19.763913\n",
       "1         143 GIRL   8.794000\n",
       "2         143 Girl  25.993333\n",
       "3       2 Lips Too  46.950000\n",
       "4              361  80.000000"
      ]
     },
     "execution_count": 18,
     "metadata": {},
     "output_type": "execute_result"
    }
   ],
   "source": [
    "dfshoes= pd.DataFrame(shoelist,columns=['brand','avgprice'])\n",
    "dfshoes.head()"
   ]
  },
  {
   "cell_type": "code",
   "execution_count": 16,
   "metadata": {},
   "outputs": [
    {
     "data": {
      "text/html": [
       "<div>\n",
       "<style scoped>\n",
       "    .dataframe tbody tr th:only-of-type {\n",
       "        vertical-align: middle;\n",
       "    }\n",
       "\n",
       "    .dataframe tbody tr th {\n",
       "        vertical-align: top;\n",
       "    }\n",
       "\n",
       "    .dataframe thead th {\n",
       "        text-align: right;\n",
       "    }\n",
       "</style>\n",
       "<table border=\"1\" class=\"dataframe\">\n",
       "  <thead>\n",
       "    <tr style=\"text-align: right;\">\n",
       "      <th></th>\n",
       "      <th>brand</th>\n",
       "      <th>avgprice</th>\n",
       "    </tr>\n",
       "  </thead>\n",
       "  <tbody>\n",
       "    <tr>\n",
       "      <th>643</th>\n",
       "      <td>JewelsObsession</td>\n",
       "      <td>3322.190000</td>\n",
       "    </tr>\n",
       "    <tr>\n",
       "      <th>1197</th>\n",
       "      <td>Teva</td>\n",
       "      <td>1355.578000</td>\n",
       "    </tr>\n",
       "    <tr>\n",
       "      <th>1274</th>\n",
       "      <td>Valentino</td>\n",
       "      <td>1186.998000</td>\n",
       "    </tr>\n",
       "    <tr>\n",
       "      <th>1107</th>\n",
       "      <td>Simone Rocha</td>\n",
       "      <td>1120.000000</td>\n",
       "    </tr>\n",
       "    <tr>\n",
       "      <th>768</th>\n",
       "      <td>MALONE SOULIERS</td>\n",
       "      <td>1100.000000</td>\n",
       "    </tr>\n",
       "    <tr>\n",
       "      <th>894</th>\n",
       "      <td>Nicholas Kirkwood</td>\n",
       "      <td>1095.000000</td>\n",
       "    </tr>\n",
       "    <tr>\n",
       "      <th>806</th>\n",
       "      <td>Marni</td>\n",
       "      <td>963.333333</td>\n",
       "    </tr>\n",
       "    <tr>\n",
       "      <th>959</th>\n",
       "      <td>Paul Andrew</td>\n",
       "      <td>895.000000</td>\n",
       "    </tr>\n",
       "    <tr>\n",
       "      <th>1146</th>\n",
       "      <td>Stella McCartney</td>\n",
       "      <td>885.000000</td>\n",
       "    </tr>\n",
       "    <tr>\n",
       "      <th>277</th>\n",
       "      <td>Christian Louboutin</td>\n",
       "      <td>867.333333</td>\n",
       "    </tr>\n",
       "  </tbody>\n",
       "</table>\n",
       "</div>"
      ],
      "text/plain": [
       "                    brand     avgprice\n",
       "643       JewelsObsession  3322.190000\n",
       "1197                 Teva  1355.578000\n",
       "1274            Valentino  1186.998000\n",
       "1107         Simone Rocha  1120.000000\n",
       "768       MALONE SOULIERS  1100.000000\n",
       "894     Nicholas Kirkwood  1095.000000\n",
       "806                 Marni   963.333333\n",
       "959           Paul Andrew   895.000000\n",
       "1146     Stella McCartney   885.000000\n",
       "277   Christian Louboutin   867.333333"
      ]
     },
     "execution_count": 16,
     "metadata": {},
     "output_type": "execute_result"
    }
   ],
   "source": [
    "# 평균값으로 만들어 준다. \n",
    "dfshoes.sort_values('avgprice',ascending=False,axis=0,inplace=True)\n",
    "dfshoes.head(10)"
   ]
  },
  {
   "cell_type": "markdown",
   "metadata": {},
   "source": [
    "## TOP10 Brnad plot"
   ]
  },
  {
   "cell_type": "code",
   "execution_count": 26,
   "metadata": {},
   "outputs": [
    {
     "data": {
      "text/plain": [
       "array([ 1,  2,  3,  4,  5,  6,  7,  8,  9, 10])"
      ]
     },
     "execution_count": 26,
     "metadata": {},
     "output_type": "execute_result"
    }
   ],
   "source": [
    "arr"
   ]
  },
  {
   "cell_type": "code",
   "execution_count": 33,
   "metadata": {},
   "outputs": [],
   "source": [
    "dfshoes=dfshoes.sort_values('avgprice',ascending=False)"
   ]
  },
  {
   "cell_type": "code",
   "execution_count": 34,
   "metadata": {
    "scrolled": false
   },
   "outputs": [
    {
     "data": {
      "image/png": "[encoded data removed]",
      "text/plain": [
       "<Figure size 720x432 with 1 Axes>"
      ]
     },
     "metadata": {
      "needs_background": "light"
     },
     "output_type": "display_data"
    }
   ],
   "source": [
    "arr = np.arange(1,11)\n",
    "plt.figure(figsize=(10,6))\n",
    "plt.barh(arr,dfshoes['avgprice'].head(10), tick_label=dfshoes['brand'].head(10))\n",
    "plt.gca().invert_yaxis()\n",
    "plt.ylabel('Brands', fontsize =12)\n",
    "plt.isinteractive=True"
   ]
  },
  {
   "cell_type": "code",
   "execution_count": 35,
   "metadata": {},
   "outputs": [
    {
     "data": {
      "image/png": "[encoded data removed]",
      "text/plain": [
       "<Figure size 720x432 with 1 Axes>"
      ]
     },
     "metadata": {
      "needs_background": "light"
     },
     "output_type": "display_data"
    }
   ],
   "source": [
    "ax = dfshoes.head(10).plot(kind='barh',figsize=(10,6))\n",
    "\n",
    "plt.ylabel('Brands',fontsize=12)\n",
    "ax.invert_yaxis()\n",
    "plt.title('Most experience average price brand')\n",
    "plt.show()"
   ]
  },
  {
   "cell_type": "code",
   "execution_count": 20,
   "metadata": {},
   "outputs": [
    {
     "data": {
      "image/png": "[encoded data removed]",
      "text/plain": [
       "<Figure size 720x432 with 1 Axes>"
      ]
     },
     "metadata": {
      "needs_background": "light"
     },
     "output_type": "display_data"
    }
   ],
   "source": [
    "listrange =[]\n",
    "for brand, subset in df_women_shoes.groupby('brand'):\n",
    "    listrange.append([brand, abs(subset['prices.average'].max() - subset['prices.average'].min())])\n",
    "    \n",
    "dfpricerange = pd.DataFrame(listrange, columns=['brand','range'])\n",
    "dfpricerange.head(10)\n",
    "\n",
    "newdf = dfpricerange.sort_values('range', ascending = False, axis=0).head(10)\n",
    "newdf\n",
    "\n",
    "plt.figure(figsize=(10,6))\n",
    "plt.ylabel('Brands', fontsize=16)\n",
    "plt.barh(np.arange(10),newdf['range'],tick_label=newdf['brand'])\n",
    "plt.gca().invert_yaxis()\n",
    "plt.show()"
   ]
  },
  {
   "cell_type": "code",
   "execution_count": 36,
   "metadata": {
    "scrolled": true
   },
   "outputs": [
    {
     "data": {
      "image/png": "[encoded data removed]",
      "text/plain": [
       "<Figure size 432x288 with 1 Axes>"
      ]
     },
     "metadata": {
      "needs_background": "light"
     },
     "output_type": "display_data"
    }
   ],
   "source": [
    "plt.hist(dfshoes['avgprice'],bins=50)\n",
    "plt.show()"
   ]
  },
  {
   "cell_type": "code",
   "execution_count": 37,
   "metadata": {},
   "outputs": [
    {
     "name": "stdout",
     "output_type": "stream",
     "text": [
      "0 Journee Collection\n",
      "1 Ralph Lauren\n",
      "2 Skechers\n",
      "3 Propet\n",
      "4 Nike\n",
      "5 Novica\n",
      "6 Easy Spirit\n",
      "7 TOMS\n",
      "8 Drew\n",
      "9 Soft Style\n"
     ]
    },
    {
     "data": {
      "image/png": "[encoded data removed]",
      "text/plain": [
       "<Figure size 1080x432 with 10 Axes>"
      ]
     },
     "metadata": {
      "needs_background": "light"
     },
     "output_type": "display_data"
    }
   ],
   "source": [
    "fig,axs = plt.subplots(2,5,figsize=(15,6))\n",
    "\n",
    "for idx,brand in enumerate(df_women_shoes['brand'].value_counts().sort_values(ascending=False)[0:10].index):\n",
    "    print(idx,brand)\n",
    "    axs[idx//5,idx%5].hist(df_women_shoes[df_women_shoes['brand']==brand]['prices.average'], bins=20)\n",
    "    axs[idx//5,idx%5].set_title(brand)\n",
    "plt.suptitle(\"Shoe price pattern\")\n",
    "plt.tight_layout()\n",
    "fig.subplots_adjust(top=0.88)\n",
    "plt.show()"
   ]
  },
  {
   "cell_type": "code",
   "execution_count": 38,
   "metadata": {},
   "outputs": [
    {
     "data": {
      "text/html": [
       "<div>\n",
       "<style scoped>\n",
       "    .dataframe tbody tr th:only-of-type {\n",
       "        vertical-align: middle;\n",
       "    }\n",
       "\n",
       "    .dataframe tbody tr th {\n",
       "        vertical-align: top;\n",
       "    }\n",
       "\n",
       "    .dataframe thead th {\n",
       "        text-align: right;\n",
       "    }\n",
       "</style>\n",
       "<table border=\"1\" class=\"dataframe\">\n",
       "  <thead>\n",
       "    <tr style=\"text-align: right;\">\n",
       "      <th></th>\n",
       "      <th>brand</th>\n",
       "      <th>avgprice</th>\n",
       "    </tr>\n",
       "  </thead>\n",
       "  <tbody>\n",
       "    <tr>\n",
       "      <th>643</th>\n",
       "      <td>JewelsObsession</td>\n",
       "      <td>3322.190</td>\n",
       "    </tr>\n",
       "    <tr>\n",
       "      <th>1197</th>\n",
       "      <td>Teva</td>\n",
       "      <td>1355.578</td>\n",
       "    </tr>\n",
       "    <tr>\n",
       "      <th>1274</th>\n",
       "      <td>Valentino</td>\n",
       "      <td>1186.998</td>\n",
       "    </tr>\n",
       "    <tr>\n",
       "      <th>1107</th>\n",
       "      <td>Simone Rocha</td>\n",
       "      <td>1120.000</td>\n",
       "    </tr>\n",
       "    <tr>\n",
       "      <th>768</th>\n",
       "      <td>MALONE SOULIERS</td>\n",
       "      <td>1100.000</td>\n",
       "    </tr>\n",
       "    <tr>\n",
       "      <th>...</th>\n",
       "      <td>...</td>\n",
       "      <td>...</td>\n",
       "    </tr>\n",
       "    <tr>\n",
       "      <th>387</th>\n",
       "      <td>Dr Scholls</td>\n",
       "      <td>3.980</td>\n",
       "    </tr>\n",
       "    <tr>\n",
       "      <th>1234</th>\n",
       "      <td>Tred Mates</td>\n",
       "      <td>3.010</td>\n",
       "    </tr>\n",
       "    <tr>\n",
       "      <th>721</th>\n",
       "      <td>La Blanca</td>\n",
       "      <td>2.750</td>\n",
       "    </tr>\n",
       "    <tr>\n",
       "      <th>1259</th>\n",
       "      <td>Unbranded/Generic</td>\n",
       "      <td>2.160</td>\n",
       "    </tr>\n",
       "    <tr>\n",
       "      <th>694</th>\n",
       "      <td>Kensie</td>\n",
       "      <td>0.990</td>\n",
       "    </tr>\n",
       "  </tbody>\n",
       "</table>\n",
       "<p>1360 rows × 2 columns</p>\n",
       "</div>"
      ],
      "text/plain": [
       "                  brand  avgprice\n",
       "643     JewelsObsession  3322.190\n",
       "1197               Teva  1355.578\n",
       "1274          Valentino  1186.998\n",
       "1107       Simone Rocha  1120.000\n",
       "768     MALONE SOULIERS  1100.000\n",
       "...                 ...       ...\n",
       "387          Dr Scholls     3.980\n",
       "1234         Tred Mates     3.010\n",
       "721           La Blanca     2.750\n",
       "1259  Unbranded/Generic     2.160\n",
       "694              Kensie     0.990\n",
       "\n",
       "[1360 rows x 2 columns]"
      ]
     },
     "execution_count": 38,
     "metadata": {},
     "output_type": "execute_result"
    }
   ],
   "source": [
    "dfshoes"
   ]
  },
  {
   "cell_type": "markdown",
   "metadata": {},
   "source": [
    "# 여성신발"
   ]
  },
  {
   "cell_type": "code",
   "execution_count": 75,
   "metadata": {},
   "outputs": [
    {
     "data": {
      "text/plain": [
       "(33801, 52)"
      ]
     },
     "execution_count": 75,
     "metadata": {},
     "output_type": "execute_result"
    }
   ],
   "source": [
    "dd = pd.read_csv(\"data/7210_1.csv\")\n",
    "dd.shape"
   ]
  },
  {
   "cell_type": "code",
   "execution_count": 79,
   "metadata": {},
   "outputs": [],
   "source": [
    "top50 = list(dd.groupby('brand')['prices.amountMax'].mean().sort_values(ascending=False).head(50).index)"
   ]
  },
  {
   "cell_type": "code",
   "execution_count": 117,
   "metadata": {},
   "outputs": [
    {
     "data": {
      "text/html": [
       "<div>\n",
       "<style scoped>\n",
       "    .dataframe tbody tr th:only-of-type {\n",
       "        vertical-align: middle;\n",
       "    }\n",
       "\n",
       "    .dataframe tbody tr th {\n",
       "        vertical-align: top;\n",
       "    }\n",
       "\n",
       "    .dataframe thead th {\n",
       "        text-align: right;\n",
       "    }\n",
       "</style>\n",
       "<table border=\"1\" class=\"dataframe\">\n",
       "  <thead>\n",
       "    <tr style=\"text-align: right;\">\n",
       "      <th></th>\n",
       "      <th>id</th>\n",
       "      <th>asins</th>\n",
       "      <th>brand</th>\n",
       "      <th>categories</th>\n",
       "      <th>colors</th>\n",
       "      <th>count</th>\n",
       "      <th>dateAdded</th>\n",
       "      <th>dateUpdated</th>\n",
       "      <th>descriptions</th>\n",
       "      <th>dimension</th>\n",
       "      <th>...</th>\n",
       "      <th>skus</th>\n",
       "      <th>sourceURLs</th>\n",
       "      <th>upc</th>\n",
       "      <th>vin</th>\n",
       "      <th>websiteIDs</th>\n",
       "      <th>weight</th>\n",
       "      <th>Unnamed: 48</th>\n",
       "      <th>Unnamed: 49</th>\n",
       "      <th>Unnamed: 50</th>\n",
       "      <th>Unnamed: 51</th>\n",
       "    </tr>\n",
       "  </thead>\n",
       "  <tbody>\n",
       "    <tr>\n",
       "      <th>144</th>\n",
       "      <td>AVpe_CllLJeJML43z0lJ</td>\n",
       "      <td>NaN</td>\n",
       "      <td>Lanvin</td>\n",
       "      <td>Sneakers,Designer Collections,Women,Designer S...</td>\n",
       "      <td>NaN</td>\n",
       "      <td>NaN</td>\n",
       "      <td>2016-03-29T21:30:47Z</td>\n",
       "      <td>2016-03-29T21:51:13Z</td>\n",
       "      <td>NaN</td>\n",
       "      <td>NaN</td>\n",
       "      <td>...</td>\n",
       "      <td>NaN</td>\n",
       "      <td>http://shop.nordstrom.com/s/lanvin-cap-toe-sue...</td>\n",
       "      <td>NaN</td>\n",
       "      <td>NaN</td>\n",
       "      <td>NaN</td>\n",
       "      <td>NaN</td>\n",
       "      <td>NaN</td>\n",
       "      <td>NaN</td>\n",
       "      <td>NaN</td>\n",
       "      <td>NaN</td>\n",
       "    </tr>\n",
       "    <tr>\n",
       "      <th>272</th>\n",
       "      <td>AVpe_iMBilAPnD_xSjo9</td>\n",
       "      <td>NaN</td>\n",
       "      <td>Christian Louboutin</td>\n",
       "      <td>Women,Designer Collections,Designer Shoes,Sandals</td>\n",
       "      <td>NaN</td>\n",
       "      <td>NaN</td>\n",
       "      <td>2016-03-30T18:42:04Z</td>\n",
       "      <td>2016-03-30T18:42:04Z</td>\n",
       "      <td>NaN</td>\n",
       "      <td>NaN</td>\n",
       "      <td>...</td>\n",
       "      <td>NaN</td>\n",
       "      <td>http://shop.nordstrom.com/s/christian-loubouti...</td>\n",
       "      <td>NaN</td>\n",
       "      <td>NaN</td>\n",
       "      <td>NaN</td>\n",
       "      <td>NaN</td>\n",
       "      <td>NaN</td>\n",
       "      <td>NaN</td>\n",
       "      <td>NaN</td>\n",
       "      <td>NaN</td>\n",
       "    </tr>\n",
       "    <tr>\n",
       "      <th>333</th>\n",
       "      <td>AVpe_paCLJeJML430B5G</td>\n",
       "      <td>NaN</td>\n",
       "      <td>Saint Laurent</td>\n",
       "      <td>Women,Designer Collections,Designer Shoes,Sandals</td>\n",
       "      <td>NaN</td>\n",
       "      <td>NaN</td>\n",
       "      <td>2016-03-30T18:10:24Z</td>\n",
       "      <td>2016-03-30T18:10:24Z</td>\n",
       "      <td>NaN</td>\n",
       "      <td>NaN</td>\n",
       "      <td>...</td>\n",
       "      <td>NaN</td>\n",
       "      <td>http://shop.nordstrom.com/s/saint-laurent-kate...</td>\n",
       "      <td>NaN</td>\n",
       "      <td>NaN</td>\n",
       "      <td>NaN</td>\n",
       "      <td>NaN</td>\n",
       "      <td>NaN</td>\n",
       "      <td>NaN</td>\n",
       "      <td>NaN</td>\n",
       "      <td>NaN</td>\n",
       "    </tr>\n",
       "    <tr>\n",
       "      <th>350</th>\n",
       "      <td>AVpe_sEaLJeJML430C2v</td>\n",
       "      <td>NaN</td>\n",
       "      <td>Salvatore Ferragamo</td>\n",
       "      <td>Women,Designer Collections,Designer Shoes,Pumps</td>\n",
       "      <td>NaN</td>\n",
       "      <td>NaN</td>\n",
       "      <td>2016-03-29T19:40:39Z</td>\n",
       "      <td>2016-03-29T19:40:39Z</td>\n",
       "      <td>NaN</td>\n",
       "      <td>NaN</td>\n",
       "      <td>...</td>\n",
       "      <td>NaN</td>\n",
       "      <td>http://shop.nordstrom.com/s/salvatore-ferragam...</td>\n",
       "      <td>NaN</td>\n",
       "      <td>NaN</td>\n",
       "      <td>NaN</td>\n",
       "      <td>NaN</td>\n",
       "      <td>NaN</td>\n",
       "      <td>NaN</td>\n",
       "      <td>NaN</td>\n",
       "      <td>NaN</td>\n",
       "    </tr>\n",
       "    <tr>\n",
       "      <th>351</th>\n",
       "      <td>AVpe_sM4LJeJML430C5w</td>\n",
       "      <td>NaN</td>\n",
       "      <td>Ralph Lauren</td>\n",
       "      <td>Women,Shoes,Boots</td>\n",
       "      <td>Black</td>\n",
       "      <td>NaN</td>\n",
       "      <td>2015-08-18T16:48:25Z</td>\n",
       "      <td>2016-02-25T20:56:41Z</td>\n",
       "      <td>NaN</td>\n",
       "      <td>NaN</td>\n",
       "      <td>...</td>\n",
       "      <td>[{\"sourceURLs\":[\"http://www.ralphlauren.com/pr...</td>\n",
       "      <td>http://www.ralphlauren.com/product/index.jsp?p...</td>\n",
       "      <td>NaN</td>\n",
       "      <td>NaN</td>\n",
       "      <td>NaN</td>\n",
       "      <td>NaN</td>\n",
       "      <td>NaN</td>\n",
       "      <td>NaN</td>\n",
       "      <td>NaN</td>\n",
       "      <td>NaN</td>\n",
       "    </tr>\n",
       "  </tbody>\n",
       "</table>\n",
       "<p>5 rows × 52 columns</p>\n",
       "</div>"
      ],
      "text/plain": [
       "                       id asins                brand  \\\n",
       "144  AVpe_CllLJeJML43z0lJ   NaN               Lanvin   \n",
       "272  AVpe_iMBilAPnD_xSjo9   NaN  Christian Louboutin   \n",
       "333  AVpe_paCLJeJML430B5G   NaN        Saint Laurent   \n",
       "350  AVpe_sEaLJeJML430C2v   NaN  Salvatore Ferragamo   \n",
       "351  AVpe_sM4LJeJML430C5w   NaN         Ralph Lauren   \n",
       "\n",
       "                                            categories colors  count  \\\n",
       "144  Sneakers,Designer Collections,Women,Designer S...    NaN    NaN   \n",
       "272  Women,Designer Collections,Designer Shoes,Sandals    NaN    NaN   \n",
       "333  Women,Designer Collections,Designer Shoes,Sandals    NaN    NaN   \n",
       "350    Women,Designer Collections,Designer Shoes,Pumps    NaN    NaN   \n",
       "351                                  Women,Shoes,Boots  Black    NaN   \n",
       "\n",
       "                dateAdded           dateUpdated descriptions dimension  ...  \\\n",
       "144  2016-03-29T21:30:47Z  2016-03-29T21:51:13Z          NaN       NaN  ...   \n",
       "272  2016-03-30T18:42:04Z  2016-03-30T18:42:04Z          NaN       NaN  ...   \n",
       "333  2016-03-30T18:10:24Z  2016-03-30T18:10:24Z          NaN       NaN  ...   \n",
       "350  2016-03-29T19:40:39Z  2016-03-29T19:40:39Z          NaN       NaN  ...   \n",
       "351  2015-08-18T16:48:25Z  2016-02-25T20:56:41Z          NaN       NaN  ...   \n",
       "\n",
       "                                                  skus  \\\n",
       "144                                                NaN   \n",
       "272                                                NaN   \n",
       "333                                                NaN   \n",
       "350                                                NaN   \n",
       "351  [{\"sourceURLs\":[\"http://www.ralphlauren.com/pr...   \n",
       "\n",
       "                                            sourceURLs  upc vin  websiteIDs  \\\n",
       "144  http://shop.nordstrom.com/s/lanvin-cap-toe-sue...  NaN NaN         NaN   \n",
       "272  http://shop.nordstrom.com/s/christian-loubouti...  NaN NaN         NaN   \n",
       "333  http://shop.nordstrom.com/s/saint-laurent-kate...  NaN NaN         NaN   \n",
       "350  http://shop.nordstrom.com/s/salvatore-ferragam...  NaN NaN         NaN   \n",
       "351  http://www.ralphlauren.com/product/index.jsp?p...  NaN NaN         NaN   \n",
       "\n",
       "    weight Unnamed: 48 Unnamed: 49 Unnamed: 50 Unnamed: 51  \n",
       "144    NaN         NaN         NaN         NaN         NaN  \n",
       "272    NaN         NaN         NaN         NaN         NaN  \n",
       "333    NaN         NaN         NaN         NaN         NaN  \n",
       "350    NaN         NaN         NaN         NaN         NaN  \n",
       "351    NaN         NaN         NaN         NaN         NaN  \n",
       "\n",
       "[5 rows x 52 columns]"
      ]
     },
     "execution_count": 117,
     "metadata": {},
     "output_type": "execute_result"
    }
   ],
   "source": [
    "df50 = dd.loc[dd['brand'].isin(top50)]\n",
    "df50.head()"
   ]
  },
  {
   "cell_type": "code",
   "execution_count": 86,
   "metadata": {},
   "outputs": [
    {
     "data": {
      "text/plain": [
       "<matplotlib.axes._subplots.AxesSubplot at 0x2ced027be48>"
      ]
     },
     "execution_count": 86,
     "metadata": {},
     "output_type": "execute_result"
    },
    {
     "data": {
      "image/png": "[encoded data removed]",
      "text/plain": [
       "<Figure size 864x1440 with 1 Axes>"
      ]
     },
     "metadata": {
      "needs_background": "light"
     },
     "output_type": "display_data"
    }
   ],
   "source": [
    "plt.figure(figsize=(12,20))\n",
    "sns.barplot(y='brand', x='prices.amountMax', data=dd, order=top50)"
   ]
  },
  {
   "cell_type": "code",
   "execution_count": 89,
   "metadata": {
    "scrolled": false
   },
   "outputs": [
    {
     "data": {
      "text/plain": [
       "8.19"
      ]
     },
     "execution_count": 89,
     "metadata": {},
     "output_type": "execute_result"
    }
   ],
   "source": [
    "dd[dd['brand']=='unbranded']['prices.amountMax'].mean()"
   ]
  },
  {
   "cell_type": "markdown",
   "metadata": {},
   "source": [
    "브랜드가없는 신발의 평균 가격은 모든 신발의 브랜드 가치를 평가하는 데 사용할 수 있습니다. 예를 들어 simone rocha의 브랜드 가치는 (브랜드 신발의 평균 가격-브랜드가없는 신발의 평균 가격) 1120-8 = $ 1118 일 수 있습니다."
   ]
  },
  {
   "cell_type": "code",
   "execution_count": 93,
   "metadata": {},
   "outputs": [],
   "source": [
    "import matplotlib.pyplot as plt\n",
    "\n",
    "plt.rc(\"font\", family=\"Malgun Gothic\")"
   ]
  },
  {
   "cell_type": "code",
   "execution_count": 94,
   "metadata": {
    "scrolled": false
   },
   "outputs": [
    {
     "data": {
      "text/plain": [
       "<matplotlib.axes._subplots.AxesSubplot at 0x2cee131b448>"
      ]
     },
     "execution_count": 94,
     "metadata": {},
     "output_type": "execute_result"
    },
    {
     "data": {
      "image/png": "[encoded data removed]",
      "text/plain": [
       "<Figure size 720x360 with 1 Axes>"
      ]
     },
     "metadata": {
      "needs_background": "light"
     },
     "output_type": "display_data"
    }
   ],
   "source": [
    "plt.figure(figsize=(10,5))\n",
    "plt.title('모든 신발의 가격 분포.')\n",
    "sns.distplot(dd['prices.amountMax'], rug=True, color='green')"
   ]
  },
  {
   "cell_type": "code",
   "execution_count": 96,
   "metadata": {},
   "outputs": [
    {
     "data": {
      "text/plain": [
       "<matplotlib.axes._subplots.AxesSubplot at 0x2cee37185c8>"
      ]
     },
     "execution_count": 96,
     "metadata": {},
     "output_type": "execute_result"
    },
    {
     "data": {
      "image/png": "[encoded data removed]",
      "text/plain": [
       "<Figure size 720x360 with 1 Axes>"
      ]
     },
     "metadata": {
      "needs_background": "light"
     },
     "output_type": "display_data"
    }
   ],
   "source": [
    "plt.figure(figsize=(10,5))\n",
    "plt.title('가치가 $ 250 미만인 모든 신발의 가격 분포.')\n",
    "sns.distplot(dd[dd['prices.amountMax'] <= 250]['prices.amountMax'], rug=True)"
   ]
  },
  {
   "cell_type": "markdown",
   "metadata": {},
   "source": [
    "위의 그림은 오른쪽으로 치우친 정규 분포처럼 보입니다. 피크는 약 30~40 달러입니다."
   ]
  },
  {
   "cell_type": "code",
   "execution_count": 98,
   "metadata": {},
   "outputs": [
    {
     "data": {
      "text/plain": [
       "<matplotlib.axes._subplots.AxesSubplot at 0x2cee4d26508>"
      ]
     },
     "execution_count": 98,
     "metadata": {},
     "output_type": "execute_result"
    },
    {
     "data": {
      "image/png": "[encoded data removed]",
      "text/plain": [
       "<Figure size 720x360 with 1 Axes>"
      ]
     },
     "metadata": {
      "needs_background": "light"
     },
     "output_type": "display_data"
    }
   ],
   "source": [
    "plt.figure(figsize=(10,5))\n",
    "plt.title('가치가 $ 250 이상인 모든 신발의 가격 분포.')\n",
    "sns.distplot(dd[dd['prices.amountMax']>250]['prices.amountMax'], rug=True, color='red')"
   ]
  },
  {
   "cell_type": "markdown",
   "metadata": {},
   "source": [
    "위의 플롯은 400-450 달러에서 850-900 달러까지 폭이 넓습니다."
   ]
  },
  {
   "cell_type": "code",
   "execution_count": 100,
   "metadata": {},
   "outputs": [
    {
     "data": {
      "text/plain": [
       "<matplotlib.axes._subplots.AxesSubplot at 0x2cee4ed59c8>"
      ]
     },
     "execution_count": 100,
     "metadata": {},
     "output_type": "execute_result"
    },
    {
     "data": {
      "image/png": "[encoded data removed]",
      "text/plain": [
       "<Figure size 720x864 with 1 Axes>"
      ]
     },
     "metadata": {
      "needs_background": "light"
     },
     "output_type": "display_data"
    }
   ],
   "source": [
    "priceRange = dd.groupby('brand')['prices.amountMax'].agg({'min', 'max'})\n",
    "\n",
    "priceRange['range'] = priceRange['max'] - priceRange['min']\n",
    "\n",
    "top25priceRange = priceRange.sort_values(by='range', ascending=False)[0:25]\n",
    "\n",
    "plt.figure(figsize=(10,12))\n",
    "sns.barplot(y=top25priceRange.index, x=top25priceRange.range)"
   ]
  },
  {
   "cell_type": "code",
   "execution_count": 114,
   "metadata": {},
   "outputs": [
    {
     "data": {
      "text/html": [
       "<div>\n",
       "<style scoped>\n",
       "    .dataframe tbody tr th:only-of-type {\n",
       "        vertical-align: middle;\n",
       "    }\n",
       "\n",
       "    .dataframe tbody tr th {\n",
       "        vertical-align: top;\n",
       "    }\n",
       "\n",
       "    .dataframe thead th {\n",
       "        text-align: right;\n",
       "    }\n",
       "</style>\n",
       "<table border=\"1\" class=\"dataframe\">\n",
       "  <thead>\n",
       "    <tr style=\"text-align: right;\">\n",
       "      <th></th>\n",
       "      <th>min</th>\n",
       "      <th>max</th>\n",
       "      <th>range</th>\n",
       "    </tr>\n",
       "    <tr>\n",
       "      <th>brand</th>\n",
       "      <th></th>\n",
       "      <th></th>\n",
       "      <th></th>\n",
       "    </tr>\n",
       "  </thead>\n",
       "  <tbody>\n",
       "    <tr>\n",
       "      <th>Teva</th>\n",
       "      <td>69.95</td>\n",
       "      <td>3499.00</td>\n",
       "      <td>3429.05</td>\n",
       "    </tr>\n",
       "    <tr>\n",
       "      <th>JewelsObsession</th>\n",
       "      <td>1992.99</td>\n",
       "      <td>4198.99</td>\n",
       "      <td>2206.00</td>\n",
       "    </tr>\n",
       "    <tr>\n",
       "      <th>Gucci</th>\n",
       "      <td>229.00</td>\n",
       "      <td>2300.00</td>\n",
       "      <td>2071.00</td>\n",
       "    </tr>\n",
       "    <tr>\n",
       "      <th>Ralph Lauren</th>\n",
       "      <td>24.99</td>\n",
       "      <td>1500.00</td>\n",
       "      <td>1475.01</td>\n",
       "    </tr>\n",
       "    <tr>\n",
       "      <th>Valentino</th>\n",
       "      <td>699.99</td>\n",
       "      <td>1975.00</td>\n",
       "      <td>1275.01</td>\n",
       "    </tr>\n",
       "  </tbody>\n",
       "</table>\n",
       "</div>"
      ],
      "text/plain": [
       "                     min      max    range\n",
       "brand                                     \n",
       "Teva               69.95  3499.00  3429.05\n",
       "JewelsObsession  1992.99  4198.99  2206.00\n",
       "Gucci             229.00  2300.00  2071.00\n",
       "Ralph Lauren       24.99  1500.00  1475.01\n",
       "Valentino         699.99  1975.00  1275.01"
      ]
     },
     "execution_count": 114,
     "metadata": {},
     "output_type": "execute_result"
    }
   ],
   "source": [
    "top25priceRange.head()"
   ]
  },
  {
   "cell_type": "markdown",
   "metadata": {},
   "source": [
    "최고 브랜드의 분포를 살펴 보겠습니다."
   ]
  },
  {
   "cell_type": "code",
   "execution_count": 103,
   "metadata": {},
   "outputs": [
    {
     "data": {
      "text/plain": [
       "<matplotlib.axes._subplots.AxesSubplot at 0x2cee6043f88>"
      ]
     },
     "execution_count": 103,
     "metadata": {},
     "output_type": "execute_result"
    },
    {
     "name": "stderr",
     "output_type": "stream",
     "text": [
      "C:\\Anaconda3_64\\lib\\site-packages\\matplotlib\\backends\\backend_agg.py:211: RuntimeWarning: Glyph 8722 missing from current font.\n",
      "  font.set_text(s, 0.0, flags=flags)\n",
      "C:\\Anaconda3_64\\lib\\site-packages\\matplotlib\\backends\\backend_agg.py:180: RuntimeWarning: Glyph 8722 missing from current font.\n",
      "  font.set_text(s, 0, flags=flags)\n"
     ]
    },
    {
     "data": {
      "image/png": "[encoded data removed]",
      "text/plain": [
       "<Figure size 432x288 with 1 Axes>"
      ]
     },
     "metadata": {
      "needs_background": "light"
     },
     "output_type": "display_data"
    }
   ],
   "source": [
    "sns.distplot(dd[dd['brand']=='Teva']['prices.amountMax'], rug=True)"
   ]
  },
  {
   "cell_type": "code",
   "execution_count": 111,
   "metadata": {},
   "outputs": [
    {
     "data": {
      "text/plain": [
       "<matplotlib.axes._subplots.AxesSubplot at 0x2cee6adcb08>"
      ]
     },
     "execution_count": 111,
     "metadata": {},
     "output_type": "execute_result"
    },
    {
     "data": {
      "image/png": "[encoded data removed]",
      "text/plain": [
       "<Figure size 432x288 with 1 Axes>"
      ]
     },
     "metadata": {
      "needs_background": "light"
     },
     "output_type": "display_data"
    }
   ],
   "source": [
    "sns.distplot(dd[dd['brand']=='JewelsObsession']['prices.amountMax'], rug=True)"
   ]
  },
  {
   "cell_type": "code",
   "execution_count": 112,
   "metadata": {
    "scrolled": false
   },
   "outputs": [
    {
     "data": {
      "text/plain": [
       "<matplotlib.axes._subplots.AxesSubplot at 0x2cee6d5abc8>"
      ]
     },
     "execution_count": 112,
     "metadata": {},
     "output_type": "execute_result"
    },
    {
     "name": "stderr",
     "output_type": "stream",
     "text": [
      "C:\\Anaconda3_64\\lib\\site-packages\\matplotlib\\backends\\backend_agg.py:211: RuntimeWarning: Glyph 8722 missing from current font.\n",
      "  font.set_text(s, 0.0, flags=flags)\n",
      "C:\\Anaconda3_64\\lib\\site-packages\\matplotlib\\backends\\backend_agg.py:180: RuntimeWarning: Glyph 8722 missing from current font.\n",
      "  font.set_text(s, 0, flags=flags)\n"
     ]
    },
    {
     "data": {
      "image/png": "[encoded data removed]",
      "text/plain": [
       "<Figure size 432x288 with 1 Axes>"
      ]
     },
     "metadata": {
      "needs_background": "light"
     },
     "output_type": "display_data"
    }
   ],
   "source": [
    "sns.distplot(dd[dd['brand']=='Gucci']['prices.amountMax'], rug=True)"
   ]
  },
  {
   "cell_type": "code",
   "execution_count": 113,
   "metadata": {},
   "outputs": [
    {
     "data": {
      "text/plain": [
       "<matplotlib.axes._subplots.AxesSubplot at 0x2cee6de5088>"
      ]
     },
     "execution_count": 113,
     "metadata": {},
     "output_type": "execute_result"
    },
    {
     "name": "stderr",
     "output_type": "stream",
     "text": [
      "C:\\Anaconda3_64\\lib\\site-packages\\matplotlib\\backends\\backend_agg.py:211: RuntimeWarning: Glyph 8722 missing from current font.\n",
      "  font.set_text(s, 0.0, flags=flags)\n",
      "C:\\Anaconda3_64\\lib\\site-packages\\matplotlib\\backends\\backend_agg.py:180: RuntimeWarning: Glyph 8722 missing from current font.\n",
      "  font.set_text(s, 0, flags=flags)\n"
     ]
    },
    {
     "data": {
      "image/png": "[encoded data removed]",
      "text/plain": [
       "<Figure size 432x288 with 1 Axes>"
      ]
     },
     "metadata": {
      "needs_background": "light"
     },
     "output_type": "display_data"
    }
   ],
   "source": [
    "sns.distplot(dd[dd['brand']=='Ralph Lauren']['prices.amountMax'], rug=True)"
   ]
  },
  {
   "cell_type": "code",
   "execution_count": 116,
   "metadata": {},
   "outputs": [
    {
     "data": {
      "text/plain": [
       "<matplotlib.axes._subplots.AxesSubplot at 0x2cee6e97a08>"
      ]
     },
     "execution_count": 116,
     "metadata": {},
     "output_type": "execute_result"
    },
    {
     "data": {
      "image/png": "[encoded data removed]",
      "text/plain": [
       "<Figure size 432x288 with 1 Axes>"
      ]
     },
     "metadata": {
      "needs_background": "light"
     },
     "output_type": "display_data"
    }
   ],
   "source": [
    "sns.distplot(dd[dd['brand']=='Valentino']['prices.amountMax'], rug=True)"
   ]
  }
 ],
 "metadata": {
  "kernelspec": {
   "display_name": "Python 3",
   "language": "python",
   "name": "python3"
  },
  "language_info": {
   "codemirror_mode": {
    "name": "ipython",
    "version": 3
   },
   "file_extension": ".py",
   "mimetype": "text/x-python",
   "name": "python",
   "nbconvert_exporter": "python",
   "pygments_lexer": "ipython3",
   "version": "3.7.6"
  },
  "toc": {
   "base_numbering": 1,
   "nav_menu": {},
   "number_sections": true,
   "sideBar": true,
   "skip_h1_title": false,
   "title_cell": "Table of Contents",
   "title_sidebar": "Contents",
   "toc_cell": false,
   "toc_position": {},
   "toc_section_display": true,
   "toc_window_display": false
  }
 },
 "nbformat": 4,
 "nbformat_minor": 1
}
