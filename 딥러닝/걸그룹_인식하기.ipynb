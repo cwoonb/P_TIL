{
 "cells": [
  {
   "cell_type": "code",
   "execution_count": 2,
   "metadata": {
    "colab": {
     "base_uri": "https://localhost:8080/"
    },
    "executionInfo": {
     "elapsed": 2562,
     "status": "ok",
     "timestamp": 1607322135005,
     "user": {
      "displayName": "조원배",
      "photoUrl": "https://lh3.googleusercontent.com/a-/AOh14GieIp_SohMBMwG9hLzWy5gtGSDHUt2q_QIL2Qj-=s64",
      "userId": "04978904881522718432"
     },
     "user_tz": -540
    },
    "id": "aMLfS1eOXAM_",
    "outputId": "9e300bfa-e501-4119-b5ab-9e353140cf9f"
   },
   "outputs": [
    {
     "name": "stdout",
     "output_type": "stream",
     "text": [
      "Mounted at /content/drive\n"
     ]
    }
   ],
   "source": [
    "from google.colab import drive\n",
    "drive.mount('/content/drive', force_remount=True)"
   ]
  },
  {
   "cell_type": "code",
   "execution_count": 3,
   "metadata": {
    "colab": {
     "base_uri": "https://localhost:8080/"
    },
    "executionInfo": {
     "elapsed": 914,
     "status": "ok",
     "timestamp": 1607322139203,
     "user": {
      "displayName": "조원배",
      "photoUrl": "https://lh3.googleusercontent.com/a-/AOh14GieIp_SohMBMwG9hLzWy5gtGSDHUt2q_QIL2Qj-=s64",
      "userId": "04978904881522718432"
     },
     "user_tz": -540
    },
    "id": "VqSCKZuaVltr",
    "outputId": "9efa8496-5f18-406a-feff-f3887bfbce1c"
   },
   "outputs": [
    {
     "name": "stdout",
     "output_type": "stream",
     "text": [
      "['.DS_Store', 'taeyeon', 'yoona', '.ipynb_checkpoints', 'tiffany']\n"
     ]
    }
   ],
   "source": [
    "import os\n",
    "print(os.listdir('/content/drive/My Drive/Colab Notebooks/러닝스푼즈/Lec 3/data/GirlGroup/processed/'))"
   ]
  },
  {
   "cell_type": "code",
   "execution_count": 4,
   "metadata": {
    "executionInfo": {
     "elapsed": 669,
     "status": "ok",
     "timestamp": 1607322143538,
     "user": {
      "displayName": "조원배",
      "photoUrl": "https://lh3.googleusercontent.com/a-/AOh14GieIp_SohMBMwG9hLzWy5gtGSDHUt2q_QIL2Qj-=s64",
      "userId": "04978904881522718432"
     },
     "user_tz": -540
    },
    "id": "jB358-k21Zyw"
   },
   "outputs": [],
   "source": [
    "import os\n",
    "folder_list = os.listdir('/content/drive/My Drive/Colab Notebooks/러닝스푼즈/Lec 3/data/GirlGroup/processed/')"
   ]
  },
  {
   "cell_type": "code",
   "execution_count": 19,
   "metadata": {
    "colab": {
     "base_uri": "https://localhost:8080/",
     "height": 134
    },
    "executionInfo": {
     "elapsed": 762,
     "status": "error",
     "timestamp": 1607323347220,
     "user": {
      "displayName": "조원배",
      "photoUrl": "https://lh3.googleusercontent.com/a-/AOh14GieIp_SohMBMwG9hLzWy5gtGSDHUt2q_QIL2Qj-=s64",
      "userId": "04978904881522718432"
     },
     "user_tz": -540
    },
    "id": "dcqtPi9C1hZS",
    "outputId": "29e73f02-a25a-41a7-ff48-265222fd5b0d"
   },
   "outputs": [
    {
     "ename": "SyntaxError",
     "evalue": "ignored",
     "output_type": "error",
     "traceback": [
      "\u001b[0;36m  File \u001b[0;32m\"<ipython-input-19-b19288b2892b>\"\u001b[0;36m, line \u001b[0;32m2\u001b[0m\n\u001b[0;31m    if folder\u001b[0m\n\u001b[0m             ^\u001b[0m\n\u001b[0;31mSyntaxError\u001b[0m\u001b[0;31m:\u001b[0m invalid syntax\n"
     ]
    }
   ],
   "source": [
    "for folder in folder_list:\n",
    "       if folder"
   ]
  },
  {
   "cell_type": "code",
   "execution_count": 6,
   "metadata": {
    "executionInfo": {
     "elapsed": 690,
     "status": "ok",
     "timestamp": 1607322216116,
     "user": {
      "displayName": "조원배",
      "photoUrl": "https://lh3.googleusercontent.com/a-/AOh14GieIp_SohMBMwG9hLzWy5gtGSDHUt2q_QIL2Qj-=s64",
      "userId": "04978904881522718432"
     },
     "user_tz": -540
    },
    "id": "XzskPucQl2aX"
   },
   "outputs": [],
   "source": [
    "import torch\n",
    "from torch.utils.data import Dataset\n",
    "from torch.utils.data import DataLoader\n",
    "from PIL import Image\n",
    "import random\n",
    "import os\n",
    "\n",
    "class GirlDataset(Dataset):\n",
    "    def __init__(self, data_path, transform):\n",
    "        self.data_path = data_path #데이터가 저장되어있는 경로\n",
    "        self.transform = transform # 데이터 변환 (Tensor), Augmentation\n",
    "        self.dataset = [] # Image, label list\n",
    "        self.preprocess() # 클래스간 분류, [Image, label] 페어 생성\n",
    " \n",
    "    def preprocess(self):\n",
    "        member_list = ['yoona', 'taeyeon', 'tiffany']\n",
    "        folder_list = os.listdir(self.data_path)\n",
    "        for folder in folder_list:\n",
    "          if folder in member_list:\n",
    "            label = folder.split('/')[-1]\n",
    "            if label == 'yoona':\n",
    "              label = 0\n",
    "            elif label == 'taeyeon':\n",
    "              label = 1\n",
    "            elif label == 'tiffany':\n",
    "              label = 2\n",
    "            file_list = os.listdir(os.path.join(self.data_path, folder))\n",
    "            for file in file_list:\n",
    "              data = os.path.join(self.data_path, folder, file)\n",
    "              if data[-3:] == 'png':\n",
    "                self.dataset.append([data, label]) #data에대한 경로, label(태연, 윤아, 티파니)\n",
    "        \n",
    "        print('Processing Finish')\n",
    "        \n",
    "    def __getitem__(self, idx):\n",
    "        filename, label = self.dataset[idx]\n",
    "        image = Image.open(filename)\n",
    "        image = self.transform(image)\n",
    "        return image, label\n",
    "    \n",
    "    def __len__(self):\n",
    "        return len(self.dataset)\n",
    "    "
   ]
  },
  {
   "cell_type": "code",
   "execution_count": 7,
   "metadata": {
    "executionInfo": {
     "elapsed": 669,
     "status": "ok",
     "timestamp": 1607322218730,
     "user": {
      "displayName": "조원배",
      "photoUrl": "https://lh3.googleusercontent.com/a-/AOh14GieIp_SohMBMwG9hLzWy5gtGSDHUt2q_QIL2Qj-=s64",
      "userId": "04978904881522718432"
     },
     "user_tz": -540
    },
    "id": "JvHeK4O6mYQI"
   },
   "outputs": [],
   "source": [
    "from torchvision import transforms as T\n",
    "\n",
    "image_size=128\n",
    "transform = []\n",
    "transform.append(T.RandomHorizontalFlip())\n",
    "transform.append(T.Resize(image_size))\n",
    "transform.append(T.ToTensor())\n",
    "transform.append(T.Normalize(mean=(0.5, 0.5, 0.5), std=(0.5, 0.5, 0.5)))\n",
    "transform = T.Compose(transform)"
   ]
  },
  {
   "cell_type": "code",
   "execution_count": 9,
   "metadata": {
    "colab": {
     "base_uri": "https://localhost:8080/"
    },
    "executionInfo": {
     "elapsed": 980,
     "status": "ok",
     "timestamp": 1607322258278,
     "user": {
      "displayName": "조원배",
      "photoUrl": "https://lh3.googleusercontent.com/a-/AOh14GieIp_SohMBMwG9hLzWy5gtGSDHUt2q_QIL2Qj-=s64",
      "userId": "04978904881522718432"
     },
     "user_tz": -540
    },
    "id": "8LL9YdpmmbhW",
    "outputId": "91c3fda0-3410-41ec-f35b-72f6a07cf376"
   },
   "outputs": [
    {
     "name": "stdout",
     "output_type": "stream",
     "text": [
      "Processing Finish\n",
      "Processing Finish\n"
     ]
    }
   ],
   "source": [
    "train_dataset = GirlDataset(data_path = '/content/drive/My Drive/Colab Notebooks/러닝스푼즈/Lec 3/data/GirlGroup/processed/',\n",
    "                      transform = transform)\n",
    "\n",
    "train_loader = DataLoader(dataset=train_dataset,\n",
    "                         batch_size=64,\n",
    "                         shuffle=True)\n",
    "\n",
    "test_dataset = GirlDataset(data_path = '/content/drive/My Drive/Colab Notebooks/러닝스푼즈/Lec 3/data/GirlGroup/test/',\n",
    "                      transform = transform)\n",
    "\n",
    "test_loader = DataLoader(dataset=test_dataset,\n",
    "                         batch_size=64,\n",
    "                         shuffle=False)"
   ]
  },
  {
   "cell_type": "code",
   "execution_count": 10,
   "metadata": {
    "colab": {
     "base_uri": "https://localhost:8080/"
    },
    "executionInfo": {
     "elapsed": 1453,
     "status": "ok",
     "timestamp": 1607322262847,
     "user": {
      "displayName": "조원배",
      "photoUrl": "https://lh3.googleusercontent.com/a-/AOh14GieIp_SohMBMwG9hLzWy5gtGSDHUt2q_QIL2Qj-=s64",
      "userId": "04978904881522718432"
     },
     "user_tz": -540
    },
    "id": "OFAw_igM2fC2",
    "outputId": "cf942777-f8cd-4628-846b-dac9d867744d"
   },
   "outputs": [
    {
     "data": {
      "text/plain": [
       "(tensor([[[ 0.9294,  0.9216,  0.9294,  ...,  0.9373,  0.9373,  0.9373],\n",
       "          [ 0.9294,  0.9216,  0.9294,  ...,  0.9373,  0.9373,  0.9373],\n",
       "          [ 0.9294,  0.9216,  0.9294,  ...,  0.9373,  0.9373,  0.9373],\n",
       "          ...,\n",
       "          [-0.2157, -0.1608, -0.0902,  ...,  0.6706,  0.6627,  0.6863],\n",
       "          [-0.1137, -0.0745, -0.0980,  ...,  0.6784,  0.6941,  0.7255],\n",
       "          [-0.1294, -0.1373, -0.2549,  ...,  0.6627,  0.6863,  0.7412]],\n",
       " \n",
       "         [[ 0.9294,  0.9216,  0.9294,  ...,  0.9529,  0.9529,  0.9529],\n",
       "          [ 0.9294,  0.9216,  0.9294,  ...,  0.9529,  0.9529,  0.9529],\n",
       "          [ 0.9294,  0.9216,  0.9294,  ...,  0.9529,  0.9529,  0.9529],\n",
       "          ...,\n",
       "          [-0.5216, -0.4667, -0.3882,  ...,  0.5608,  0.5529,  0.5765],\n",
       "          [-0.4118, -0.3725, -0.3882,  ...,  0.5765,  0.5843,  0.6157],\n",
       "          [-0.4196, -0.4353, -0.5451,  ...,  0.5529,  0.5765,  0.6314]],\n",
       " \n",
       "         [[ 0.9137,  0.9059,  0.9137,  ...,  0.9294,  0.9294,  0.9294],\n",
       "          [ 0.9137,  0.9059,  0.9137,  ...,  0.9294,  0.9294,  0.9294],\n",
       "          [ 0.9137,  0.9059,  0.9137,  ...,  0.9294,  0.9294,  0.9294],\n",
       "          ...,\n",
       "          [-0.7176, -0.6392, -0.5529,  ...,  0.4745,  0.4824,  0.5059],\n",
       "          [-0.6078, -0.5529, -0.5686,  ...,  0.4980,  0.5137,  0.5451],\n",
       "          [-0.6235, -0.6157, -0.7255,  ...,  0.4824,  0.5059,  0.5608]]]), 1)"
      ]
     },
     "execution_count": 10,
     "metadata": {
      "tags": []
     },
     "output_type": "execute_result"
    }
   ],
   "source": [
    "train_dataset[0]"
   ]
  },
  {
   "cell_type": "code",
   "execution_count": 24,
   "metadata": {
    "executionInfo": {
     "elapsed": 711,
     "status": "ok",
     "timestamp": 1607323869801,
     "user": {
      "displayName": "조원배",
      "photoUrl": "https://lh3.googleusercontent.com/a-/AOh14GieIp_SohMBMwG9hLzWy5gtGSDHUt2q_QIL2Qj-=s64",
      "userId": "04978904881522718432"
     },
     "user_tz": -540
    },
    "id": "5uZWZswt4EwV"
   },
   "outputs": [],
   "source": [
    "import torch\n",
    "import torch.nn as nn"
   ]
  },
  {
   "cell_type": "code",
   "execution_count": 25,
   "metadata": {
    "colab": {
     "base_uri": "https://localhost:8080/",
     "height": 222
    },
    "executionInfo": {
     "elapsed": 697,
     "status": "error",
     "timestamp": 1607323877016,
     "user": {
      "displayName": "조원배",
      "photoUrl": "https://lh3.googleusercontent.com/a-/AOh14GieIp_SohMBMwG9hLzWy5gtGSDHUt2q_QIL2Qj-=s64",
      "userId": "04978904881522718432"
     },
     "user_tz": -540
    },
    "id": "QPwfklii3_GE",
    "outputId": "4622921b-1891-4550-df95-07486f9c8a3c"
   },
   "outputs": [
    {
     "ename": "AttributeError",
     "evalue": "ignored",
     "output_type": "error",
     "traceback": [
      "\u001b[0;31m---------------------------------------------------------------------------\u001b[0m",
      "\u001b[0;31mAttributeError\u001b[0m                            Traceback (most recent call last)",
      "\u001b[0;32m<ipython-input-25-f091f4a76677>\u001b[0m in \u001b[0;36m<module>\u001b[0;34m()\u001b[0m\n\u001b[0;32m----> 1\u001b[0;31m \u001b[0mnn\u001b[0m\u001b[0;34m.\u001b[0m\u001b[0mConv\u001b[0m\u001b[0;34m(\u001b[0m\u001b[0;36m3\u001b[0m\u001b[0;34m,\u001b[0m \u001b[0;36m16\u001b[0m\u001b[0;34m,\u001b[0m \u001b[0mkernel_size\u001b[0m\u001b[0;34m=\u001b[0m\u001b[0;36m5\u001b[0m\u001b[0;34m,\u001b[0m \u001b[0mstride\u001b[0m\u001b[0;34m=\u001b[0m\u001b[0;36m1\u001b[0m\u001b[0;34m,\u001b[0m \u001b[0mpadding\u001b[0m\u001b[0;34m=\u001b[0m\u001b[0;36m2\u001b[0m\u001b[0;34m)\u001b[0m\u001b[0;34m\u001b[0m\u001b[0;34m\u001b[0m\u001b[0m\n\u001b[0m\u001b[1;32m      2\u001b[0m \u001b[0mnn\u001b[0m\u001b[0;34m.\u001b[0m\u001b[0mBatchNorm2d\u001b[0m\u001b[0;34m(\u001b[0m\u001b[0;36m16\u001b[0m\u001b[0;34m)\u001b[0m\u001b[0;34m\u001b[0m\u001b[0;34m\u001b[0m\u001b[0m\n\u001b[1;32m      3\u001b[0m \u001b[0mnn\u001b[0m\u001b[0;34m.\u001b[0m\u001b[0mReLU\u001b[0m\u001b[0;34m(\u001b[0m\u001b[0;34m)\u001b[0m\u001b[0;34m\u001b[0m\u001b[0;34m\u001b[0m\u001b[0m\n\u001b[1;32m      4\u001b[0m \u001b[0mnn\u001b[0m\u001b[0;34m.\u001b[0m\u001b[0mMaxPool2d\u001b[0m\u001b[0;34m(\u001b[0m\u001b[0mkernel_size\u001b[0m\u001b[0;34m=\u001b[0m\u001b[0;36m2\u001b[0m\u001b[0;34m,\u001b[0m \u001b[0mstride\u001b[0m\u001b[0;34m=\u001b[0m\u001b[0;36m2\u001b[0m\u001b[0;34m)\u001b[0m\u001b[0;34m\u001b[0m\u001b[0;34m\u001b[0m\u001b[0m\n",
      "\u001b[0;31mAttributeError\u001b[0m: module 'torch.nn' has no attribute 'Conv'"
     ]
    }
   ],
   "source": [
    "nn.Conv(3, 16, kernel_size=5, stride=1, padding=2)\n",
    "nn.BatchNorm2d(16)\n",
    "nn.ReLU()\n",
    "nn.MaxPool2d(kernel_size=2, stride=2)"
   ]
  },
  {
   "cell_type": "markdown",
   "metadata": {
    "id": "7BYXGPgy6MP0"
   },
   "source": [
    "- 임포트 이후 아래의 포맷으로 convolutional layer를 생성할 수 있다.\n",
    "\n",
    "- 인자로 지정해줄 수 있는 값으로는 아래와 같은 것들이 있다.\n",
    "\n",
    "- filters : 필터의 개수를 지정\n",
    "\n",
    "- kernel_size : convolution window의 너비와 높이(height and width)를 지정\n",
    "\n",
    "- strides : convolution의 stride를 지정(디폴트 = 1)\n",
    "\n",
    "- padding : 'valid' 또는 'same' 을 지정(디폴트 = 'valid')\n",
    "\n",
    "- activation : activation function을 지정(디폴트 = 'relu'). "
   ]
  },
  {
   "cell_type": "code",
   "execution_count": 17,
   "metadata": {
    "executionInfo": {
     "elapsed": 677,
     "status": "ok",
     "timestamp": 1607322614407,
     "user": {
      "displayName": "조원배",
      "photoUrl": "https://lh3.googleusercontent.com/a-/AOh14GieIp_SohMBMwG9hLzWy5gtGSDHUt2q_QIL2Qj-=s64",
      "userId": "04978904881522718432"
     },
     "user_tz": -540
    },
    "id": "5fw4rnhxmdbB"
   },
   "outputs": [],
   "source": [
    "import torch.nn as nn\n",
    "\n",
    "class ConvNet(nn.Module):\n",
    "    def __init__(self, num_classes=3):\n",
    "      super(ConvNet, self).__init__()\n",
    "      self.layer1 = nn.Sequential(\n",
    "        nn.Conv2d(3, 16, kernel_size=5, stride=1, padding=2),\n",
    "        nn.BatchNorm2d(16),\n",
    "        nn.ReLU(),\n",
    "        nn.MaxPool2d(kernel_size=2, stride=2))\n",
    "      \n",
    "      self.layer2 = nn.Sequential(\n",
    "        nn.Conv2d(16, 32, kernel_size=5, stride=1, padding=2),\n",
    "        nn.BatchNorm2d(32),\n",
    "        nn.ReLU(),\n",
    "        nn.MaxPool2d(kernel_size=2, stride=2))\n",
    "      self.fc = nn.Linear(-1, num_classes)\n",
    "        \n",
    "    def forward(self, x):\n",
    "      print('1', x.shape)\n",
    "      out = self.layer1(x)\n",
    "      print('2', out.shape)\n",
    "      out = self.layer2(out)\n",
    "      print('3', out.shape)\n",
    "      out = out.reshape(out.size(0), -1)\n",
    "      print('4', out.shape)\n",
    "      out = self.fc(out)\n",
    "      return out"
   ]
  },
  {
   "cell_type": "code",
   "execution_count": 18,
   "metadata": {
    "colab": {
     "base_uri": "https://localhost:8080/",
     "height": 386
    },
    "executionInfo": {
     "elapsed": 1036,
     "status": "error",
     "timestamp": 1607322616590,
     "user": {
      "displayName": "조원배",
      "photoUrl": "https://lh3.googleusercontent.com/a-/AOh14GieIp_SohMBMwG9hLzWy5gtGSDHUt2q_QIL2Qj-=s64",
      "userId": "04978904881522718432"
     },
     "user_tz": -540
    },
    "id": "xarHXG-1pODP",
    "outputId": "0ac7ee6e-79c7-40a5-faf3-799a1749a8de"
   },
   "outputs": [
    {
     "ename": "RuntimeError",
     "evalue": "ignored",
     "output_type": "error",
     "traceback": [
      "\u001b[0;31m---------------------------------------------------------------------------\u001b[0m",
      "\u001b[0;31mRuntimeError\u001b[0m                              Traceback (most recent call last)",
      "\u001b[0;32m<ipython-input-18-8e90425b7a72>\u001b[0m in \u001b[0;36m<module>\u001b[0;34m()\u001b[0m\n\u001b[1;32m      3\u001b[0m \u001b[0mnum_epochs\u001b[0m \u001b[0;34m=\u001b[0m \u001b[0;36m1000\u001b[0m\u001b[0;34m\u001b[0m\u001b[0;34m\u001b[0m\u001b[0m\n\u001b[1;32m      4\u001b[0m \u001b[0;31m# Loss and optimizer\u001b[0m\u001b[0;34m\u001b[0m\u001b[0;34m\u001b[0m\u001b[0;34m\u001b[0m\u001b[0m\n\u001b[0;32m----> 5\u001b[0;31m \u001b[0mmodel\u001b[0m \u001b[0;34m=\u001b[0m \u001b[0mConvNet\u001b[0m\u001b[0;34m(\u001b[0m\u001b[0mnum_classes\u001b[0m\u001b[0;34m=\u001b[0m\u001b[0;36m3\u001b[0m\u001b[0;34m)\u001b[0m\u001b[0;34m.\u001b[0m\u001b[0mto\u001b[0m\u001b[0;34m(\u001b[0m\u001b[0mdevice\u001b[0m\u001b[0;34m)\u001b[0m\u001b[0;34m\u001b[0m\u001b[0;34m\u001b[0m\u001b[0m\n\u001b[0m\u001b[1;32m      6\u001b[0m \u001b[0;34m\u001b[0m\u001b[0m\n\u001b[1;32m      7\u001b[0m \u001b[0mcriterion\u001b[0m \u001b[0;34m=\u001b[0m \u001b[0mnn\u001b[0m\u001b[0;34m.\u001b[0m\u001b[0mCrossEntropyLoss\u001b[0m\u001b[0;34m(\u001b[0m\u001b[0;34m)\u001b[0m\u001b[0;34m\u001b[0m\u001b[0;34m\u001b[0m\u001b[0m\n",
      "\u001b[0;32m<ipython-input-17-fad591b422d3>\u001b[0m in \u001b[0;36m__init__\u001b[0;34m(self, num_classes)\u001b[0m\n\u001b[1;32m     15\u001b[0m         \u001b[0mnn\u001b[0m\u001b[0;34m.\u001b[0m\u001b[0mReLU\u001b[0m\u001b[0;34m(\u001b[0m\u001b[0;34m)\u001b[0m\u001b[0;34m,\u001b[0m\u001b[0;34m\u001b[0m\u001b[0;34m\u001b[0m\u001b[0m\n\u001b[1;32m     16\u001b[0m         nn.MaxPool2d(kernel_size=2, stride=2))\n\u001b[0;32m---> 17\u001b[0;31m       \u001b[0mself\u001b[0m\u001b[0;34m.\u001b[0m\u001b[0mfc\u001b[0m \u001b[0;34m=\u001b[0m \u001b[0mnn\u001b[0m\u001b[0;34m.\u001b[0m\u001b[0mLinear\u001b[0m\u001b[0;34m(\u001b[0m\u001b[0;34m-\u001b[0m\u001b[0;36m1\u001b[0m\u001b[0;34m,\u001b[0m \u001b[0mnum_classes\u001b[0m\u001b[0;34m)\u001b[0m\u001b[0;34m\u001b[0m\u001b[0;34m\u001b[0m\u001b[0m\n\u001b[0m\u001b[1;32m     18\u001b[0m \u001b[0;34m\u001b[0m\u001b[0m\n\u001b[1;32m     19\u001b[0m     \u001b[0;32mdef\u001b[0m \u001b[0mforward\u001b[0m\u001b[0;34m(\u001b[0m\u001b[0mself\u001b[0m\u001b[0;34m,\u001b[0m \u001b[0mx\u001b[0m\u001b[0;34m)\u001b[0m\u001b[0;34m:\u001b[0m\u001b[0;34m\u001b[0m\u001b[0;34m\u001b[0m\u001b[0m\n",
      "\u001b[0;32m/usr/local/lib/python3.6/dist-packages/torch/nn/modules/linear.py\u001b[0m in \u001b[0;36m__init__\u001b[0;34m(self, in_features, out_features, bias)\u001b[0m\n\u001b[1;32m     76\u001b[0m         \u001b[0mself\u001b[0m\u001b[0;34m.\u001b[0m\u001b[0min_features\u001b[0m \u001b[0;34m=\u001b[0m \u001b[0min_features\u001b[0m\u001b[0;34m\u001b[0m\u001b[0;34m\u001b[0m\u001b[0m\n\u001b[1;32m     77\u001b[0m         \u001b[0mself\u001b[0m\u001b[0;34m.\u001b[0m\u001b[0mout_features\u001b[0m \u001b[0;34m=\u001b[0m \u001b[0mout_features\u001b[0m\u001b[0;34m\u001b[0m\u001b[0;34m\u001b[0m\u001b[0m\n\u001b[0;32m---> 78\u001b[0;31m         \u001b[0mself\u001b[0m\u001b[0;34m.\u001b[0m\u001b[0mweight\u001b[0m \u001b[0;34m=\u001b[0m \u001b[0mParameter\u001b[0m\u001b[0;34m(\u001b[0m\u001b[0mtorch\u001b[0m\u001b[0;34m.\u001b[0m\u001b[0mTensor\u001b[0m\u001b[0;34m(\u001b[0m\u001b[0mout_features\u001b[0m\u001b[0;34m,\u001b[0m \u001b[0min_features\u001b[0m\u001b[0;34m)\u001b[0m\u001b[0;34m)\u001b[0m\u001b[0;34m\u001b[0m\u001b[0;34m\u001b[0m\u001b[0m\n\u001b[0m\u001b[1;32m     79\u001b[0m         \u001b[0;32mif\u001b[0m \u001b[0mbias\u001b[0m\u001b[0;34m:\u001b[0m\u001b[0;34m\u001b[0m\u001b[0;34m\u001b[0m\u001b[0m\n\u001b[1;32m     80\u001b[0m             \u001b[0mself\u001b[0m\u001b[0;34m.\u001b[0m\u001b[0mbias\u001b[0m \u001b[0;34m=\u001b[0m \u001b[0mParameter\u001b[0m\u001b[0;34m(\u001b[0m\u001b[0mtorch\u001b[0m\u001b[0;34m.\u001b[0m\u001b[0mTensor\u001b[0m\u001b[0;34m(\u001b[0m\u001b[0mout_features\u001b[0m\u001b[0;34m)\u001b[0m\u001b[0;34m)\u001b[0m\u001b[0;34m\u001b[0m\u001b[0;34m\u001b[0m\u001b[0m\n",
      "\u001b[0;31mRuntimeError\u001b[0m: Trying to create tensor with negative dimension -1: [3, -1]"
     ]
    }
   ],
   "source": [
    "device = torch.device('cuda:0' if torch.cuda.is_available() else 'cpu')\n",
    "learning_rate = 0.001\n",
    "num_epochs = 1000\n",
    "# Loss and optimizer\n",
    "model = ConvNet(num_classes=3).to(device)\n",
    "\n",
    "criterion = nn.CrossEntropyLoss()\n",
    "optimizer = torch.optim.Adam(model.parameters(), lr=learning_rate)\n",
    "\n",
    "total_loss = []\n",
    "# Train the model\n",
    "total_step = len(train_loader)\n",
    "for epoch in range(num_epochs):\n",
    "  model.train()\n",
    "  for i, batch in enumerate(train_loader):\n",
    "    images, labels = batch[0], batch[1]\n",
    "    images = images.to(device)\n",
    "    labels = labels.to(device)\n",
    "\n",
    "    outputs = model(images)\n",
    "    break\n",
    "    loss = criterion(outputs, labels)\n",
    "    \n",
    "    # Backward and optimize\n",
    "    optimizer.zero_grad()\n",
    "    loss.backward()\n",
    "    optimizer.step()\n",
    "    \n",
    "    total_loss.append(loss.item())\n",
    "\n",
    "  print ('Epoch [{}/{}], Step [{}/{}], Loss: {:.4f}' \n",
    "          .format(epoch+1, num_epochs, i+1, total_step, sum(total_loss)/len(total_loss)))\n",
    "  \n",
    "  model.eval()\n",
    "  with torch.no_grad():\n",
    "    correct = 0\n",
    "    total = 0\n",
    "    for i, batch in enumerate(test_loader):\n",
    "      images, labels = batch[0], batch[1]\n",
    "      images = images.to(device)\n",
    "      labels = labels.to(device)\n",
    "\n",
    "      outputs = model(images)\n",
    "\n",
    "      _, predicted = torch.max(outputs.data, 1)\n",
    "      total += labels.size(0)\n",
    "      correct += (predicted == labels).sum().item()\n",
    "    print('Test Accuracy of the model on the 12 test images: {} %'.format(100 * correct / total))\n",
    "      "
   ]
  },
  {
   "cell_type": "code",
   "execution_count": null,
   "metadata": {
    "id": "A3bOJibdcBz-"
   },
   "outputs": [],
   "source": []
  }
 ],
 "metadata": {
  "accelerator": "GPU",
  "colab": {
   "collapsed_sections": [],
   "name": "[Lab3]걸그룹_인식하기.ipynb",
   "provenance": []
  },
  "kernelspec": {
   "display_name": "Python 3",
   "language": "python",
   "name": "python3"
  },
  "language_info": {
   "codemirror_mode": {
    "name": "ipython",
    "version": 3
   },
   "file_extension": ".py",
   "mimetype": "text/x-python",
   "name": "python",
   "nbconvert_exporter": "python",
   "pygments_lexer": "ipython3",
   "version": "3.7.6"
  },
  "toc": {
   "base_numbering": 1,
   "nav_menu": {},
   "number_sections": true,
   "sideBar": true,
   "skip_h1_title": false,
   "title_cell": "Table of Contents",
   "title_sidebar": "Contents",
   "toc_cell": false,
   "toc_position": {},
   "toc_section_display": true,
   "toc_window_display": false
  }
 },
 "nbformat": 4,
 "nbformat_minor": 1
}
