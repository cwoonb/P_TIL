{
 "cells": [
  {
   "cell_type": "markdown",
   "metadata": {},
   "source": [
    "## 모델의 성능 개선하기\n",
    "* IBM sample datasets\n",
    "https://www.kaggle.com/blastchar/telco-customer-churn\n",
    "\n",
    "* Demographic info: \n",
    "    * Gender, SeniorCitizen, Partner, Dependents\n",
    "* Services subscribed: \n",
    "    * PhoneService, MultipleLine, InternetService, OnlineSecurity, OnlineBackup, DeviceProtection, TechSupport, StreamingTV, StreamingMovies\n",
    "* Customer account info:\n",
    "    * CustomerID, Contract, PaperlessBilling, PaymentMethod, MonthlyCharges, TotalCharges, Tenure"
   ]
  },
  {
   "cell_type": "code",
   "execution_count": 22,
   "metadata": {},
   "outputs": [],
   "source": [
    "import pandas as pd\n",
    "import numpy as np\n",
    "import seaborn as sns\n",
    "import matplotlib.pyplot as plt"
   ]
  },
  {
   "cell_type": "code",
   "execution_count": 23,
   "metadata": {},
   "outputs": [],
   "source": [
    "from IPython.display import set_matplotlib_formats\n",
    "\n",
    "set_matplotlib_formats('retina')"
   ]
  },
  {
   "cell_type": "markdown",
   "metadata": {},
   "source": [
    "## 데이터 로드하기\n",
    "* 전처리된 모델을 로드하기"
   ]
  },
  {
   "cell_type": "code",
   "execution_count": 24,
   "metadata": {},
   "outputs": [
    {
     "data": {
      "text/plain": [
       "(7043, 50)"
      ]
     },
     "execution_count": 24,
     "metadata": {},
     "output_type": "execute_result"
    }
   ],
   "source": [
    "# telco_feature 로드하기\n",
    "\n",
    "df = pd.read_csv(\"data/telco_feature.csv\")\n",
    "df.shape"
   ]
  },
  {
   "cell_type": "code",
   "execution_count": 25,
   "metadata": {},
   "outputs": [],
   "source": [
    "# customerID 를 인덱스로 설정하기\n",
    "\n",
    "df = df.set_index(\"customerID\")"
   ]
  },
  {
   "cell_type": "code",
   "execution_count": 26,
   "metadata": {},
   "outputs": [
    {
     "data": {
      "text/html": [
       "<div>\n",
       "<style scoped>\n",
       "    .dataframe tbody tr th:only-of-type {\n",
       "        vertical-align: middle;\n",
       "    }\n",
       "\n",
       "    .dataframe tbody tr th {\n",
       "        vertical-align: top;\n",
       "    }\n",
       "\n",
       "    .dataframe thead th {\n",
       "        text-align: right;\n",
       "    }\n",
       "</style>\n",
       "<table border=\"1\" class=\"dataframe\">\n",
       "  <thead>\n",
       "    <tr style=\"text-align: right;\">\n",
       "      <th></th>\n",
       "      <th>Churn_bool</th>\n",
       "      <th>Dependents_bool</th>\n",
       "      <th>PhoneService_bool</th>\n",
       "      <th>gender_bool</th>\n",
       "      <th>Partner_bool</th>\n",
       "      <th>PaperlessBilling_bool</th>\n",
       "      <th>DeviceProtection_No</th>\n",
       "      <th>DeviceProtection_No internet service</th>\n",
       "      <th>DeviceProtection_Yes</th>\n",
       "      <th>PaymentMethod_Bank transfer (automatic)</th>\n",
       "      <th>...</th>\n",
       "      <th>tenure_group_0-20</th>\n",
       "      <th>tenure_group_20-40</th>\n",
       "      <th>tenure_group_40-60</th>\n",
       "      <th>tenure_group_60plus</th>\n",
       "      <th>InternetService_DSL</th>\n",
       "      <th>InternetService_Fiber optic</th>\n",
       "      <th>InternetService_No</th>\n",
       "      <th>StreamingTV_No</th>\n",
       "      <th>StreamingTV_No internet service</th>\n",
       "      <th>StreamingTV_Yes</th>\n",
       "    </tr>\n",
       "    <tr>\n",
       "      <th>customerID</th>\n",
       "      <th></th>\n",
       "      <th></th>\n",
       "      <th></th>\n",
       "      <th></th>\n",
       "      <th></th>\n",
       "      <th></th>\n",
       "      <th></th>\n",
       "      <th></th>\n",
       "      <th></th>\n",
       "      <th></th>\n",
       "      <th></th>\n",
       "      <th></th>\n",
       "      <th></th>\n",
       "      <th></th>\n",
       "      <th></th>\n",
       "      <th></th>\n",
       "      <th></th>\n",
       "      <th></th>\n",
       "      <th></th>\n",
       "      <th></th>\n",
       "      <th></th>\n",
       "    </tr>\n",
       "  </thead>\n",
       "  <tbody>\n",
       "    <tr>\n",
       "      <th>7590-VHVEG</th>\n",
       "      <td>False</td>\n",
       "      <td>False</td>\n",
       "      <td>False</td>\n",
       "      <td>False</td>\n",
       "      <td>True</td>\n",
       "      <td>True</td>\n",
       "      <td>1</td>\n",
       "      <td>0</td>\n",
       "      <td>0</td>\n",
       "      <td>0</td>\n",
       "      <td>...</td>\n",
       "      <td>1</td>\n",
       "      <td>0</td>\n",
       "      <td>0</td>\n",
       "      <td>0</td>\n",
       "      <td>1</td>\n",
       "      <td>0</td>\n",
       "      <td>0</td>\n",
       "      <td>1</td>\n",
       "      <td>0</td>\n",
       "      <td>0</td>\n",
       "    </tr>\n",
       "    <tr>\n",
       "      <th>5575-GNVDE</th>\n",
       "      <td>False</td>\n",
       "      <td>False</td>\n",
       "      <td>True</td>\n",
       "      <td>True</td>\n",
       "      <td>False</td>\n",
       "      <td>False</td>\n",
       "      <td>0</td>\n",
       "      <td>0</td>\n",
       "      <td>1</td>\n",
       "      <td>0</td>\n",
       "      <td>...</td>\n",
       "      <td>0</td>\n",
       "      <td>1</td>\n",
       "      <td>0</td>\n",
       "      <td>0</td>\n",
       "      <td>1</td>\n",
       "      <td>0</td>\n",
       "      <td>0</td>\n",
       "      <td>1</td>\n",
       "      <td>0</td>\n",
       "      <td>0</td>\n",
       "    </tr>\n",
       "    <tr>\n",
       "      <th>3668-QPYBK</th>\n",
       "      <td>True</td>\n",
       "      <td>False</td>\n",
       "      <td>True</td>\n",
       "      <td>True</td>\n",
       "      <td>False</td>\n",
       "      <td>True</td>\n",
       "      <td>1</td>\n",
       "      <td>0</td>\n",
       "      <td>0</td>\n",
       "      <td>0</td>\n",
       "      <td>...</td>\n",
       "      <td>1</td>\n",
       "      <td>0</td>\n",
       "      <td>0</td>\n",
       "      <td>0</td>\n",
       "      <td>1</td>\n",
       "      <td>0</td>\n",
       "      <td>0</td>\n",
       "      <td>1</td>\n",
       "      <td>0</td>\n",
       "      <td>0</td>\n",
       "    </tr>\n",
       "    <tr>\n",
       "      <th>7795-CFOCW</th>\n",
       "      <td>False</td>\n",
       "      <td>False</td>\n",
       "      <td>False</td>\n",
       "      <td>True</td>\n",
       "      <td>False</td>\n",
       "      <td>False</td>\n",
       "      <td>0</td>\n",
       "      <td>0</td>\n",
       "      <td>1</td>\n",
       "      <td>1</td>\n",
       "      <td>...</td>\n",
       "      <td>0</td>\n",
       "      <td>0</td>\n",
       "      <td>1</td>\n",
       "      <td>0</td>\n",
       "      <td>1</td>\n",
       "      <td>0</td>\n",
       "      <td>0</td>\n",
       "      <td>1</td>\n",
       "      <td>0</td>\n",
       "      <td>0</td>\n",
       "    </tr>\n",
       "    <tr>\n",
       "      <th>9237-HQITU</th>\n",
       "      <td>True</td>\n",
       "      <td>False</td>\n",
       "      <td>True</td>\n",
       "      <td>False</td>\n",
       "      <td>False</td>\n",
       "      <td>True</td>\n",
       "      <td>1</td>\n",
       "      <td>0</td>\n",
       "      <td>0</td>\n",
       "      <td>0</td>\n",
       "      <td>...</td>\n",
       "      <td>1</td>\n",
       "      <td>0</td>\n",
       "      <td>0</td>\n",
       "      <td>0</td>\n",
       "      <td>0</td>\n",
       "      <td>1</td>\n",
       "      <td>0</td>\n",
       "      <td>1</td>\n",
       "      <td>0</td>\n",
       "      <td>0</td>\n",
       "    </tr>\n",
       "  </tbody>\n",
       "</table>\n",
       "<p>5 rows × 49 columns</p>\n",
       "</div>"
      ],
      "text/plain": [
       "            Churn_bool  Dependents_bool  PhoneService_bool  gender_bool  \\\n",
       "customerID                                                                \n",
       "7590-VHVEG       False            False              False        False   \n",
       "5575-GNVDE       False            False               True         True   \n",
       "3668-QPYBK        True            False               True         True   \n",
       "7795-CFOCW       False            False              False         True   \n",
       "9237-HQITU        True            False               True        False   \n",
       "\n",
       "            Partner_bool  PaperlessBilling_bool  DeviceProtection_No  \\\n",
       "customerID                                                             \n",
       "7590-VHVEG          True                   True                    1   \n",
       "5575-GNVDE         False                  False                    0   \n",
       "3668-QPYBK         False                   True                    1   \n",
       "7795-CFOCW         False                  False                    0   \n",
       "9237-HQITU         False                   True                    1   \n",
       "\n",
       "            DeviceProtection_No internet service  DeviceProtection_Yes  \\\n",
       "customerID                                                               \n",
       "7590-VHVEG                                     0                     0   \n",
       "5575-GNVDE                                     0                     1   \n",
       "3668-QPYBK                                     0                     0   \n",
       "7795-CFOCW                                     0                     1   \n",
       "9237-HQITU                                     0                     0   \n",
       "\n",
       "            PaymentMethod_Bank transfer (automatic)  ...  tenure_group_0-20  \\\n",
       "customerID                                           ...                      \n",
       "7590-VHVEG                                        0  ...                  1   \n",
       "5575-GNVDE                                        0  ...                  0   \n",
       "3668-QPYBK                                        0  ...                  1   \n",
       "7795-CFOCW                                        1  ...                  0   \n",
       "9237-HQITU                                        0  ...                  1   \n",
       "\n",
       "            tenure_group_20-40  tenure_group_40-60  tenure_group_60plus  \\\n",
       "customerID                                                                \n",
       "7590-VHVEG                   0                   0                    0   \n",
       "5575-GNVDE                   1                   0                    0   \n",
       "3668-QPYBK                   0                   0                    0   \n",
       "7795-CFOCW                   0                   1                    0   \n",
       "9237-HQITU                   0                   0                    0   \n",
       "\n",
       "            InternetService_DSL  InternetService_Fiber optic  \\\n",
       "customerID                                                     \n",
       "7590-VHVEG                    1                            0   \n",
       "5575-GNVDE                    1                            0   \n",
       "3668-QPYBK                    1                            0   \n",
       "7795-CFOCW                    1                            0   \n",
       "9237-HQITU                    0                            1   \n",
       "\n",
       "            InternetService_No  StreamingTV_No  \\\n",
       "customerID                                       \n",
       "7590-VHVEG                   0               1   \n",
       "5575-GNVDE                   0               1   \n",
       "3668-QPYBK                   0               1   \n",
       "7795-CFOCW                   0               1   \n",
       "9237-HQITU                   0               1   \n",
       "\n",
       "            StreamingTV_No internet service  StreamingTV_Yes  \n",
       "customerID                                                    \n",
       "7590-VHVEG                                0                0  \n",
       "5575-GNVDE                                0                0  \n",
       "3668-QPYBK                                0                0  \n",
       "7795-CFOCW                                0                0  \n",
       "9237-HQITU                                0                0  \n",
       "\n",
       "[5 rows x 49 columns]"
      ]
     },
     "execution_count": 26,
     "metadata": {},
     "output_type": "execute_result"
    }
   ],
   "source": [
    "# head 로 미리보기\n",
    "\n",
    "df.head()"
   ]
  },
  {
   "cell_type": "code",
   "execution_count": 27,
   "metadata": {},
   "outputs": [
    {
     "name": "stdout",
     "output_type": "stream",
     "text": [
      "<class 'pandas.core.frame.DataFrame'>\n",
      "Index: 7043 entries, 7590-VHVEG to 3186-AJIEK\n",
      "Data columns (total 49 columns):\n",
      " #   Column                                   Non-Null Count  Dtype\n",
      "---  ------                                   --------------  -----\n",
      " 0   Churn_bool                               7043 non-null   bool \n",
      " 1   Dependents_bool                          7043 non-null   bool \n",
      " 2   PhoneService_bool                        7043 non-null   bool \n",
      " 3   gender_bool                              7043 non-null   bool \n",
      " 4   Partner_bool                             7043 non-null   bool \n",
      " 5   PaperlessBilling_bool                    7043 non-null   bool \n",
      " 6   DeviceProtection_No                      7043 non-null   int64\n",
      " 7   DeviceProtection_No internet service     7043 non-null   int64\n",
      " 8   DeviceProtection_Yes                     7043 non-null   int64\n",
      " 9   PaymentMethod_Bank transfer (automatic)  7043 non-null   int64\n",
      " 10  PaymentMethod_Credit card (automatic)    7043 non-null   int64\n",
      " 11  PaymentMethod_Electronic check           7043 non-null   int64\n",
      " 12  PaymentMethod_Mailed check               7043 non-null   int64\n",
      " 13  StreamingMovies_No                       7043 non-null   int64\n",
      " 14  StreamingMovies_No internet service      7043 non-null   int64\n",
      " 15  StreamingMovies_Yes                      7043 non-null   int64\n",
      " 16  monthlycharges_group_0-30                7043 non-null   int64\n",
      " 17  monthlycharges_group_30-70               7043 non-null   int64\n",
      " 18  monthlycharges_group_70-99               7043 non-null   int64\n",
      " 19  monthlycharges_group_99plus              7043 non-null   int64\n",
      " 20  totalcharges_group_0-2k                  7043 non-null   int64\n",
      " 21  totalcharges_group_2k-4k                 7043 non-null   int64\n",
      " 22  totalcharges_group_4k-6k                 7043 non-null   int64\n",
      " 23  totalcharges_group_6kplus                7043 non-null   int64\n",
      " 24  OnlineBackup_No                          7043 non-null   int64\n",
      " 25  OnlineBackup_No internet service         7043 non-null   int64\n",
      " 26  OnlineBackup_Yes                         7043 non-null   int64\n",
      " 27  MultipleLines_No                         7043 non-null   int64\n",
      " 28  MultipleLines_No phone service           7043 non-null   int64\n",
      " 29  MultipleLines_Yes                        7043 non-null   int64\n",
      " 30  TechSupport_No                           7043 non-null   int64\n",
      " 31  TechSupport_No internet service          7043 non-null   int64\n",
      " 32  TechSupport_Yes                          7043 non-null   int64\n",
      " 33  OnlineSecurity_No                        7043 non-null   int64\n",
      " 34  OnlineSecurity_No internet service       7043 non-null   int64\n",
      " 35  OnlineSecurity_Yes                       7043 non-null   int64\n",
      " 36  Contract_Month-to-month                  7043 non-null   int64\n",
      " 37  Contract_One year                        7043 non-null   int64\n",
      " 38  Contract_Two year                        7043 non-null   int64\n",
      " 39  tenure_group_0-20                        7043 non-null   int64\n",
      " 40  tenure_group_20-40                       7043 non-null   int64\n",
      " 41  tenure_group_40-60                       7043 non-null   int64\n",
      " 42  tenure_group_60plus                      7043 non-null   int64\n",
      " 43  InternetService_DSL                      7043 non-null   int64\n",
      " 44  InternetService_Fiber optic              7043 non-null   int64\n",
      " 45  InternetService_No                       7043 non-null   int64\n",
      " 46  StreamingTV_No                           7043 non-null   int64\n",
      " 47  StreamingTV_No internet service          7043 non-null   int64\n",
      " 48  StreamingTV_Yes                          7043 non-null   int64\n",
      "dtypes: bool(6), int64(43)\n",
      "memory usage: 2.4+ MB\n"
     ]
    }
   ],
   "source": [
    "# info 보기\n",
    "\n",
    "df.info()"
   ]
  },
  {
   "cell_type": "markdown",
   "metadata": {},
   "source": [
    "## 전처리"
   ]
  },
  {
   "cell_type": "code",
   "execution_count": 28,
   "metadata": {},
   "outputs": [],
   "source": [
    "# df[\"TotalCharges\"] = pd.to_numeric(df[\"TotalCharges\"], errors=\"coerce\")"
   ]
  },
  {
   "cell_type": "code",
   "execution_count": 29,
   "metadata": {},
   "outputs": [],
   "source": [
    "# 결측치를 채워주는 방법도 있지만 일단 제거하도록 합니다.\n"
   ]
  },
  {
   "cell_type": "code",
   "execution_count": 30,
   "metadata": {
    "scrolled": false
   },
   "outputs": [
    {
     "data": {
      "text/plain": [
       "False    5174\n",
       "True     1869\n",
       "Name: Churn_bool, dtype: int64"
      ]
     },
     "execution_count": 30,
     "metadata": {},
     "output_type": "execute_result"
    }
   ],
   "source": [
    "# Churn 빈도수 보기\n",
    "df[\"Churn_bool\"].value_counts()"
   ]
  },
  {
   "cell_type": "markdown",
   "metadata": {},
   "source": [
    "## 학습, 예측 데이터셋 나누기\n",
    "### 학습, 예측에 사용할 컬럼"
   ]
  },
  {
   "cell_type": "code",
   "execution_count": 31,
   "metadata": {},
   "outputs": [
    {
     "data": {
      "text/plain": [
       "Churn_bool                                 2\n",
       "Dependents_bool                            2\n",
       "PhoneService_bool                          2\n",
       "gender_bool                                2\n",
       "Partner_bool                               2\n",
       "PaperlessBilling_bool                      2\n",
       "DeviceProtection_No                        2\n",
       "DeviceProtection_No internet service       2\n",
       "DeviceProtection_Yes                       2\n",
       "PaymentMethod_Bank transfer (automatic)    2\n",
       "PaymentMethod_Credit card (automatic)      2\n",
       "PaymentMethod_Electronic check             2\n",
       "PaymentMethod_Mailed check                 2\n",
       "StreamingMovies_No                         2\n",
       "StreamingMovies_No internet service        2\n",
       "StreamingMovies_Yes                        2\n",
       "monthlycharges_group_0-30                  2\n",
       "monthlycharges_group_30-70                 2\n",
       "monthlycharges_group_70-99                 2\n",
       "monthlycharges_group_99plus                2\n",
       "totalcharges_group_0-2k                    2\n",
       "totalcharges_group_2k-4k                   2\n",
       "totalcharges_group_4k-6k                   2\n",
       "totalcharges_group_6kplus                  2\n",
       "OnlineBackup_No                            2\n",
       "OnlineBackup_No internet service           2\n",
       "OnlineBackup_Yes                           2\n",
       "MultipleLines_No                           2\n",
       "MultipleLines_No phone service             2\n",
       "MultipleLines_Yes                          2\n",
       "TechSupport_No                             2\n",
       "TechSupport_No internet service            2\n",
       "TechSupport_Yes                            2\n",
       "OnlineSecurity_No                          2\n",
       "OnlineSecurity_No internet service         2\n",
       "OnlineSecurity_Yes                         2\n",
       "Contract_Month-to-month                    2\n",
       "Contract_One year                          2\n",
       "Contract_Two year                          2\n",
       "tenure_group_0-20                          2\n",
       "tenure_group_20-40                         2\n",
       "tenure_group_40-60                         2\n",
       "tenure_group_60plus                        2\n",
       "InternetService_DSL                        2\n",
       "InternetService_Fiber optic                2\n",
       "InternetService_No                         2\n",
       "StreamingTV_No                             2\n",
       "StreamingTV_No internet service            2\n",
       "StreamingTV_Yes                            2\n",
       "dtype: int64"
      ]
     },
     "execution_count": 31,
     "metadata": {},
     "output_type": "execute_result"
    }
   ],
   "source": [
    "df.nunique()"
   ]
  },
  {
   "cell_type": "code",
   "execution_count": 32,
   "metadata": {},
   "outputs": [],
   "source": [
    "# 피처로 사용할 컬럼 지정하기\n",
    "# feature_names\n"
   ]
  },
  {
   "cell_type": "markdown",
   "metadata": {},
   "source": [
    "### 정답값이자 예측해야 될 값"
   ]
  },
  {
   "cell_type": "code",
   "execution_count": 33,
   "metadata": {},
   "outputs": [
    {
     "data": {
      "text/plain": [
       "'Churn_bool'"
      ]
     },
     "execution_count": 33,
     "metadata": {},
     "output_type": "execute_result"
    }
   ],
   "source": [
    "# label_name 이라는 변수에 예측할 컬럼의 이름을 담습니다.\n",
    "\n",
    "label_name = \"Churn_bool\"\n",
    "label_name"
   ]
  },
  {
   "cell_type": "markdown",
   "metadata": {},
   "source": [
    "### 문제(feature)와 답안(label)을 나누기\n",
    "\n",
    "* X, y를 만들어 줍니다.\n",
    "* X는 feature, 독립변수, 예) 시험의 문제\n",
    "* y는 label, 종속변수, 예) 시험의 정답"
   ]
  },
  {
   "cell_type": "code",
   "execution_count": 34,
   "metadata": {},
   "outputs": [],
   "source": [
    "# X, y를 만들어 줍니다.\n",
    "\n",
    "X = df.drop(label_name, axis=1)\n",
    "y = df[label_name]"
   ]
  },
  {
   "cell_type": "markdown",
   "metadata": {},
   "source": [
    "### 학습, 예측 데이터셋 만들기\n",
    "* X_train : 학습 세트 만들기, 행렬, 판다스의 데이터프레임, 2차원 리스트(배열) 구조,  예) 시험의 기출문제\n",
    "* y_train : 정답 값을 만들기, 벡터, 판다스의 시리즈, 1차원 리스트(배열) 구조, 예) 기출문제의 정답\n",
    "* X_test : 예측에 사용할 데이터세트를 만듭니다. 예) 실전 시험 문제\n",
    "* y_test : 예측의 정답값 예) 실전 시험 문제의 정답"
   ]
  },
  {
   "cell_type": "code",
   "execution_count": 35,
   "metadata": {},
   "outputs": [],
   "source": [
    "# train_test_split 으로 데이터셋 나누기\n",
    "\n",
    "from sklearn.model_selection import train_test_split\n",
    "\n",
    "X_train, X_test, y_train, y_test = train_test_split(\n",
    "    X, y, test_size=0.33, random_state=42)"
   ]
  },
  {
   "cell_type": "code",
   "execution_count": 36,
   "metadata": {},
   "outputs": [
    {
     "data": {
      "text/plain": [
       "((4718, 48), (2325, 48), (4718,), (2325,))"
      ]
     },
     "execution_count": 36,
     "metadata": {},
     "output_type": "execute_result"
    }
   ],
   "source": [
    "X_train.shape, X_test.shape, y_train.shape, y_test.shape"
   ]
  },
  {
   "cell_type": "code",
   "execution_count": 37,
   "metadata": {},
   "outputs": [
    {
     "data": {
      "text/html": [
       "<div>\n",
       "<style scoped>\n",
       "    .dataframe tbody tr th:only-of-type {\n",
       "        vertical-align: middle;\n",
       "    }\n",
       "\n",
       "    .dataframe tbody tr th {\n",
       "        vertical-align: top;\n",
       "    }\n",
       "\n",
       "    .dataframe thead th {\n",
       "        text-align: right;\n",
       "    }\n",
       "</style>\n",
       "<table border=\"1\" class=\"dataframe\">\n",
       "  <thead>\n",
       "    <tr style=\"text-align: right;\">\n",
       "      <th></th>\n",
       "      <th>Dependents_bool</th>\n",
       "      <th>PhoneService_bool</th>\n",
       "      <th>gender_bool</th>\n",
       "      <th>Partner_bool</th>\n",
       "      <th>PaperlessBilling_bool</th>\n",
       "      <th>DeviceProtection_No</th>\n",
       "      <th>DeviceProtection_No internet service</th>\n",
       "      <th>DeviceProtection_Yes</th>\n",
       "      <th>PaymentMethod_Bank transfer (automatic)</th>\n",
       "      <th>PaymentMethod_Credit card (automatic)</th>\n",
       "      <th>...</th>\n",
       "      <th>tenure_group_0-20</th>\n",
       "      <th>tenure_group_20-40</th>\n",
       "      <th>tenure_group_40-60</th>\n",
       "      <th>tenure_group_60plus</th>\n",
       "      <th>InternetService_DSL</th>\n",
       "      <th>InternetService_Fiber optic</th>\n",
       "      <th>InternetService_No</th>\n",
       "      <th>StreamingTV_No</th>\n",
       "      <th>StreamingTV_No internet service</th>\n",
       "      <th>StreamingTV_Yes</th>\n",
       "    </tr>\n",
       "    <tr>\n",
       "      <th>customerID</th>\n",
       "      <th></th>\n",
       "      <th></th>\n",
       "      <th></th>\n",
       "      <th></th>\n",
       "      <th></th>\n",
       "      <th></th>\n",
       "      <th></th>\n",
       "      <th></th>\n",
       "      <th></th>\n",
       "      <th></th>\n",
       "      <th></th>\n",
       "      <th></th>\n",
       "      <th></th>\n",
       "      <th></th>\n",
       "      <th></th>\n",
       "      <th></th>\n",
       "      <th></th>\n",
       "      <th></th>\n",
       "      <th></th>\n",
       "      <th></th>\n",
       "      <th></th>\n",
       "    </tr>\n",
       "  </thead>\n",
       "  <tbody>\n",
       "    <tr>\n",
       "      <th>2985-JUUBZ</th>\n",
       "      <td>True</td>\n",
       "      <td>True</td>\n",
       "      <td>True</td>\n",
       "      <td>True</td>\n",
       "      <td>True</td>\n",
       "      <td>0</td>\n",
       "      <td>0</td>\n",
       "      <td>1</td>\n",
       "      <td>0</td>\n",
       "      <td>0</td>\n",
       "      <td>...</td>\n",
       "      <td>0</td>\n",
       "      <td>1</td>\n",
       "      <td>0</td>\n",
       "      <td>0</td>\n",
       "      <td>1</td>\n",
       "      <td>0</td>\n",
       "      <td>0</td>\n",
       "      <td>0</td>\n",
       "      <td>0</td>\n",
       "      <td>1</td>\n",
       "    </tr>\n",
       "    <tr>\n",
       "      <th>5016-ETTFF</th>\n",
       "      <td>False</td>\n",
       "      <td>False</td>\n",
       "      <td>True</td>\n",
       "      <td>False</td>\n",
       "      <td>False</td>\n",
       "      <td>0</td>\n",
       "      <td>0</td>\n",
       "      <td>1</td>\n",
       "      <td>0</td>\n",
       "      <td>0</td>\n",
       "      <td>...</td>\n",
       "      <td>1</td>\n",
       "      <td>0</td>\n",
       "      <td>0</td>\n",
       "      <td>0</td>\n",
       "      <td>1</td>\n",
       "      <td>0</td>\n",
       "      <td>0</td>\n",
       "      <td>1</td>\n",
       "      <td>0</td>\n",
       "      <td>0</td>\n",
       "    </tr>\n",
       "    <tr>\n",
       "      <th>1998-VHJHK</th>\n",
       "      <td>False</td>\n",
       "      <td>True</td>\n",
       "      <td>False</td>\n",
       "      <td>False</td>\n",
       "      <td>False</td>\n",
       "      <td>0</td>\n",
       "      <td>1</td>\n",
       "      <td>0</td>\n",
       "      <td>0</td>\n",
       "      <td>0</td>\n",
       "      <td>...</td>\n",
       "      <td>0</td>\n",
       "      <td>1</td>\n",
       "      <td>0</td>\n",
       "      <td>0</td>\n",
       "      <td>0</td>\n",
       "      <td>0</td>\n",
       "      <td>1</td>\n",
       "      <td>0</td>\n",
       "      <td>1</td>\n",
       "      <td>0</td>\n",
       "    </tr>\n",
       "    <tr>\n",
       "      <th>1925-TIBLE</th>\n",
       "      <td>False</td>\n",
       "      <td>True</td>\n",
       "      <td>False</td>\n",
       "      <td>True</td>\n",
       "      <td>True</td>\n",
       "      <td>1</td>\n",
       "      <td>0</td>\n",
       "      <td>0</td>\n",
       "      <td>0</td>\n",
       "      <td>0</td>\n",
       "      <td>...</td>\n",
       "      <td>1</td>\n",
       "      <td>0</td>\n",
       "      <td>0</td>\n",
       "      <td>0</td>\n",
       "      <td>0</td>\n",
       "      <td>1</td>\n",
       "      <td>0</td>\n",
       "      <td>0</td>\n",
       "      <td>0</td>\n",
       "      <td>1</td>\n",
       "    </tr>\n",
       "    <tr>\n",
       "      <th>0485-ZBSLN</th>\n",
       "      <td>True</td>\n",
       "      <td>True</td>\n",
       "      <td>True</td>\n",
       "      <td>True</td>\n",
       "      <td>False</td>\n",
       "      <td>0</td>\n",
       "      <td>1</td>\n",
       "      <td>0</td>\n",
       "      <td>0</td>\n",
       "      <td>1</td>\n",
       "      <td>...</td>\n",
       "      <td>0</td>\n",
       "      <td>0</td>\n",
       "      <td>0</td>\n",
       "      <td>1</td>\n",
       "      <td>0</td>\n",
       "      <td>0</td>\n",
       "      <td>1</td>\n",
       "      <td>0</td>\n",
       "      <td>1</td>\n",
       "      <td>0</td>\n",
       "    </tr>\n",
       "  </tbody>\n",
       "</table>\n",
       "<p>5 rows × 48 columns</p>\n",
       "</div>"
      ],
      "text/plain": [
       "            Dependents_bool  PhoneService_bool  gender_bool  Partner_bool  \\\n",
       "customerID                                                                  \n",
       "2985-JUUBZ             True               True         True          True   \n",
       "5016-ETTFF            False              False         True         False   \n",
       "1998-VHJHK            False               True        False         False   \n",
       "1925-TIBLE            False               True        False          True   \n",
       "0485-ZBSLN             True               True         True          True   \n",
       "\n",
       "            PaperlessBilling_bool  DeviceProtection_No  \\\n",
       "customerID                                               \n",
       "2985-JUUBZ                   True                    0   \n",
       "5016-ETTFF                  False                    0   \n",
       "1998-VHJHK                  False                    0   \n",
       "1925-TIBLE                   True                    1   \n",
       "0485-ZBSLN                  False                    0   \n",
       "\n",
       "            DeviceProtection_No internet service  DeviceProtection_Yes  \\\n",
       "customerID                                                               \n",
       "2985-JUUBZ                                     0                     1   \n",
       "5016-ETTFF                                     0                     1   \n",
       "1998-VHJHK                                     1                     0   \n",
       "1925-TIBLE                                     0                     0   \n",
       "0485-ZBSLN                                     1                     0   \n",
       "\n",
       "            PaymentMethod_Bank transfer (automatic)  \\\n",
       "customerID                                            \n",
       "2985-JUUBZ                                        0   \n",
       "5016-ETTFF                                        0   \n",
       "1998-VHJHK                                        0   \n",
       "1925-TIBLE                                        0   \n",
       "0485-ZBSLN                                        0   \n",
       "\n",
       "            PaymentMethod_Credit card (automatic)  ...  tenure_group_0-20  \\\n",
       "customerID                                         ...                      \n",
       "2985-JUUBZ                                      0  ...                  0   \n",
       "5016-ETTFF                                      0  ...                  1   \n",
       "1998-VHJHK                                      0  ...                  0   \n",
       "1925-TIBLE                                      0  ...                  1   \n",
       "0485-ZBSLN                                      1  ...                  0   \n",
       "\n",
       "            tenure_group_20-40  tenure_group_40-60  tenure_group_60plus  \\\n",
       "customerID                                                                \n",
       "2985-JUUBZ                   1                   0                    0   \n",
       "5016-ETTFF                   0                   0                    0   \n",
       "1998-VHJHK                   1                   0                    0   \n",
       "1925-TIBLE                   0                   0                    0   \n",
       "0485-ZBSLN                   0                   0                    1   \n",
       "\n",
       "            InternetService_DSL  InternetService_Fiber optic  \\\n",
       "customerID                                                     \n",
       "2985-JUUBZ                    1                            0   \n",
       "5016-ETTFF                    1                            0   \n",
       "1998-VHJHK                    0                            0   \n",
       "1925-TIBLE                    0                            1   \n",
       "0485-ZBSLN                    0                            0   \n",
       "\n",
       "            InternetService_No  StreamingTV_No  \\\n",
       "customerID                                       \n",
       "2985-JUUBZ                   0               0   \n",
       "5016-ETTFF                   0               1   \n",
       "1998-VHJHK                   1               0   \n",
       "1925-TIBLE                   0               0   \n",
       "0485-ZBSLN                   1               0   \n",
       "\n",
       "            StreamingTV_No internet service  StreamingTV_Yes  \n",
       "customerID                                                    \n",
       "2985-JUUBZ                                0                1  \n",
       "5016-ETTFF                                0                0  \n",
       "1998-VHJHK                                1                0  \n",
       "1925-TIBLE                                0                1  \n",
       "0485-ZBSLN                                1                0  \n",
       "\n",
       "[5 rows x 48 columns]"
      ]
     },
     "execution_count": 37,
     "metadata": {},
     "output_type": "execute_result"
    }
   ],
   "source": [
    "# X_train 미리보기\n",
    "\n",
    "X_train.head()"
   ]
  },
  {
   "cell_type": "code",
   "execution_count": 38,
   "metadata": {},
   "outputs": [
    {
     "data": {
      "text/html": [
       "<div>\n",
       "<style scoped>\n",
       "    .dataframe tbody tr th:only-of-type {\n",
       "        vertical-align: middle;\n",
       "    }\n",
       "\n",
       "    .dataframe tbody tr th {\n",
       "        vertical-align: top;\n",
       "    }\n",
       "\n",
       "    .dataframe thead th {\n",
       "        text-align: right;\n",
       "    }\n",
       "</style>\n",
       "<table border=\"1\" class=\"dataframe\">\n",
       "  <thead>\n",
       "    <tr style=\"text-align: right;\">\n",
       "      <th></th>\n",
       "      <th>Dependents_bool</th>\n",
       "      <th>PhoneService_bool</th>\n",
       "      <th>gender_bool</th>\n",
       "      <th>Partner_bool</th>\n",
       "      <th>PaperlessBilling_bool</th>\n",
       "      <th>DeviceProtection_No</th>\n",
       "      <th>DeviceProtection_No internet service</th>\n",
       "      <th>DeviceProtection_Yes</th>\n",
       "      <th>PaymentMethod_Bank transfer (automatic)</th>\n",
       "      <th>PaymentMethod_Credit card (automatic)</th>\n",
       "      <th>...</th>\n",
       "      <th>tenure_group_0-20</th>\n",
       "      <th>tenure_group_20-40</th>\n",
       "      <th>tenure_group_40-60</th>\n",
       "      <th>tenure_group_60plus</th>\n",
       "      <th>InternetService_DSL</th>\n",
       "      <th>InternetService_Fiber optic</th>\n",
       "      <th>InternetService_No</th>\n",
       "      <th>StreamingTV_No</th>\n",
       "      <th>StreamingTV_No internet service</th>\n",
       "      <th>StreamingTV_Yes</th>\n",
       "    </tr>\n",
       "    <tr>\n",
       "      <th>customerID</th>\n",
       "      <th></th>\n",
       "      <th></th>\n",
       "      <th></th>\n",
       "      <th></th>\n",
       "      <th></th>\n",
       "      <th></th>\n",
       "      <th></th>\n",
       "      <th></th>\n",
       "      <th></th>\n",
       "      <th></th>\n",
       "      <th></th>\n",
       "      <th></th>\n",
       "      <th></th>\n",
       "      <th></th>\n",
       "      <th></th>\n",
       "      <th></th>\n",
       "      <th></th>\n",
       "      <th></th>\n",
       "      <th></th>\n",
       "      <th></th>\n",
       "      <th></th>\n",
       "    </tr>\n",
       "  </thead>\n",
       "  <tbody>\n",
       "    <tr>\n",
       "      <th>1024-GUALD</th>\n",
       "      <td>False</td>\n",
       "      <td>False</td>\n",
       "      <td>False</td>\n",
       "      <td>True</td>\n",
       "      <td>True</td>\n",
       "      <td>1</td>\n",
       "      <td>0</td>\n",
       "      <td>0</td>\n",
       "      <td>0</td>\n",
       "      <td>0</td>\n",
       "      <td>...</td>\n",
       "      <td>1</td>\n",
       "      <td>0</td>\n",
       "      <td>0</td>\n",
       "      <td>0</td>\n",
       "      <td>1</td>\n",
       "      <td>0</td>\n",
       "      <td>0</td>\n",
       "      <td>1</td>\n",
       "      <td>0</td>\n",
       "      <td>0</td>\n",
       "    </tr>\n",
       "    <tr>\n",
       "      <th>0484-JPBRU</th>\n",
       "      <td>False</td>\n",
       "      <td>True</td>\n",
       "      <td>True</td>\n",
       "      <td>False</td>\n",
       "      <td>True</td>\n",
       "      <td>0</td>\n",
       "      <td>1</td>\n",
       "      <td>0</td>\n",
       "      <td>1</td>\n",
       "      <td>0</td>\n",
       "      <td>...</td>\n",
       "      <td>0</td>\n",
       "      <td>0</td>\n",
       "      <td>1</td>\n",
       "      <td>0</td>\n",
       "      <td>0</td>\n",
       "      <td>0</td>\n",
       "      <td>1</td>\n",
       "      <td>0</td>\n",
       "      <td>1</td>\n",
       "      <td>0</td>\n",
       "    </tr>\n",
       "    <tr>\n",
       "      <th>3620-EHIMZ</th>\n",
       "      <td>True</td>\n",
       "      <td>True</td>\n",
       "      <td>False</td>\n",
       "      <td>True</td>\n",
       "      <td>False</td>\n",
       "      <td>0</td>\n",
       "      <td>1</td>\n",
       "      <td>0</td>\n",
       "      <td>0</td>\n",
       "      <td>0</td>\n",
       "      <td>...</td>\n",
       "      <td>0</td>\n",
       "      <td>0</td>\n",
       "      <td>1</td>\n",
       "      <td>0</td>\n",
       "      <td>0</td>\n",
       "      <td>0</td>\n",
       "      <td>1</td>\n",
       "      <td>0</td>\n",
       "      <td>1</td>\n",
       "      <td>0</td>\n",
       "    </tr>\n",
       "    <tr>\n",
       "      <th>6910-HADCM</th>\n",
       "      <td>False</td>\n",
       "      <td>True</td>\n",
       "      <td>False</td>\n",
       "      <td>False</td>\n",
       "      <td>False</td>\n",
       "      <td>0</td>\n",
       "      <td>0</td>\n",
       "      <td>1</td>\n",
       "      <td>0</td>\n",
       "      <td>0</td>\n",
       "      <td>...</td>\n",
       "      <td>1</td>\n",
       "      <td>0</td>\n",
       "      <td>0</td>\n",
       "      <td>0</td>\n",
       "      <td>0</td>\n",
       "      <td>1</td>\n",
       "      <td>0</td>\n",
       "      <td>1</td>\n",
       "      <td>0</td>\n",
       "      <td>0</td>\n",
       "    </tr>\n",
       "    <tr>\n",
       "      <th>8587-XYZSF</th>\n",
       "      <td>False</td>\n",
       "      <td>True</td>\n",
       "      <td>True</td>\n",
       "      <td>False</td>\n",
       "      <td>False</td>\n",
       "      <td>1</td>\n",
       "      <td>0</td>\n",
       "      <td>0</td>\n",
       "      <td>1</td>\n",
       "      <td>0</td>\n",
       "      <td>...</td>\n",
       "      <td>0</td>\n",
       "      <td>0</td>\n",
       "      <td>0</td>\n",
       "      <td>1</td>\n",
       "      <td>1</td>\n",
       "      <td>0</td>\n",
       "      <td>0</td>\n",
       "      <td>1</td>\n",
       "      <td>0</td>\n",
       "      <td>0</td>\n",
       "    </tr>\n",
       "  </tbody>\n",
       "</table>\n",
       "<p>5 rows × 48 columns</p>\n",
       "</div>"
      ],
      "text/plain": [
       "            Dependents_bool  PhoneService_bool  gender_bool  Partner_bool  \\\n",
       "customerID                                                                  \n",
       "1024-GUALD            False              False        False          True   \n",
       "0484-JPBRU            False               True         True         False   \n",
       "3620-EHIMZ             True               True        False          True   \n",
       "6910-HADCM            False               True        False         False   \n",
       "8587-XYZSF            False               True         True         False   \n",
       "\n",
       "            PaperlessBilling_bool  DeviceProtection_No  \\\n",
       "customerID                                               \n",
       "1024-GUALD                   True                    1   \n",
       "0484-JPBRU                   True                    0   \n",
       "3620-EHIMZ                  False                    0   \n",
       "6910-HADCM                  False                    0   \n",
       "8587-XYZSF                  False                    1   \n",
       "\n",
       "            DeviceProtection_No internet service  DeviceProtection_Yes  \\\n",
       "customerID                                                               \n",
       "1024-GUALD                                     0                     0   \n",
       "0484-JPBRU                                     1                     0   \n",
       "3620-EHIMZ                                     1                     0   \n",
       "6910-HADCM                                     0                     1   \n",
       "8587-XYZSF                                     0                     0   \n",
       "\n",
       "            PaymentMethod_Bank transfer (automatic)  \\\n",
       "customerID                                            \n",
       "1024-GUALD                                        0   \n",
       "0484-JPBRU                                        1   \n",
       "3620-EHIMZ                                        0   \n",
       "6910-HADCM                                        0   \n",
       "8587-XYZSF                                        1   \n",
       "\n",
       "            PaymentMethod_Credit card (automatic)  ...  tenure_group_0-20  \\\n",
       "customerID                                         ...                      \n",
       "1024-GUALD                                      0  ...                  1   \n",
       "0484-JPBRU                                      0  ...                  0   \n",
       "3620-EHIMZ                                      0  ...                  0   \n",
       "6910-HADCM                                      0  ...                  1   \n",
       "8587-XYZSF                                      0  ...                  0   \n",
       "\n",
       "            tenure_group_20-40  tenure_group_40-60  tenure_group_60plus  \\\n",
       "customerID                                                                \n",
       "1024-GUALD                   0                   0                    0   \n",
       "0484-JPBRU                   0                   1                    0   \n",
       "3620-EHIMZ                   0                   1                    0   \n",
       "6910-HADCM                   0                   0                    0   \n",
       "8587-XYZSF                   0                   0                    1   \n",
       "\n",
       "            InternetService_DSL  InternetService_Fiber optic  \\\n",
       "customerID                                                     \n",
       "1024-GUALD                    1                            0   \n",
       "0484-JPBRU                    0                            0   \n",
       "3620-EHIMZ                    0                            0   \n",
       "6910-HADCM                    0                            1   \n",
       "8587-XYZSF                    1                            0   \n",
       "\n",
       "            InternetService_No  StreamingTV_No  \\\n",
       "customerID                                       \n",
       "1024-GUALD                   0               1   \n",
       "0484-JPBRU                   1               0   \n",
       "3620-EHIMZ                   1               0   \n",
       "6910-HADCM                   0               1   \n",
       "8587-XYZSF                   0               1   \n",
       "\n",
       "            StreamingTV_No internet service  StreamingTV_Yes  \n",
       "customerID                                                    \n",
       "1024-GUALD                                0                0  \n",
       "0484-JPBRU                                1                0  \n",
       "3620-EHIMZ                                1                0  \n",
       "6910-HADCM                                0                0  \n",
       "8587-XYZSF                                0                0  \n",
       "\n",
       "[5 rows x 48 columns]"
      ]
     },
     "execution_count": 38,
     "metadata": {},
     "output_type": "execute_result"
    }
   ],
   "source": [
    "# X_test 미리보기\n",
    "\n",
    "X_test.head()"
   ]
  },
  {
   "cell_type": "code",
   "execution_count": 39,
   "metadata": {},
   "outputs": [
    {
     "data": {
      "text/plain": [
       "customerID\n",
       "2985-JUUBZ    False\n",
       "5016-ETTFF     True\n",
       "1998-VHJHK    False\n",
       "1925-TIBLE     True\n",
       "0485-ZBSLN    False\n",
       "Name: Churn_bool, dtype: bool"
      ]
     },
     "execution_count": 39,
     "metadata": {},
     "output_type": "execute_result"
    }
   ],
   "source": [
    "# y_train 미리보기\n",
    "\n",
    "y_train.head()"
   ]
  },
  {
   "cell_type": "markdown",
   "metadata": {},
   "source": [
    "## 머신러닝 모델로 예측하기"
   ]
  },
  {
   "cell_type": "code",
   "execution_count": 47,
   "metadata": {},
   "outputs": [],
   "source": [
    "# 트리모델 로드하기\n",
    " \n",
    "from sklearn.tree import DecisionTreeClassifier\n",
    "\n",
    "model = DecisionTreeClassifier(max_depth=4, max_features=0.6)"
   ]
  },
  {
   "cell_type": "code",
   "execution_count": 48,
   "metadata": {},
   "outputs": [
    {
     "data": {
      "text/plain": [
       "DecisionTreeClassifier(max_depth=4, max_features=0.6)"
      ]
     },
     "execution_count": 48,
     "metadata": {},
     "output_type": "execute_result"
    }
   ],
   "source": [
    "# 학습하기\n",
    "\n",
    "model.fit(X_train, y_train)"
   ]
  },
  {
   "cell_type": "code",
   "execution_count": 49,
   "metadata": {},
   "outputs": [],
   "source": [
    "# 예측하기\n",
    "\n",
    "y_pred = model.predict(X_test)"
   ]
  },
  {
   "cell_type": "markdown",
   "metadata": {},
   "source": [
    "## 모델 평가하기"
   ]
  },
  {
   "cell_type": "code",
   "execution_count": 50,
   "metadata": {
    "scrolled": true
   },
   "outputs": [
    {
     "data": {
      "text/plain": [
       "array([0.00000000e+00, 0.00000000e+00, 0.00000000e+00, 0.00000000e+00,\n",
       "       1.17261201e-04, 0.00000000e+00, 0.00000000e+00, 0.00000000e+00,\n",
       "       0.00000000e+00, 0.00000000e+00, 0.00000000e+00, 0.00000000e+00,\n",
       "       1.04494965e-02, 0.00000000e+00, 8.06008713e-03, 0.00000000e+00,\n",
       "       0.00000000e+00, 0.00000000e+00, 0.00000000e+00, 0.00000000e+00,\n",
       "       0.00000000e+00, 0.00000000e+00, 0.00000000e+00, 0.00000000e+00,\n",
       "       0.00000000e+00, 0.00000000e+00, 0.00000000e+00, 0.00000000e+00,\n",
       "       0.00000000e+00, 0.00000000e+00, 0.00000000e+00, 0.00000000e+00,\n",
       "       7.28272888e-02, 0.00000000e+00, 0.00000000e+00, 5.99591688e-01,\n",
       "       1.25725405e-02, 5.07198210e-03, 1.01219542e-01, 0.00000000e+00,\n",
       "       4.79638768e-03, 0.00000000e+00, 0.00000000e+00, 1.85293726e-01,\n",
       "       0.00000000e+00, 0.00000000e+00, 0.00000000e+00, 0.00000000e+00])"
      ]
     },
     "execution_count": 50,
     "metadata": {},
     "output_type": "execute_result"
    }
   ],
   "source": [
    "# 피처의 중요도를 추출하기\n",
    "\n",
    "model.feature_importances_"
   ]
  },
  {
   "cell_type": "code",
   "execution_count": 51,
   "metadata": {},
   "outputs": [
    {
     "data": {
      "text/plain": [
       "['Dependents_bool',\n",
       " 'PhoneService_bool',\n",
       " 'gender_bool',\n",
       " 'Partner_bool',\n",
       " 'PaperlessBilling_bool',\n",
       " 'DeviceProtection_No',\n",
       " 'DeviceProtection_No internet service',\n",
       " 'DeviceProtection_Yes',\n",
       " 'PaymentMethod_Bank transfer (automatic)',\n",
       " 'PaymentMethod_Credit card (automatic)',\n",
       " 'PaymentMethod_Electronic check',\n",
       " 'PaymentMethod_Mailed check',\n",
       " 'StreamingMovies_No',\n",
       " 'StreamingMovies_No internet service',\n",
       " 'StreamingMovies_Yes',\n",
       " 'monthlycharges_group_0-30',\n",
       " 'monthlycharges_group_30-70',\n",
       " 'monthlycharges_group_70-99',\n",
       " 'monthlycharges_group_99plus',\n",
       " 'totalcharges_group_0-2k',\n",
       " 'totalcharges_group_2k-4k',\n",
       " 'totalcharges_group_4k-6k',\n",
       " 'totalcharges_group_6kplus',\n",
       " 'OnlineBackup_No',\n",
       " 'OnlineBackup_No internet service',\n",
       " 'OnlineBackup_Yes',\n",
       " 'MultipleLines_No',\n",
       " 'MultipleLines_No phone service',\n",
       " 'MultipleLines_Yes',\n",
       " 'TechSupport_No',\n",
       " 'TechSupport_No internet service',\n",
       " 'TechSupport_Yes',\n",
       " 'OnlineSecurity_No',\n",
       " 'OnlineSecurity_No internet service',\n",
       " 'OnlineSecurity_Yes',\n",
       " 'Contract_Month-to-month',\n",
       " 'Contract_One year',\n",
       " 'Contract_Two year',\n",
       " 'tenure_group_0-20',\n",
       " 'tenure_group_20-40',\n",
       " 'tenure_group_40-60',\n",
       " 'tenure_group_60plus',\n",
       " 'InternetService_DSL',\n",
       " 'InternetService_Fiber optic',\n",
       " 'InternetService_No',\n",
       " 'StreamingTV_No',\n",
       " 'StreamingTV_No internet service',\n",
       " 'StreamingTV_Yes']"
      ]
     },
     "execution_count": 51,
     "metadata": {},
     "output_type": "execute_result"
    }
   ],
   "source": [
    "feature_names = X_train.columns.tolist()\n",
    "feature_names"
   ]
  },
  {
   "cell_type": "code",
   "execution_count": 52,
   "metadata": {},
   "outputs": [],
   "source": [
    "df_importance = pd.DataFrame({\"feature_names\" : feature_names, \"importance\": model.feature_importances_})\n",
    "df_importance = df_importance.sort_values(\"importance\", ascending=False)"
   ]
  },
  {
   "cell_type": "code",
   "execution_count": 53,
   "metadata": {},
   "outputs": [
    {
     "data": {
      "text/plain": [
       "<matplotlib.axes._subplots.AxesSubplot at 0x22f3e5c5948>"
      ]
     },
     "execution_count": 53,
     "metadata": {},
     "output_type": "execute_result"
    },
    {
     "data": {
      "image/png": "[encoded data removed]",
      "text/plain": [
       "<Figure size 720x1080 with 1 Axes>"
      ]
     },
     "metadata": {
      "image/png": {
       "height": 859,
       "width": 810
      },
      "needs_background": "light"
     },
     "output_type": "display_data"
    }
   ],
   "source": [
    "# 피처의 중요도 시각화 하기\n",
    "plt.figure(figsize=(10, 15))\n",
    "sns.barplot(data=df_importance, x=\"importance\", y=\"feature_names\")"
   ]
  },
  {
   "cell_type": "markdown",
   "metadata": {},
   "source": [
    "### 점수 측정하기\n",
    "#### Accuracy"
   ]
  },
  {
   "cell_type": "code",
   "execution_count": null,
   "metadata": {},
   "outputs": [],
   "source": []
  },
  {
   "cell_type": "code",
   "execution_count": 54,
   "metadata": {
    "scrolled": true
   },
   "outputs": [
    {
     "data": {
      "text/plain": [
       "customerID\n",
       "1024-GUALD     True\n",
       "0484-JPBRU    False\n",
       "3620-EHIMZ    False\n",
       "6910-HADCM     True\n",
       "8587-XYZSF    False\n",
       "              ...  \n",
       "3836-FZSDJ    False\n",
       "1301-LOPVR    False\n",
       "7479-NITWS     True\n",
       "3312-UUMZW    False\n",
       "0060-FUALY    False\n",
       "Name: Churn_bool, Length: 2325, dtype: bool"
      ]
     },
     "execution_count": 54,
     "metadata": {},
     "output_type": "execute_result"
    }
   ],
   "source": [
    "y_testZ"
   ]
  },
  {
   "cell_type": "code",
   "execution_count": null,
   "metadata": {},
   "outputs": [],
   "source": []
  },
  {
   "cell_type": "code",
   "execution_count": 55,
   "metadata": {},
   "outputs": [
    {
     "data": {
      "text/plain": [
       "0.7974193548387096"
      ]
     },
     "execution_count": 55,
     "metadata": {},
     "output_type": "execute_result"
    }
   ],
   "source": [
    "# accuracy\n",
    "(y_test == y_pred).mean()"
   ]
  },
  {
   "cell_type": "code",
   "execution_count": 56,
   "metadata": {},
   "outputs": [
    {
     "data": {
      "text/plain": [
       "0.7974193548387096"
      ]
     },
     "execution_count": 56,
     "metadata": {},
     "output_type": "execute_result"
    }
   ],
   "source": [
    "# 직접 계산해 보기\n",
    "from sklearn.metrics import accuracy_score\n",
    "accuracy_score(y_test, y_pred)"
   ]
  },
  {
   "cell_type": "markdown",
   "metadata": {},
   "source": [
    "#### F1 score\n",
    "* precision 과 recall의 조화평균\n",
    "* [정밀도와 재현율 - 위키백과, 우리 모두의 백과사전](https://ko.wikipedia.org/wiki/%EC%A0%95%EB%B0%80%EB%8F%84%EC%99%80_%EC%9E%AC%ED%98%84%EC%9C%A8)"
   ]
  },
  {
   "cell_type": "code",
   "execution_count": 57,
   "metadata": {},
   "outputs": [
    {
     "data": {
      "text/plain": [
       "<sklearn.metrics._plot.confusion_matrix.ConfusionMatrixDisplay at 0x22f3cfc5c48>"
      ]
     },
     "execution_count": 57,
     "metadata": {},
     "output_type": "execute_result"
    },
    {
     "data": {
      "image/png": "[encoded data removed]",
      "text/plain": [
       "<Figure size 432x288 with 2 Axes>"
      ]
     },
     "metadata": {
      "image/png": {
       "height": 261,
       "width": 338
      },
      "needs_background": "light"
     },
     "output_type": "display_data"
    }
   ],
   "source": [
    "# plot_confusion_matrix 를 그립니다.\n",
    "\n",
    "from sklearn.metrics import plot_confusion_matrix\n",
    "\n",
    "plot_confusion_matrix(model, X_train, y_train)"
   ]
  },
  {
   "cell_type": "code",
   "execution_count": 58,
   "metadata": {},
   "outputs": [
    {
     "name": "stdout",
     "output_type": "stream",
     "text": [
      "              precision    recall  f1-score   support\n",
      "\n",
      "       False       0.82      0.92      0.87      1697\n",
      "        True       0.69      0.46      0.55       628\n",
      "\n",
      "    accuracy                           0.80      2325\n",
      "   macro avg       0.75      0.69      0.71      2325\n",
      "weighted avg       0.79      0.80      0.78      2325\n",
      "\n"
     ]
    }
   ],
   "source": [
    "# classification_report 를 출력합니다.\n",
    "\n",
    "from sklearn.metrics import classification_report\n",
    "\n",
    "r = classification_report(y_test, y_pred)\n",
    "print(r)"
   ]
  },
  {
   "cell_type": "code",
   "execution_count": null,
   "metadata": {},
   "outputs": [],
   "source": []
  },
  {
   "cell_type": "code",
   "execution_count": null,
   "metadata": {},
   "outputs": [],
   "source": []
  }
 ],
 "metadata": {
  "kernelspec": {
   "display_name": "Python 3",
   "language": "python",
   "name": "python3"
  },
  "language_info": {
   "codemirror_mode": {
    "name": "ipython",
    "version": 3
   },
   "file_extension": ".py",
   "mimetype": "text/x-python",
   "name": "python",
   "nbconvert_exporter": "python",
   "pygments_lexer": "ipython3",
   "version": "3.7.6"
  },
  "toc": {
   "base_numbering": 1,
   "nav_menu": {},
   "number_sections": true,
   "sideBar": true,
   "skip_h1_title": false,
   "title_cell": "Table of Contents",
   "title_sidebar": "Contents",
   "toc_cell": false,
   "toc_position": {},
   "toc_section_display": true,
   "toc_window_display": false
  },
  "varInspector": {
   "cols": {
    "lenName": 16,
    "lenType": 16,
    "lenVar": 40
   },
   "kernels_config": {
    "python": {
     "delete_cmd_postfix": "",
     "delete_cmd_prefix": "del ",
     "library": "var_list.py",
     "varRefreshCmd": "print(var_dic_list())"
    },
    "r": {
     "delete_cmd_postfix": ") ",
     "delete_cmd_prefix": "rm(",
     "library": "var_list.r",
     "varRefreshCmd": "cat(var_dic_list()) "
    }
   },
   "types_to_exclude": [
    "module",
    "function",
    "builtin_function_or_method",
    "instance",
    "_Feature"
   ],
   "window_display": false
  }
 },
 "nbformat": 4,
 "nbformat_minor": 4
}
