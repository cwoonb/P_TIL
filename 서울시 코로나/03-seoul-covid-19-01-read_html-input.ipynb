{
 "cells": [
  {
   "cell_type": "markdown",
   "metadata": {},
   "source": [
    "## 서울시에서 공개한 코로나19 발생동향 분석\n",
    "* http://www.seoul.go.kr/coronaV/coronaStatus.do"
   ]
  },
  {
   "cell_type": "code",
   "execution_count": 2,
   "metadata": {},
   "outputs": [],
   "source": [
    "# 필요한 라이브러리를 불러옵니다.\n",
    "import pandas as pd\n",
    "import numpy as np"
   ]
  },
  {
   "cell_type": "code",
   "execution_count": 3,
   "metadata": {},
   "outputs": [
    {
     "data": {
      "text/plain": [
       "'http://www.seoul.go.kr/coronaV/coronaStatus.do'"
      ]
     },
     "execution_count": 3,
     "metadata": {},
     "output_type": "execute_result"
    }
   ],
   "source": [
    "# 크롤링으로 가져올 url 주소를 입력합니다.\n",
    "url= \"http://www.seoul.go.kr/coronaV/coronaStatus.do\"\n",
    "url"
   ]
  },
  {
   "cell_type": "code",
   "execution_count": 4,
   "metadata": {},
   "outputs": [],
   "source": [
    "# 판다스의 read_html 을 통해 위 url에 있는 불러옵니다.\n",
    "table = pd.read_html(url)"
   ]
  },
  {
   "cell_type": "code",
   "execution_count": 5,
   "metadata": {},
   "outputs": [
    {
     "data": {
      "text/html": [
       "<div>\n",
       "<style scoped>\n",
       "    .dataframe tbody tr th:only-of-type {\n",
       "        vertical-align: middle;\n",
       "    }\n",
       "\n",
       "    .dataframe tbody tr th {\n",
       "        vertical-align: top;\n",
       "    }\n",
       "\n",
       "    .dataframe thead th {\n",
       "        text-align: right;\n",
       "    }\n",
       "</style>\n",
       "<table border=\"1\" class=\"dataframe\">\n",
       "  <thead>\n",
       "    <tr style=\"text-align: right;\">\n",
       "      <th></th>\n",
       "      <th>소계</th>\n",
       "      <th>해외접촉관련</th>\n",
       "      <th>중구한화생명관련</th>\n",
       "      <th>강남구V빌딩관련</th>\n",
       "      <th>관악구사무실관련</th>\n",
       "      <th>강남구역삼동모임</th>\n",
       "      <th>도봉구요양시설관련</th>\n",
       "      <th>리치웨이관련</th>\n",
       "      <th>부천시쿠팡관련</th>\n",
       "      <th>수도권개척교회관련</th>\n",
       "      <th>양천구운동시설관련</th>\n",
       "      <th>이태원클럽관련</th>\n",
       "      <th>구로구콜센터관련</th>\n",
       "      <th>타 시·도확진자접촉자</th>\n",
       "      <th>기타</th>\n",
       "      <th>경로확인중</th>\n",
       "    </tr>\n",
       "  </thead>\n",
       "  <tbody>\n",
       "    <tr>\n",
       "      <th>0</th>\n",
       "      <td>1449</td>\n",
       "      <td>323</td>\n",
       "      <td>5</td>\n",
       "      <td>8</td>\n",
       "      <td>6</td>\n",
       "      <td>13</td>\n",
       "      <td>43</td>\n",
       "      <td>122</td>\n",
       "      <td>24</td>\n",
       "      <td>37</td>\n",
       "      <td>43</td>\n",
       "      <td>139</td>\n",
       "      <td>98</td>\n",
       "      <td>51</td>\n",
       "      <td>393</td>\n",
       "      <td>142</td>\n",
       "    </tr>\n",
       "  </tbody>\n",
       "</table>\n",
       "</div>"
      ],
      "text/plain": [
       "     소계  해외접촉관련  중구한화생명관련  강남구V빌딩관련  관악구사무실관련  강남구역삼동모임  도봉구요양시설관련  리치웨이관련  \\\n",
       "0  1449     323         5         8         6        13         43     122   \n",
       "\n",
       "   부천시쿠팡관련  수도권개척교회관련  양천구운동시설관련  이태원클럽관련  구로구콜센터관련  타 시·도확진자접촉자   기타  경로확인중  \n",
       "0       24         37         43      139        98           51  393    142  "
      ]
     },
     "execution_count": 5,
     "metadata": {},
     "output_type": "execute_result"
    }
   ],
   "source": [
    "# read_html 은 사이트 내의 html 태그를 불러옵니다.\n",
    "\n",
    "table[0]"
   ]
  },
  {
   "cell_type": "code",
   "execution_count": 6,
   "metadata": {},
   "outputs": [
    {
     "data": {
      "text/html": [
       "<div>\n",
       "<style scoped>\n",
       "    .dataframe tbody tr th:only-of-type {\n",
       "        vertical-align: middle;\n",
       "    }\n",
       "\n",
       "    .dataframe tbody tr th {\n",
       "        vertical-align: top;\n",
       "    }\n",
       "\n",
       "    .dataframe thead th {\n",
       "        text-align: right;\n",
       "    }\n",
       "</style>\n",
       "<table border=\"1\" class=\"dataframe\">\n",
       "  <thead>\n",
       "    <tr style=\"text-align: right;\">\n",
       "      <th></th>\n",
       "      <th>0</th>\n",
       "    </tr>\n",
       "  </thead>\n",
       "  <tbody>\n",
       "    <tr>\n",
       "      <th>0</th>\n",
       "      <td>&lt; 신종 코로나바이러스 감염증 예방 국민 행동수칙 &gt;○ 기침 등 호흡기 증상이 있을...</td>\n",
       "    </tr>\n",
       "  </tbody>\n",
       "</table>\n",
       "</div>"
      ],
      "text/plain": [
       "                                                   0\n",
       "0  < 신종 코로나바이러스 감염증 예방 국민 행동수칙 >○ 기침 등 호흡기 증상이 있을..."
      ]
     },
     "execution_count": 6,
     "metadata": {},
     "output_type": "execute_result"
    }
   ],
   "source": [
    "# table 변수 안에 있는 table 태그의 값을 하나씩 읽어보며 확진자 목록이 있는 테이블을 가져옵니다.\n",
    "\n",
    "table[1]"
   ]
  },
  {
   "cell_type": "code",
   "execution_count": 7,
   "metadata": {
    "scrolled": true
   },
   "outputs": [
    {
     "data": {
      "text/html": [
       "<div>\n",
       "<style scoped>\n",
       "    .dataframe tbody tr th:only-of-type {\n",
       "        vertical-align: middle;\n",
       "    }\n",
       "\n",
       "    .dataframe tbody tr th {\n",
       "        vertical-align: top;\n",
       "    }\n",
       "\n",
       "    .dataframe thead th {\n",
       "        text-align: right;\n",
       "    }\n",
       "</style>\n",
       "<table border=\"1\" class=\"dataframe\">\n",
       "  <thead>\n",
       "    <tr style=\"text-align: right;\">\n",
       "      <th></th>\n",
       "      <th>0</th>\n",
       "    </tr>\n",
       "  </thead>\n",
       "  <tbody>\n",
       "    <tr>\n",
       "      <th>0</th>\n",
       "      <td>&lt; 신종 코로나바이러스 감염증 예방 의료기관 행동수칙 &gt;○ 호흡기 질환자 진료시 마...</td>\n",
       "    </tr>\n",
       "  </tbody>\n",
       "</table>\n",
       "</div>"
      ],
      "text/plain": [
       "                                                   0\n",
       "0  < 신종 코로나바이러스 감염증 예방 의료기관 행동수칙 >○ 호흡기 질환자 진료시 마..."
      ]
     },
     "execution_count": 7,
     "metadata": {},
     "output_type": "execute_result"
    }
   ],
   "source": [
    "# 미리보기 합니다.\n",
    "\n",
    "table[2]"
   ]
  },
  {
   "cell_type": "code",
   "execution_count": 8,
   "metadata": {
    "scrolled": false
   },
   "outputs": [
    {
     "data": {
      "text/plain": [
       "(1580, 7)"
      ]
     },
     "execution_count": 8,
     "metadata": {},
     "output_type": "execute_result"
    }
   ],
   "source": [
    "df = table[4]\n",
    "df.shape"
   ]
  },
  {
   "cell_type": "code",
   "execution_count": 9,
   "metadata": {},
   "outputs": [
    {
     "data": {
      "text/plain": [
       "'7_27_'"
      ]
     },
     "execution_count": 9,
     "metadata": {},
     "output_type": "execute_result"
    }
   ],
   "source": [
    "# 마지막 확진일을 파일명에 써주기 위해 . 을 _ 로 변경합니다.\n",
    "# 확장자와 구분이 쉽게 되도록 _ 로 변경합니다. \n",
    "#  0번이 제일 최근\n",
    "last_day = df.loc[0, \"확진일\"]\n",
    "last_day = last_day.replace(\".\", \"_\")\n",
    "last_day"
   ]
  },
  {
   "cell_type": "code",
   "execution_count": 12,
   "metadata": {},
   "outputs": [
    {
     "data": {
      "text/plain": [
       "'seoul-covid19-7_27_.csv'"
      ]
     },
     "execution_count": 12,
     "metadata": {},
     "output_type": "execute_result"
    }
   ],
   "source": [
    "# 파일명을 만들어 줍니다.\n",
    "# file_name\n",
    "\n",
    "file_name = F\"seoul-covid19-{last_day}.csv\"\n",
    "file_name"
   ]
  },
  {
   "cell_type": "code",
   "execution_count": 34,
   "metadata": {},
   "outputs": [],
   "source": [
    "# csv 파일로 저장합니다.\n",
    "df.to_csv(file_name, index=False)"
   ]
  },
  {
   "cell_type": "code",
   "execution_count": 35,
   "metadata": {},
   "outputs": [
    {
     "data": {
      "text/html": [
       "<div>\n",
       "<style scoped>\n",
       "    .dataframe tbody tr th:only-of-type {\n",
       "        vertical-align: middle;\n",
       "    }\n",
       "\n",
       "    .dataframe tbody tr th {\n",
       "        vertical-align: top;\n",
       "    }\n",
       "\n",
       "    .dataframe thead th {\n",
       "        text-align: right;\n",
       "    }\n",
       "</style>\n",
       "<table border=\"1\" class=\"dataframe\">\n",
       "  <thead>\n",
       "    <tr style=\"text-align: right;\">\n",
       "      <th></th>\n",
       "      <th>연번</th>\n",
       "      <th>환자</th>\n",
       "      <th>확진일</th>\n",
       "      <th>거주지</th>\n",
       "      <th>여행력</th>\n",
       "      <th>접촉력</th>\n",
       "      <th>조치사항</th>\n",
       "    </tr>\n",
       "  </thead>\n",
       "  <tbody>\n",
       "    <tr>\n",
       "      <th>0</th>\n",
       "      <td>1574</td>\n",
       "      <td>14172</td>\n",
       "      <td>7.26.</td>\n",
       "      <td>송파구</td>\n",
       "      <td>-</td>\n",
       "      <td>송파구 확진자 접촉</td>\n",
       "      <td>서울의료원</td>\n",
       "    </tr>\n",
       "    <tr>\n",
       "      <th>1</th>\n",
       "      <td>1573</td>\n",
       "      <td>14173</td>\n",
       "      <td>7.26.</td>\n",
       "      <td>강동구</td>\n",
       "      <td>미국</td>\n",
       "      <td>해외 접촉 추정</td>\n",
       "      <td>보라매병원</td>\n",
       "    </tr>\n",
       "    <tr>\n",
       "      <th>2</th>\n",
       "      <td>1572</td>\n",
       "      <td>14165</td>\n",
       "      <td>7.26.</td>\n",
       "      <td>종로구</td>\n",
       "      <td>-</td>\n",
       "      <td>송파구 확진자 접촉</td>\n",
       "      <td>서울의료원</td>\n",
       "    </tr>\n",
       "    <tr>\n",
       "      <th>3</th>\n",
       "      <td>1571</td>\n",
       "      <td>14175</td>\n",
       "      <td>7.26.</td>\n",
       "      <td>관악구</td>\n",
       "      <td>필리핀</td>\n",
       "      <td>해외 접촉 추정</td>\n",
       "      <td>보라매병원</td>\n",
       "    </tr>\n",
       "    <tr>\n",
       "      <th>4</th>\n",
       "      <td>1570</td>\n",
       "      <td>14171</td>\n",
       "      <td>7.26.</td>\n",
       "      <td>용산구</td>\n",
       "      <td>이라크</td>\n",
       "      <td>해외 접촉 추정</td>\n",
       "      <td>서울의료원</td>\n",
       "    </tr>\n",
       "    <tr>\n",
       "      <th>...</th>\n",
       "      <td>...</td>\n",
       "      <td>...</td>\n",
       "      <td>...</td>\n",
       "      <td>...</td>\n",
       "      <td>...</td>\n",
       "      <td>...</td>\n",
       "      <td>...</td>\n",
       "    </tr>\n",
       "    <tr>\n",
       "      <th>1569</th>\n",
       "      <td>5</td>\n",
       "      <td>9</td>\n",
       "      <td>1.31.</td>\n",
       "      <td>성북구</td>\n",
       "      <td>-</td>\n",
       "      <td>#5 접촉</td>\n",
       "      <td>서울의료원(퇴원)</td>\n",
       "    </tr>\n",
       "    <tr>\n",
       "      <th>1570</th>\n",
       "      <td>4</td>\n",
       "      <td>7</td>\n",
       "      <td>1.30.</td>\n",
       "      <td>마포구</td>\n",
       "      <td>중국 우한시</td>\n",
       "      <td>해외 접촉</td>\n",
       "      <td>서울의료원(퇴원)</td>\n",
       "    </tr>\n",
       "    <tr>\n",
       "      <th>1571</th>\n",
       "      <td>3</td>\n",
       "      <td>6</td>\n",
       "      <td>1.30.</td>\n",
       "      <td>종로구</td>\n",
       "      <td>-</td>\n",
       "      <td>#3 접촉</td>\n",
       "      <td>서울대학교병원(퇴원)</td>\n",
       "    </tr>\n",
       "    <tr>\n",
       "      <th>1572</th>\n",
       "      <td>2</td>\n",
       "      <td>5</td>\n",
       "      <td>1.30.</td>\n",
       "      <td>중랑구</td>\n",
       "      <td>중국 우한시</td>\n",
       "      <td>해외 접촉</td>\n",
       "      <td>서울의료원(퇴원)</td>\n",
       "    </tr>\n",
       "    <tr>\n",
       "      <th>1573</th>\n",
       "      <td>1</td>\n",
       "      <td>2</td>\n",
       "      <td>1.24.</td>\n",
       "      <td>강서구</td>\n",
       "      <td>중국 우한시</td>\n",
       "      <td>해외 접촉</td>\n",
       "      <td>국립중앙의료원(퇴원)</td>\n",
       "    </tr>\n",
       "  </tbody>\n",
       "</table>\n",
       "<p>1574 rows × 7 columns</p>\n",
       "</div>"
      ],
      "text/plain": [
       "        연번     환자    확진일  거주지     여행력         접촉력         조치사항\n",
       "0     1574  14172  7.26.  송파구       -  송파구 확진자 접촉        서울의료원\n",
       "1     1573  14173  7.26.  강동구      미국    해외 접촉 추정        보라매병원\n",
       "2     1572  14165  7.26.  종로구       -  송파구 확진자 접촉        서울의료원\n",
       "3     1571  14175  7.26.  관악구     필리핀    해외 접촉 추정        보라매병원\n",
       "4     1570  14171  7.26.  용산구     이라크    해외 접촉 추정        서울의료원\n",
       "...    ...    ...    ...  ...     ...         ...          ...\n",
       "1569     5      9  1.31.  성북구       -       #5 접촉    서울의료원(퇴원)\n",
       "1570     4      7  1.30.  마포구  중국 우한시       해외 접촉    서울의료원(퇴원)\n",
       "1571     3      6  1.30.  종로구       -       #3 접촉  서울대학교병원(퇴원)\n",
       "1572     2      5  1.30.  중랑구  중국 우한시       해외 접촉    서울의료원(퇴원)\n",
       "1573     1      2  1.24.  강서구  중국 우한시       해외 접촉  국립중앙의료원(퇴원)\n",
       "\n",
       "[1574 rows x 7 columns]"
      ]
     },
     "execution_count": 35,
     "metadata": {},
     "output_type": "execute_result"
    }
   ],
   "source": [
    "# 제대로 저장되었는지 확인합니다.\n",
    "pd.read_csv(file_name)"
   ]
  },
  {
   "cell_type": "code",
   "execution_count": null,
   "metadata": {},
   "outputs": [],
   "source": []
  },
  {
   "cell_type": "code",
   "execution_count": null,
   "metadata": {},
   "outputs": [],
   "source": []
  },
  {
   "cell_type": "code",
   "execution_count": null,
   "metadata": {},
   "outputs": [],
   "source": []
  },
  {
   "cell_type": "code",
   "execution_count": null,
   "metadata": {},
   "outputs": [],
   "source": []
  }
 ],
 "metadata": {
  "kernelspec": {
   "display_name": "Python 3",
   "language": "python",
   "name": "python3"
  },
  "language_info": {
   "codemirror_mode": {
    "name": "ipython",
    "version": 3
   },
   "file_extension": ".py",
   "mimetype": "text/x-python",
   "name": "python",
   "nbconvert_exporter": "python",
   "pygments_lexer": "ipython3",
   "version": "3.7.6"
  },
  "toc": {
   "base_numbering": 1,
   "nav_menu": {},
   "number_sections": true,
   "sideBar": true,
   "skip_h1_title": false,
   "title_cell": "Table of Contents",
   "title_sidebar": "Contents",
   "toc_cell": false,
   "toc_position": {},
   "toc_section_display": true,
   "toc_window_display": false
  },
  "varInspector": {
   "cols": {
    "lenName": 16,
    "lenType": 16,
    "lenVar": 40
   },
   "kernels_config": {
    "python": {
     "delete_cmd_postfix": "",
     "delete_cmd_prefix": "del ",
     "library": "var_list.py",
     "varRefreshCmd": "print(var_dic_list())"
    },
    "r": {
     "delete_cmd_postfix": ") ",
     "delete_cmd_prefix": "rm(",
     "library": "var_list.r",
     "varRefreshCmd": "cat(var_dic_list()) "
    }
   },
   "types_to_exclude": [
    "module",
    "function",
    "builtin_function_or_method",
    "instance",
    "_Feature"
   ],
   "window_display": false
  }
 },
 "nbformat": 4,
 "nbformat_minor": 4
}
