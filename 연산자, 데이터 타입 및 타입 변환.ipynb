{
 "cells": [
  {
   "cell_type": "markdown",
   "metadata": {},
   "source": [
    "**수리 연산자 표현**\n",
    "\n",
    "컴퓨터 키보드에 있는 수학 기호들의 부족으로 우리는 제한적인 몇 가지의 수리 연산자들을 사용할 수 있습니다.\n",
    "\n",
    "\n",
    "\n",
    "**연산자의 순서**\n",
    "\n",
    "일반적인 연산자들을 수행하게 되는 순서는 다음과 같습니다.\n",
    "\n",
    "괄호 -> 거듭 제곱 -> 곱셈, 나눗셈 -> 덧셈, 뺄셈 -> 왼쪽에서 오른쪽으로\n",
    "\n",
    "과 같은 순서로 진행되게 됩니다.\n",
    "\n",
    " \n",
    "\n",
    "**타입이란?**\n",
    "\n",
    "파이썬에서는 여러가지 데이터 타입들이 있습니다. 파이썬은 영리하게도 우리가 연산하고자 하는 데이터의 타입에 따라 동일한 연산자를 사용하더라도 다른 결과를 가져 옵니다.\n",
    "\n",
    "예를 들어, 동일한 + 연산자를 사용하더라도 정수, 부동 소수점 수 타입의 변수에서는 덧셈으로 작용하고 문자열 타입의 변수에서는 문자열을 이어주는 기능을 하게 됩니다."
   ]
  },
  {
   "cell_type": "code",
   "execution_count": 4,
   "metadata": {},
   "outputs": [
    {
     "name": "stdout",
     "output_type": "stream",
     "text": [
      "5\n",
      "Hellothere\n"
     ]
    },
    {
     "ename": "TypeError",
     "evalue": "can only concatenate str (not \"int\") to str",
     "output_type": "error",
     "traceback": [
      "\u001b[1;31m---------------------------------------------------------------------------\u001b[0m",
      "\u001b[1;31mTypeError\u001b[0m                                 Traceback (most recent call last)",
      "\u001b[1;32m<ipython-input-4-bcd18e932eac>\u001b[0m in \u001b[0;36m<module>\u001b[1;34m\u001b[0m\n\u001b[0;32m      5\u001b[0m \u001b[0mprint\u001b[0m\u001b[1;33m(\u001b[0m\u001b[0meee\u001b[0m\u001b[1;33m)\u001b[0m\u001b[1;33m\u001b[0m\u001b[1;33m\u001b[0m\u001b[0m\n\u001b[0;32m      6\u001b[0m \u001b[1;33m\u001b[0m\u001b[0m\n\u001b[1;32m----> 7\u001b[1;33m \u001b[0meee\u001b[0m \u001b[1;33m=\u001b[0m \u001b[0meee\u001b[0m\u001b[1;33m+\u001b[0m\u001b[1;36m1\u001b[0m\u001b[1;33m\u001b[0m\u001b[1;33m\u001b[0m\u001b[0m\n\u001b[0m",
      "\u001b[1;31mTypeError\u001b[0m: can only concatenate str (not \"int\") to str"
     ]
    }
   ],
   "source": [
    "ddd= 1+4\n",
    "print(ddd)\n",
    "\n",
    "eee= 'Hello' + 'there'\n",
    "print(eee)\n",
    "\n",
    "eee = eee+1"
   ]
  },
  {
   "cell_type": "markdown",
   "metadata": {},
   "source": [
    " 만약 우리가 타입이 다른 변수에 대해 연산을 하게 되면 파이썬은 오류 메시지를 띄워 자신에게 정확히 알려달라고 요청합니다. 파이썬은 타입에 민감하기 때문에 이 부분에 대해서 명심해야 합니다. \n",
    "\n",
    "값이나 변수의 타입을 알고 싶을 때 우리는 type() 을 이용해 해당 객체의 타입을 알 수 있습니다."
   ]
  },
  {
   "cell_type": "code",
   "execution_count": 5,
   "metadata": {},
   "outputs": [
    {
     "name": "stdout",
     "output_type": "stream",
     "text": [
      "hello world\n"
     ]
    },
    {
     "data": {
      "text/plain": [
       "int"
      ]
     },
     "execution_count": 5,
     "metadata": {},
     "output_type": "execute_result"
    }
   ],
   "source": [
    "eee = 'hello' + ' world'\n",
    "print(eee) \n",
    "\n",
    "type(eee) \n",
    "type(1)"
   ]
  },
  {
   "cell_type": "markdown",
   "metadata": {},
   "source": [
    "**여러가지 숫자 타입**\n",
    "\n",
    "주요한 숫자 타입에는 두 가지가 있습니다. **int** (정수) 타입과 **float** (부동 소수점 수) 타입입니다. -1, 0, 1과 같은 정수들은 int 타입이며, -1.5, 0.0, 1.5 같은 부동 소수점 수들은 float 타입입니다.\n",
    "\n",
    " \n",
    "\n",
    "**타입 변환**\n",
    "\n",
    "파이썬에는 타입을 변환할 수 있는 함수가 내재되어 있기에 간단반 방법으로 타입을 변환할 수 있습니다. \n",
    "\n",
    "**변환시키고 싶은 타입 형식으로 감싸주면 타입이 바뀌게 됩니다.**\n",
    "\n",
    " \n",
    "\n",
    "예를 들어, i 라는 변수를 정수 타입으로 선언했다고 합시다.\n",
    "\n",
    "만약 i 변수를 부동 소수점 수 타입으로 바꾸어 저장하고 싶다면 f = float( i ) 로 적어주면 됩니다."
   ]
  },
  {
   "cell_type": "code",
   "execution_count": 6,
   "metadata": {},
   "outputs": [
    {
     "name": "stdout",
     "output_type": "stream",
     "text": [
      "42.0\n"
     ]
    },
    {
     "data": {
      "text/plain": [
       "float"
      ]
     },
     "execution_count": 6,
     "metadata": {},
     "output_type": "execute_result"
    }
   ],
   "source": [
    "i = 42\n",
    "type(i)\n",
    "f= float(i)\n",
    "print(f)\n",
    "type(f)"
   ]
  },
  {
   "cell_type": "code",
   "execution_count": 10,
   "metadata": {},
   "outputs": [
    {
     "ename": "TypeError",
     "evalue": "can only concatenate str (not \"int\") to str",
     "output_type": "error",
     "traceback": [
      "\u001b[1;31m---------------------------------------------------------------------------\u001b[0m",
      "\u001b[1;31mTypeError\u001b[0m                                 Traceback (most recent call last)",
      "\u001b[1;32m<ipython-input-10-b6b8cbb093d0>\u001b[0m in \u001b[0;36m<module>\u001b[1;34m\u001b[0m\n\u001b[0;32m      1\u001b[0m \u001b[0msval\u001b[0m \u001b[1;33m=\u001b[0m \u001b[1;34m'123'\u001b[0m\u001b[1;33m\u001b[0m\u001b[1;33m\u001b[0m\u001b[0m\n\u001b[0;32m      2\u001b[0m \u001b[0mtype\u001b[0m\u001b[1;33m(\u001b[0m\u001b[0msval\u001b[0m\u001b[1;33m)\u001b[0m\u001b[1;33m\u001b[0m\u001b[1;33m\u001b[0m\u001b[0m\n\u001b[1;32m----> 3\u001b[1;33m \u001b[0mprint\u001b[0m\u001b[1;33m(\u001b[0m\u001b[0msval\u001b[0m \u001b[1;33m+\u001b[0m \u001b[1;36m1\u001b[0m\u001b[1;33m)\u001b[0m\u001b[1;33m\u001b[0m\u001b[1;33m\u001b[0m\u001b[0m\n\u001b[0m\u001b[0;32m      4\u001b[0m \u001b[1;33m\u001b[0m\u001b[0m\n\u001b[0;32m      5\u001b[0m \u001b[0mival\u001b[0m \u001b[1;33m=\u001b[0m \u001b[0mint\u001b[0m\u001b[1;33m(\u001b[0m\u001b[0msval\u001b[0m\u001b[1;33m)\u001b[0m\u001b[1;33m\u001b[0m\u001b[1;33m\u001b[0m\u001b[0m\n",
      "\u001b[1;31mTypeError\u001b[0m: can only concatenate str (not \"int\") to str"
     ]
    }
   ],
   "source": [
    "sval = '123'\n",
    "type(sval)\n",
    "print(sval + 1)"
   ]
  },
  {
   "cell_type": "code",
   "execution_count": 12,
   "metadata": {},
   "outputs": [
    {
     "name": "stdout",
     "output_type": "stream",
     "text": [
      "124\n"
     ]
    }
   ],
   "source": [
    "ival = int(sval)\n",
    "type(ival)\n",
    "print(ival+1)"
   ]
  },
  {
   "cell_type": "code",
   "execution_count": 13,
   "metadata": {},
   "outputs": [
    {
     "name": "stdout",
     "output_type": "stream",
     "text": [
      "who are youim woon\n",
      "welcome im woon\n"
     ]
    }
   ],
   "source": [
    "nam = input('who are you')\n",
    "print('welcome', nam)"
   ]
  },
  {
   "cell_type": "code",
   "execution_count": null,
   "metadata": {},
   "outputs": [],
   "source": []
  }
 ],
 "metadata": {
  "kernelspec": {
   "display_name": "Python 3",
   "language": "python",
   "name": "python3"
  },
  "language_info": {
   "codemirror_mode": {
    "name": "ipython",
    "version": 3
   },
   "file_extension": ".py",
   "mimetype": "text/x-python",
   "name": "python",
   "nbconvert_exporter": "python",
   "pygments_lexer": "ipython3",
   "version": "3.7.6"
  },
  "toc": {
   "base_numbering": 1,
   "nav_menu": {},
   "number_sections": true,
   "sideBar": true,
   "skip_h1_title": false,
   "title_cell": "Table of Contents",
   "title_sidebar": "Contents",
   "toc_cell": false,
   "toc_position": {},
   "toc_section_display": true,
   "toc_window_display": false
  }
 },
 "nbformat": 4,
 "nbformat_minor": 4
}
