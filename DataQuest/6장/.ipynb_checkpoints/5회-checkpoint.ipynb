{
 "cells": [
  {
   "cell_type": "code",
   "execution_count": 6,
   "metadata": {},
   "outputs": [],
   "source": [
    "import pandas as pd\n",
    "import matplotlib.pyplot as plt"
   ]
  },
  {
   "cell_type": "markdown",
   "metadata": {},
   "source": [
    "# 로지스틱 회귀"
   ]
  },
  {
   "cell_type": "code",
   "execution_count": 7,
   "metadata": {},
   "outputs": [
    {
     "data": {
      "text/html": [
       "<div>\n",
       "<style scoped>\n",
       "    .dataframe tbody tr th:only-of-type {\n",
       "        vertical-align: middle;\n",
       "    }\n",
       "\n",
       "    .dataframe tbody tr th {\n",
       "        vertical-align: top;\n",
       "    }\n",
       "\n",
       "    .dataframe thead th {\n",
       "        text-align: right;\n",
       "    }\n",
       "</style>\n",
       "<table border=\"1\" class=\"dataframe\">\n",
       "  <thead>\n",
       "    <tr style=\"text-align: right;\">\n",
       "      <th></th>\n",
       "      <th>admit</th>\n",
       "      <th>gpa</th>\n",
       "      <th>gre</th>\n",
       "    </tr>\n",
       "  </thead>\n",
       "  <tbody>\n",
       "    <tr>\n",
       "      <th>0</th>\n",
       "      <td>0</td>\n",
       "      <td>3.177277</td>\n",
       "      <td>594.102992</td>\n",
       "    </tr>\n",
       "    <tr>\n",
       "      <th>1</th>\n",
       "      <td>0</td>\n",
       "      <td>3.412655</td>\n",
       "      <td>631.528607</td>\n",
       "    </tr>\n",
       "    <tr>\n",
       "      <th>2</th>\n",
       "      <td>0</td>\n",
       "      <td>2.728097</td>\n",
       "      <td>553.714399</td>\n",
       "    </tr>\n",
       "    <tr>\n",
       "      <th>3</th>\n",
       "      <td>0</td>\n",
       "      <td>3.093559</td>\n",
       "      <td>551.089985</td>\n",
       "    </tr>\n",
       "    <tr>\n",
       "      <th>4</th>\n",
       "      <td>0</td>\n",
       "      <td>3.141923</td>\n",
       "      <td>537.184894</td>\n",
       "    </tr>\n",
       "  </tbody>\n",
       "</table>\n",
       "</div>"
      ],
      "text/plain": [
       "   admit       gpa         gre\n",
       "0      0  3.177277  594.102992\n",
       "1      0  3.412655  631.528607\n",
       "2      0  2.728097  553.714399\n",
       "3      0  3.093559  551.089985\n",
       "4      0  3.141923  537.184894"
      ]
     },
     "execution_count": 7,
     "metadata": {},
     "output_type": "execute_result"
    }
   ],
   "source": [
    "admissions = pd.read_csv('data/admissions.csv')\n",
    "admissions.head()"
   ]
  },
  {
   "cell_type": "markdown",
   "metadata": {},
   "source": [
    "- gre -예비 대학원생을위한 일반 시험 인 대학원 기록 시험에서 지원자의 점수.\n",
    "점수 범위는 200 ~ 800입니다.\n",
    "- gpa -대학 평균 점수.\n",
    "0.0에서 4.0 사이의 연속입니다.\n",
    "- admit -이진 값\n",
    "이진 값, 0 또는 1. 여기서 1은 지원자가 프로그램에 입학했음을 의미하고 0은 지원자가 거부되었음을 의미합니다."
   ]
  },
  {
   "cell_type": "markdown",
   "metadata": {},
   "source": [
    "## 문제 1\n",
    "\n",
    "- admissions.\n",
    "- Matplotlib 메서드 scatter 를 사용하여 다음을 사용하여 산점도 를 생성합니다.\n",
    "- gpa x 축의 열.\n",
    "- admit y 축의 열.\n",
    "- plt.show()산점도를 표시하는 데 사용 합니다."
   ]
  },
  {
   "cell_type": "code",
   "execution_count": 8,
   "metadata": {},
   "outputs": [
    {
     "data": {
      "image/png": "[encoded data removed]",
      "text/plain": [
       "<Figure size 432x288 with 1 Axes>"
      ]
     },
     "metadata": {
      "needs_background": "light"
     },
     "output_type": "display_data"
    }
   ],
   "source": [
    "plt.scatter(admissions['gpa'], admissions['admit'])\n",
    "plt.show()"
   ]
  },
  {
   "cell_type": "code",
   "execution_count": 9,
   "metadata": {},
   "outputs": [],
   "source": [
    "import numpy as np"
   ]
  },
  {
   "cell_type": "code",
   "execution_count": 16,
   "metadata": {},
   "outputs": [],
   "source": [
    "# np.exp (x)는 x를 지수 거듭 제곱, 즉 e ^ x로 올립니다. 전자 ~ = 2.71828\n",
    "def logistic(x):\n",
    "    return np.exp(x) / (1 + np.exp(x))"
   ]
  },
  {
   "cell_type": "code",
   "execution_count": 18,
   "metadata": {},
   "outputs": [
    {
     "data": {
      "text/plain": [
       "(array([-6.        , -5.75510204, -5.51020408, -5.26530612, -5.02040816,\n",
       "        -4.7755102 , -4.53061224, -4.28571429, -4.04081633, -3.79591837,\n",
       "        -3.55102041, -3.30612245, -3.06122449, -2.81632653, -2.57142857,\n",
       "        -2.32653061, -2.08163265, -1.83673469, -1.59183673, -1.34693878,\n",
       "        -1.10204082, -0.85714286, -0.6122449 , -0.36734694, -0.12244898,\n",
       "         0.12244898,  0.36734694,  0.6122449 ,  0.85714286,  1.10204082,\n",
       "         1.34693878,  1.59183673,  1.83673469,  2.08163265,  2.32653061,\n",
       "         2.57142857,  2.81632653,  3.06122449,  3.30612245,  3.55102041,\n",
       "         3.79591837,  4.04081633,  4.28571429,  4.53061224,  4.7755102 ,\n",
       "         5.02040816,  5.26530612,  5.51020408,  5.75510204,  6.        ]),\n",
       " array([0.00247262, 0.00315659, 0.00402898, 0.00514124, 0.00655853,\n",
       "        0.00836325, 0.01065923, 0.01357692, 0.01727929, 0.0219688 ,\n",
       "        0.02789489, 0.03536175, 0.04473535, 0.05644827, 0.07100002,\n",
       "        0.08894941, 0.11089489, 0.13743793, 0.16912564, 0.2063713 ,\n",
       "        0.2493577 , 0.29793663, 0.35154728, 0.40918225, 0.46942595,\n",
       "        0.53057405, 0.59081775, 0.64845272, 0.70206337, 0.7506423 ,\n",
       "        0.7936287 , 0.83087436, 0.86256207, 0.88910511, 0.91105059,\n",
       "        0.92899998, 0.94355173, 0.95526465, 0.96463825, 0.97210511,\n",
       "        0.9780312 , 0.98272071, 0.98642308, 0.98934077, 0.99163675,\n",
       "        0.99344147, 0.99485876, 0.99597102, 0.99684341, 0.99752738]))"
      ]
     },
     "execution_count": 18,
     "metadata": {},
     "output_type": "execute_result"
    }
   ],
   "source": [
    "# -6과 6 사이에 균일 한 간격으로 50 개의 실제 값을 생성합니다.\n",
    "x= np.linspace(-6, 6, 50, dtype= float)\n",
    "\n",
    "# 로지스틱 함수를 사용하여 t의 각 숫자를 변환합니다.\n",
    "y = logistic(x)\n",
    "\n",
    "x, y"
   ]
  },
  {
   "cell_type": "code",
   "execution_count": 20,
   "metadata": {},
   "outputs": [
    {
     "data": {
      "image/png": "[encoded data removed]",
      "text/plain": [
       "<Figure size 432x288 with 1 Axes>"
      ]
     },
     "metadata": {
      "needs_background": "light"
     },
     "output_type": "display_data"
    }
   ],
   "source": [
    "plt.plot(x , y)\n",
    "plt.ylabel('Probability')\n",
    "plt.show()"
   ]
  },
  {
   "cell_type": "markdown",
   "metadata": {},
   "source": [
    "## 문제  2\n",
    "- LogisticRegression 클래스를 가져 오고 이름이 logistic_model.\n",
    "- LogisticRegression 방법 fit을 사용하여 모델을 데이터에 맞 춥니 다. 우리는 gpa값을 사용하여 값을 예측 하는 모델을 구성하는 데에만 관심이 admit있습니다."
   ]
  },
  {
   "cell_type": "code",
   "execution_count": 24,
   "metadata": {},
   "outputs": [],
   "source": [
    "from sklearn.linear_model import LinearRegression"
   ]
  },
  {
   "cell_type": "code",
   "execution_count": 26,
   "metadata": {
    "scrolled": true
   },
   "outputs": [
    {
     "data": {
      "text/plain": [
       "LinearRegression()"
      ]
     },
     "execution_count": 26,
     "metadata": {},
     "output_type": "execute_result"
    }
   ],
   "source": [
    "linear_model = LinearRegression()\n",
    "linear_model.fit(admissions[[\"gpa\"]], admissions[\"admit\"])"
   ]
  },
  {
   "cell_type": "code",
   "execution_count": 27,
   "metadata": {},
   "outputs": [
    {
     "data": {
      "text/plain": [
       "LogisticRegression()"
      ]
     },
     "execution_count": 27,
     "metadata": {},
     "output_type": "execute_result"
    }
   ],
   "source": [
    "from sklearn.linear_model import LogisticRegression\n",
    "logistic_model = LogisticRegression()\n",
    "logistic_model.fit(admissions[[\"gpa\"]], admissions[\"admit\"])"
   ]
  },
  {
   "cell_type": "markdown",
   "metadata": {},
   "source": [
    "## 문제 3\n",
    "- LogisticRegression 메서드 predict_proba를 사용하여 gpa열의 데이터에 대한 예측 확률을 반환합니다 . 반환 된 확률을에 할당합니다 pred_probs.\n",
    "\n",
    "- Matplotlib scatter함수를 사용하여 산점도를 만들고 표시합니다 .\n",
    "\n",
    "- x 축은 gpa열의 값입니다.\n",
    "- y 축은 label로 분류 될 확률입니다 1."
   ]
  },
  {
   "cell_type": "code",
   "execution_count": 29,
   "metadata": {},
   "outputs": [
    {
     "data": {
      "text/plain": [
       "<matplotlib.collections.PathCollection at 0x2a02bf6a948>"
      ]
     },
     "execution_count": 29,
     "metadata": {},
     "output_type": "execute_result"
    },
    {
     "data": {
      "image/png": "[encoded data removed]",
      "text/plain": [
       "<Figure size 432x288 with 1 Axes>"
      ]
     },
     "metadata": {
      "needs_background": "light"
     },
     "output_type": "display_data"
    }
   ],
   "source": [
    "logistic_model = LogisticRegression()\n",
    "logistic_model.fit(admissions[['gpa']], admissions['admit'])\n",
    "pred_probs = logistic_model.predict_proba(admissions[[\"gpa\"]])\n",
    "plt.scatter(admissions[\"gpa\"], pred_probs[:,1])"
   ]
  },
  {
   "cell_type": "markdown",
   "metadata": {},
   "source": [
    "## 문제 4\n",
    "\n",
    "- LogisticRegression 메서드predict 를 사용하여 훈련 세트의 각 레이블에 대한 예측값을 반환합니다.\n",
    "\n",
    "- predict메소드 의 매개 변수는 메소드 의 매개 변수 와 일치합니다 predict_proba.\n",
    "- X: 예측에 사용할 데이터 행입니다.\n",
    "- 결과를에 할당합니다 fitted_labels.\n",
    "- Matplotlib scatter함수를 사용하여 산점도를 만들고 표시합니다 .\n",
    "\n",
    "- x 축은 gpa열의 값입니다.\n",
    "- y 축은 fitted_labels"
   ]
  },
  {
   "cell_type": "code",
   "execution_count": 31,
   "metadata": {},
   "outputs": [
    {
     "data": {
      "text/plain": [
       "<matplotlib.collections.PathCollection at 0x2a02ba71cc8>"
      ]
     },
     "execution_count": 31,
     "metadata": {},
     "output_type": "execute_result"
    },
    {
     "data": {
      "image/png": "[encoded data removed]",
      "text/plain": [
       "<Figure size 432x288 with 1 Axes>"
      ]
     },
     "metadata": {
      "needs_background": "light"
     },
     "output_type": "display_data"
    }
   ],
   "source": [
    "logistic_model = LogisticRegression()\n",
    "2\n",
    "logistic_model.fit(admissions[[\"gpa\"]], admissions[\"admit\"])\n",
    "3\n",
    "fitted_labels = logistic_model.predict(admissions[[\"gpa\"]])\n",
    "4\n",
    "plt.scatter(admissions[\"gpa\"], fitted_labels)"
   ]
  },
  {
   "cell_type": "code",
   "execution_count": null,
   "metadata": {},
   "outputs": [],
   "source": []
  }
 ],
 "metadata": {
  "kernelspec": {
   "display_name": "Python 3",
   "language": "python",
   "name": "python3"
  },
  "language_info": {
   "codemirror_mode": {
    "name": "ipython",
    "version": 3
   },
   "file_extension": ".py",
   "mimetype": "text/x-python",
   "name": "python",
   "nbconvert_exporter": "python",
   "pygments_lexer": "ipython3",
   "version": "3.7.6"
  },
  "toc": {
   "base_numbering": 1,
   "nav_menu": {},
   "number_sections": true,
   "sideBar": true,
   "skip_h1_title": false,
   "title_cell": "Table of Contents",
   "title_sidebar": "Contents",
   "toc_cell": false,
   "toc_position": {},
   "toc_section_display": true,
   "toc_window_display": false
  }
 },
 "nbformat": 4,
 "nbformat_minor": 4
}
